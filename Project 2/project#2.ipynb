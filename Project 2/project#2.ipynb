{
 "cells": [
  {
   "cell_type": "markdown",
   "metadata": {},
   "source": [
    "# Dhruv Rana #"
   ]
  },
  {
   "cell_type": "markdown",
   "metadata": {},
   "source": [
    "#### Remove Previous Videos ####"
   ]
  },
  {
   "cell_type": "code",
   "execution_count": 16,
   "metadata": {},
   "outputs": [],
   "source": [
    "import os\n",
    "import shutil\n",
    "\n",
    "if os.path.exists(\"video\"): \n",
    "    shutil.rmtree(\"video\")"
   ]
  },
  {
   "cell_type": "markdown",
   "metadata": {},
   "source": [
    "#### Import Modules ####"
   ]
  },
  {
   "cell_type": "code",
   "execution_count": 17,
   "metadata": {},
   "outputs": [
    {
     "name": "stdout",
     "output_type": "stream",
     "text": [
      "cuda\n"
     ]
    }
   ],
   "source": [
    "import gym\n",
    "from gym.wrappers import RecordVideo\n",
    "import math\n",
    "import random\n",
    "import numpy as np\n",
    "import matplotlib\n",
    "import matplotlib.pyplot as plt\n",
    "from collections import namedtuple, deque\n",
    "from itertools import count\n",
    "from PIL import Image\n",
    "\n",
    "import torch\n",
    "import torch.nn as nn\n",
    "import torch.optim as optim\n",
    "import torch.nn.functional as F\n",
    "import torchvision.transforms as T\n",
    "\n",
    "if gym.__version__ < '0.26':\n",
    "    env = gym.make('CartPole-v1', new_step_api=True, render_mode='single_rgb_array').unwrapped\n",
    "else:\n",
    "    env = gym.make('CartPole-v1', render_mode='rgb_array').unwrapped\n",
    "\n",
    "# set up matplotlib\n",
    "is_ipython = 'inline' in matplotlib.get_backend()\n",
    "is_ipython = False\n",
    "if is_ipython:\n",
    "    from IPython import display\n",
    "    \n",
    "#plt.ion()\n",
    "\n",
    "# if gpu is to be used\n",
    "device = torch.device(\"cuda\" if torch.cuda.is_available() else \"cpu\")\n",
    "print(device)"
   ]
  },
  {
   "cell_type": "markdown",
   "metadata": {},
   "source": [
    "#### Run Env. w/o Training ####"
   ]
  },
  {
   "cell_type": "code",
   "execution_count": 18,
   "metadata": {},
   "outputs": [
    {
     "name": "stdout",
     "output_type": "stream",
     "text": [
      "step 0 [-0.02187162 -0.14749333 -0.03756722  0.25633782] 1.0 False False\n",
      "step 1 [-0.02482148  0.04814428 -0.03244047 -0.04795372] 1.0 False False\n",
      "step 2 [-0.0238586  -0.14649785 -0.03339954  0.23432001] 1.0 False False\n",
      "step 3 [-0.02678855  0.049085   -0.02871314 -0.06870827] 1.0 False False\n",
      "step 4 [-0.02580685  0.24460658 -0.03008731 -0.37031028] 1.0 False False\n",
      "step 5 [-0.02091472  0.4401428  -0.03749351 -0.6723262 ] 1.0 False False\n",
      "step 6 [-0.01211186  0.24556154 -0.05094004 -0.3916799 ] 1.0 False False\n",
      "step 7 [-0.00720063  0.441368   -0.05877364 -0.69997853] 1.0 False False\n",
      "step 8 [ 0.00162673  0.6372534  -0.0727732  -1.0105687 ] 1.0 False False\n",
      "step 9 [ 0.01437179  0.8332671  -0.09298458 -1.3251876 ] 1.0 False False\n",
      "step 10 [ 0.03103714  0.63943416 -0.11948833 -1.0629923 ] 1.0 False False\n",
      "step 11 [ 0.04382582  0.8359178  -0.14074817 -1.3906623 ] 1.0 False False\n",
      "step 12 [ 0.06054417  0.6428012  -0.16856143 -1.1450955 ] 1.0 False False\n",
      "step 13 [ 0.0734002   0.839675   -0.19146334 -1.4855434 ] 1.0 False False\n",
      "step 14 [ 0.0901937   0.64733225 -0.2211742  -1.2582482 ] 1.0 True False\n",
      "Moviepy - Building video c:\\Users\\dhruv\\Desktop\\College\\Rutgers\\2022FA(Fall)\\ROBOTICS&COMP VISION\\Robotic-Code-on-Git\\Project 2\\video\\No_Training-episode-0.mp4.\n",
      "Moviepy - Writing video c:\\Users\\dhruv\\Desktop\\College\\Rutgers\\2022FA(Fall)\\ROBOTICS&COMP VISION\\Robotic-Code-on-Git\\Project 2\\video\\No_Training-episode-0.mp4\n",
      "\n"
     ]
    },
    {
     "name": "stderr",
     "output_type": "stream",
     "text": [
      "                                                   "
     ]
    },
    {
     "name": "stdout",
     "output_type": "stream",
     "text": [
      "Moviepy - Done !\n",
      "Moviepy - video ready c:\\Users\\dhruv\\Desktop\\College\\Rutgers\\2022FA(Fall)\\ROBOTICS&COMP VISION\\Robotic-Code-on-Git\\Project 2\\video\\No_Training-episode-0.mp4\n"
     ]
    },
    {
     "name": "stderr",
     "output_type": "stream",
     "text": [
      "\r"
     ]
    }
   ],
   "source": [
    "env = gym.wrappers.RecordVideo(env,video_folder=\"./video\",video_length=0,name_prefix=\"No_Training\",)\n",
    "\n",
    "env.reset()\n",
    "for i in range(100):\n",
    "\n",
    "  # env.action_space.sample() produces either 0 (left) or 1 (right).\n",
    "  output = env.step(env.action_space.sample())\n",
    "\n",
    "  observation = output[0] # Cart Position , Cart Velocity, Pole Angle, Pole Angular Velocity\n",
    "  reward = output[1] # +1 for every step (Goal : keep the pole up as long as possible)\n",
    "  done = output[2] # boolean : True-> when pole falls (pole angle more than 12, postioion more than 2.4)\n",
    "  info = output[3] # \n",
    "  \n",
    "  print(\"step\", i, observation, reward, done, info)\n",
    "  \n",
    "  if done:\n",
    "    break\n",
    "\n",
    "env.close()"
   ]
  },
  {
   "cell_type": "code",
   "execution_count": 19,
   "metadata": {},
   "outputs": [],
   "source": [
    "from base64 import b64encode\n",
    "\n",
    "def play_video(filename):\n",
    "    video = open(filename,'rb').read()\n",
    "    decode = 'data:video/mp4;base64,' + b64encode(video).decode()\n",
    "    return decode"
   ]
  },
  {
   "cell_type": "markdown",
   "metadata": {},
   "source": [
    "#### Display Video ####"
   ]
  },
  {
   "cell_type": "code",
   "execution_count": 20,
   "metadata": {},
   "outputs": [
    {
     "data": {
      "text/html": [
       "\n",
       "<video controls>\n",
       "    <source src = \"data:video/mp4;base64,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\" type =\"video/mp4\">\n",
       "</video>\n"
      ],
      "text/plain": [
       "<IPython.core.display.HTML object>"
      ]
     },
     "execution_count": 20,
     "metadata": {},
     "output_type": "execute_result"
    }
   ],
   "source": [
    "from IPython.display import HTML\n",
    "\n",
    "HTML(\"\"\"\n",
    "<video controls>\n",
    "    <source src = \"%s\" type =\"video/mp4\">\n",
    "</video>\n",
    "\"\"\"%play_video(\"video/No_Training-episode-0.mp4\")\n",
    ")"
   ]
  },
  {
   "cell_type": "code",
   "execution_count": 21,
   "metadata": {},
   "outputs": [],
   "source": [
    "env.reset()"
   ]
  },
  {
   "cell_type": "code",
   "execution_count": 22,
   "metadata": {},
   "outputs": [],
   "source": [
    "Transition = namedtuple('Transition',\n",
    "                        ('state', 'action', 'next_state', 'reward'))\n",
    "\n",
    "\n",
    "class ReplayMemory(object):\n",
    "\n",
    "    def __init__(self, capacity):\n",
    "        self.memory = deque([],maxlen=capacity)\n",
    "\n",
    "    def push(self, *args):\n",
    "        \"\"\"Save a transition\"\"\"\n",
    "        self.memory.append(Transition(*args))\n",
    "\n",
    "    def sample(self, batch_size):\n",
    "        return random.sample(self.memory, batch_size)\n",
    "\n",
    "    def __len__(self):\n",
    "        return len(self.memory)"
   ]
  },
  {
   "cell_type": "markdown",
   "metadata": {},
   "source": [
    "#### Create Deep Netwrok ####"
   ]
  },
  {
   "cell_type": "code",
   "execution_count": 23,
   "metadata": {},
   "outputs": [],
   "source": [
    "class DQN(nn.Module):\n",
    "    def __init__(self, h, w, outputs):\n",
    "        super(DQN, self).__init__()\n",
    "        self.conv1 = nn.Conv2d(3, 16, kernel_size=5, stride=2)\n",
    "        self.bn1 = nn.BatchNorm2d(16)\n",
    "        self.conv2 = nn.Conv2d(16, 32, kernel_size=5, stride=2)\n",
    "        self.bn2 = nn.BatchNorm2d(32)\n",
    "        self.conv3 = nn.Conv2d(32, 32, kernel_size=5, stride=2)\n",
    "        self.bn3 = nn.BatchNorm2d(32)\n",
    "\n",
    "        # Number of Linear input connections depends on output of conv2d layers\n",
    "        # and therefore the input image size, so compute it.\n",
    "        def conv2d_size_out(size, kernel_size = 5, stride = 2):\n",
    "            return (size - (kernel_size - 1) - 1) // stride  + 1\n",
    "        convw = conv2d_size_out(conv2d_size_out(conv2d_size_out(w)))\n",
    "        convh = conv2d_size_out(conv2d_size_out(conv2d_size_out(h)))\n",
    "        linear_input_size = convw * convh * 32\n",
    "        self.head = nn.Linear(linear_input_size, outputs)\n",
    "\n",
    "    # Called with either one element to determine next action, or a batch\n",
    "    # during optimization. Returns tensor([[left0exp,right0exp]...]).\n",
    "    def forward(self, x):\n",
    "        x = x.to(device)\n",
    "        x = F.relu(self.bn1(self.conv1(x)))\n",
    "        x = F.relu(self.bn2(self.conv2(x)))\n",
    "        x = F.relu(self.bn3(self.conv3(x)))\n",
    "        return self.head(x.view(x.size(0), -1))"
   ]
  },
  {
   "cell_type": "code",
   "execution_count": 24,
   "metadata": {},
   "outputs": [
    {
     "name": "stderr",
     "output_type": "stream",
     "text": [
      "C:\\Users\\dhruv\\AppData\\Local\\Temp\\ipykernel_14636\\2329790446.py:2: DeprecationWarning: CUBIC is deprecated and will be removed in Pillow 10 (2023-07-01). Use Resampling.BICUBIC instead.\n",
      "  T.Resize(40, interpolation=Image.CUBIC),\n"
     ]
    },
    {
     "data": {
      "image/png": "[encoded data removed]",
      "text/plain": [
       "<Figure size 640x480 with 1 Axes>"
      ]
     },
     "metadata": {},
     "output_type": "display_data"
    }
   ],
   "source": [
    "resize = T.Compose([T.ToPILImage(),\n",
    "                    T.Resize(40, interpolation=Image.CUBIC),\n",
    "                    T.ToTensor()])\n",
    "\n",
    "\n",
    "def get_cart_location(screen_width):\n",
    "    world_width = env.x_threshold * 2\n",
    "    scale = screen_width / world_width\n",
    "    return int(env.state[0] * scale + screen_width / 2.0)  # MIDDLE OF CART\n",
    "\n",
    "def get_screen():\n",
    "    # Returned screen requested by gym is 400x600x3, but is sometimes larger\n",
    "    # such as 800x1200x3. Transpose it into torch order (CHW).\n",
    "    screen = env.render().transpose((2, 0, 1))\n",
    "    # Cart is in the lower half, so strip off the top and bottom of the screen\n",
    "    _, screen_height, screen_width = screen.shape\n",
    "    screen = screen[:, int(screen_height*0.4):int(screen_height * 0.8)]\n",
    "    view_width = int(screen_width * 0.6)\n",
    "    cart_location = get_cart_location(screen_width)\n",
    "    if cart_location < view_width // 2:\n",
    "        slice_range = slice(view_width)\n",
    "    elif cart_location > (screen_width - view_width // 2):\n",
    "        slice_range = slice(-view_width, None)\n",
    "    else:\n",
    "        slice_range = slice(cart_location - view_width // 2,\n",
    "                            cart_location + view_width // 2)\n",
    "    # Strip off the edges, so that we have a square image centered on a cart\n",
    "    screen = screen[:, :, slice_range]\n",
    "    # Convert to float, rescale, convert to torch tensor\n",
    "    # (this doesn't require a copy)\n",
    "    screen = np.ascontiguousarray(screen, dtype=np.float32) / 255\n",
    "    screen = torch.from_numpy(screen)\n",
    "    # Resize, and add a batch dimension (BCHW)\n",
    "    return resize(screen).unsqueeze(0)\n",
    "\n",
    "\n",
    "env.reset()\n",
    "plt.figure()\n",
    "plt.imshow(get_screen().cpu().squeeze(0).permute(1, 2, 0).numpy(),\n",
    "           interpolation='none')\n",
    "plt.title('Example extracted screen')\n",
    "plt.show()"
   ]
  },
  {
   "cell_type": "code",
   "execution_count": 25,
   "metadata": {},
   "outputs": [],
   "source": [
    "BATCH_SIZE = 128\n",
    "GAMMA = 0.999\n",
    "EPS_START = 0.9\n",
    "EPS_END = 0.05\n",
    "EPS_DECAY = 200\n",
    "TARGET_UPDATE = 10\n",
    "\n",
    "# Get screen size so that we can initialize layers correctly based on shape\n",
    "# returned from AI gym. Typical dimensions at this point are close to 3x40x90\n",
    "# which is the result of a clamped and down-scaled render buffer in get_screen()\n",
    "init_screen = get_screen()\n",
    "_, _, screen_height, screen_width = init_screen.shape\n",
    "\n",
    "# Get number of actions from gym action space\n",
    "n_actions = env.action_space.n\n",
    "\n",
    "policy_net = DQN(screen_height, screen_width, n_actions).to(device)\n",
    "target_net = DQN(screen_height, screen_width, n_actions).to(device)\n",
    "target_net.load_state_dict(policy_net.state_dict())\n",
    "target_net.eval()\n",
    "\n",
    "optimizer = optim.RMSprop(policy_net.parameters())\n",
    "memory = ReplayMemory(10000)\n",
    "\n",
    "\n",
    "steps_done = 0\n",
    "\n",
    "\n",
    "def select_action(state):\n",
    "    global steps_done\n",
    "    sample = random.random()\n",
    "    eps_threshold = EPS_END + (EPS_START - EPS_END) * \\\n",
    "        math.exp(-1. * steps_done / EPS_DECAY)\n",
    "    steps_done += 1\n",
    "    if sample > eps_threshold:\n",
    "        with torch.no_grad():\n",
    "            # t.max(1) will return largest column value of each row.\n",
    "            # second column on max result is index of where max element was\n",
    "            # found, so we pick action with the larger expected reward.\n",
    "            return policy_net(state).max(1)[1].view(1, 1)\n",
    "    else:\n",
    "        return torch.tensor([[random.randrange(n_actions)]], device=device, dtype=torch.long)\n",
    "\n",
    "\n",
    "episode_durations = []\n",
    "\n",
    "\n",
    "def plot_durations():\n",
    "    plt.figure()\n",
    "    plt.clf()\n",
    "    durations_t = torch.tensor(episode_durations, dtype=torch.float)\n",
    "    plt.title('Training...')\n",
    "    plt.xlabel('Episode')\n",
    "    plt.ylabel('Duration')\n",
    "    plt.plot(durations_t.numpy())\n",
    "    # Take 100 episode averages and plot them too\n",
    "    if len(durations_t) >= 100:\n",
    "        means = durations_t.unfold(0, 100, 1).mean(1).view(-1)\n",
    "        means = torch.cat((torch.zeros(99), means))\n",
    "        plt.plot(means.numpy())\n",
    "\n",
    "    plt.pause(0.001)  # pause a bit so that plots are updated\n",
    "    \n",
    "    if is_ipython:\n",
    "        display.clear_output(wait=True)\n",
    "        display.display(plt.gcf())"
   ]
  },
  {
   "cell_type": "code",
   "execution_count": 26,
   "metadata": {},
   "outputs": [],
   "source": [
    "def optimize_model():\n",
    "    if len(memory) < BATCH_SIZE:\n",
    "        return\n",
    "    transitions = memory.sample(BATCH_SIZE)\n",
    "    # Transpose the batch (see https://stackoverflow.com/a/19343/3343043 for\n",
    "    # detailed explanation). This converts batch-array of Transitions\n",
    "    # to Transition of batch-arrays.\n",
    "    batch = Transition(*zip(*transitions))\n",
    "\n",
    "    # Compute a mask of non-final states and concatenate the batch elements\n",
    "    # (a final state would've been the one after which simulation ended)\n",
    "    non_final_mask = torch.tensor(tuple(map(lambda s: s is not None,\n",
    "                                          batch.next_state)), device=device, dtype=torch.bool)\n",
    "    non_final_next_states = torch.cat([s for s in batch.next_state\n",
    "                                                if s is not None])\n",
    "    state_batch = torch.cat(batch.state)\n",
    "    action_batch = torch.cat(batch.action)\n",
    "    reward_batch = torch.cat(batch.reward)\n",
    "\n",
    "    # Compute Q(s_t, a) - the model computes Q(s_t), then we select the\n",
    "    # columns of actions taken. These are the actions which would've been taken\n",
    "    # for each batch state according to policy_net\n",
    "    state_action_values = policy_net(state_batch).gather(1, action_batch)\n",
    "\n",
    "    # Compute V(s_{t+1}) for all next states.\n",
    "    # Expected values of actions for non_final_next_states are computed based\n",
    "    # on the \"older\" target_net; selecting their best reward with max(1)[0].\n",
    "    # This is merged based on the mask, such that we'll have either the expected\n",
    "    # state value or 0 in case the state was final.\n",
    "    next_state_values = torch.zeros(BATCH_SIZE, device=device)\n",
    "    next_state_values[non_final_mask] = target_net(non_final_next_states).max(1)[0].detach()\n",
    "    # Compute the expected Q values\n",
    "    expected_state_action_values = (next_state_values * GAMMA) + reward_batch\n",
    "\n",
    "    # Compute Huber loss\n",
    "    criterion = nn.SmoothL1Loss()\n",
    "    loss = criterion(state_action_values, expected_state_action_values.unsqueeze(1))\n",
    "\n",
    "    # Optimize the model\n",
    "    optimizer.zero_grad()\n",
    "    loss.backward()\n",
    "    for param in policy_net.parameters():\n",
    "        param.grad.data.clamp_(-1, 1)\n",
    "    optimizer.step()"
   ]
  },
  {
   "cell_type": "code",
   "execution_count": 27,
   "metadata": {},
   "outputs": [
    {
     "name": "stdout",
     "output_type": "stream",
     "text": [
      "Complete\n"
     ]
    },
    {
     "data": {
      "image/png": "[encoded data removed]",
      "text/plain": [
       "<Figure size 640x480 with 1 Axes>"
      ]
     },
     "metadata": {},
     "output_type": "display_data"
    }
   ],
   "source": [
    "num_episodes = 1000\n",
    "for i_episode in range(num_episodes):\n",
    "    # Initialize the environment and state\n",
    "    env.reset()\n",
    "    last_screen = get_screen()\n",
    "    current_screen = get_screen()\n",
    "    state = current_screen - last_screen\n",
    "    for t in count():\n",
    "        # Select and perform an action\n",
    "        action = select_action(state)\n",
    "        _, reward, done, _, _ = env.step(action.item())\n",
    "        reward = torch.tensor([reward], device=device)\n",
    "\n",
    "        # Observe new state\n",
    "        last_screen = current_screen\n",
    "        current_screen = get_screen()\n",
    "        if not done:\n",
    "            next_state = current_screen - last_screen\n",
    "        else:\n",
    "            next_state = None\n",
    "\n",
    "        # Store the transition in memory\n",
    "        memory.push(state, action, next_state, reward)\n",
    "\n",
    "        # Move to the next state\n",
    "        state = next_state\n",
    "\n",
    "        # Perform one step of the optimization (on the policy network)\n",
    "        optimize_model()\n",
    "        if done:\n",
    "            episode_durations.append(t + 1)\n",
    "            break\n",
    "\n",
    "        # Update the target network, copying all weights and biases in DQN\n",
    "        if t % TARGET_UPDATE == 0:\n",
    "            target_net.load_state_dict(policy_net.state_dict())\n",
    "\n",
    "print('Complete')\n",
    "env.render()\n",
    "env.close()\n",
    "plt.ioff()\n",
    "plot_durations()"
   ]
  },
  {
   "cell_type": "code",
   "execution_count": 28,
   "metadata": {},
   "outputs": [
    {
     "data": {
      "text/plain": [
       "DQN(\n",
       "  (conv1): Conv2d(3, 16, kernel_size=(5, 5), stride=(2, 2))\n",
       "  (bn1): BatchNorm2d(16, eps=1e-05, momentum=0.1, affine=True, track_running_stats=True)\n",
       "  (conv2): Conv2d(16, 32, kernel_size=(5, 5), stride=(2, 2))\n",
       "  (bn2): BatchNorm2d(32, eps=1e-05, momentum=0.1, affine=True, track_running_stats=True)\n",
       "  (conv3): Conv2d(32, 32, kernel_size=(5, 5), stride=(2, 2))\n",
       "  (bn3): BatchNorm2d(32, eps=1e-05, momentum=0.1, affine=True, track_running_stats=True)\n",
       "  (head): Linear(in_features=512, out_features=2, bias=True)\n",
       ")"
      ]
     },
     "execution_count": 28,
     "metadata": {},
     "output_type": "execute_result"
    }
   ],
   "source": [
    "target_net.eval()"
   ]
  },
  {
   "cell_type": "code",
   "execution_count": 29,
   "metadata": {},
   "outputs": [
    {
     "name": "stdout",
     "output_type": "stream",
     "text": [
      "step 0 [-0.04427851  0.22541444  0.01964642 -0.23997815] 1.0 False False\n",
      "step 1 [-0.03136522  0.6151602   0.00431886 -0.8143677 ] 1.0 False False\n",
      "step 2 [-0.00285756  1.0055001  -0.03408228 -1.4021026 ] 1.0 False False\n",
      "step 3 [ 0.04127301  1.3968077  -0.0962292  -2.0165985 ] 1.0 False False\n",
      "Moviepy - Building video c:\\Users\\dhruv\\Desktop\\College\\Rutgers\\2022FA(Fall)\\ROBOTICS&COMP VISION\\Robotic-Code-on-Git\\Project 2\\video\\Training-episode-0.mp4.\n",
      "Moviepy - Writing video c:\\Users\\dhruv\\Desktop\\College\\Rutgers\\2022FA(Fall)\\ROBOTICS&COMP VISION\\Robotic-Code-on-Git\\Project 2\\video\\Training-episode-0.mp4\n",
      "\n"
     ]
    },
    {
     "name": "stderr",
     "output_type": "stream",
     "text": [
      "                                                  "
     ]
    },
    {
     "name": "stdout",
     "output_type": "stream",
     "text": [
      "Moviepy - Done !\n",
      "Moviepy - video ready c:\\Users\\dhruv\\Desktop\\College\\Rutgers\\2022FA(Fall)\\ROBOTICS&COMP VISION\\Robotic-Code-on-Git\\Project 2\\video\\Training-episode-0.mp4\n",
      "step 4 [ 0.10106492  1.7888522  -0.18331029 -2.6688392 ] 1.0 False False\n",
      "step 5 [ 0.17653799  2.1803312  -0.29691568 -3.3654864 ] 0.0 True False\n"
     ]
    },
    {
     "name": "stderr",
     "output_type": "stream",
     "text": [
      "\r"
     ]
    }
   ],
   "source": [
    "env = gym.make(\"CartPole-v1\",render_mode='rgb_array')\n",
    "video = RecordVideo(env,video_folder=\"./video\",video_length=0,name_prefix=\"Training\",)\n",
    "done = False\n",
    "timeout = 10000000\n",
    "i = 0\n",
    "\n",
    "env.reset()\n",
    "video.reset()\n",
    "while timeout >= 0:\n",
    "\n",
    "  # env.action_space.sample() produces either 0 (left) or 1 (right).\n",
    "  last_screen = get_screen()\n",
    "  current_screen = get_screen()\n",
    "  state = current_screen - last_screen\n",
    "  action = target_net(state).max(1)[1].view(1, 1).cpu().item()\n",
    "  \n",
    "  output = env.step(action)\n",
    "  videoOut = video.step(action)\n",
    "\n",
    "  observation = output[0] # Cart Position , Cart Velocity, Pole Angle, Pole Angular Velocity\n",
    "  reward = output[1] # +1 for every step (Goal : keep the pole up as long as possible)\n",
    "  done = output[2] # boolean : True-> when pole falls (pole angle more than 12, postioion more than 2.4)\n",
    "  info = output[3] # \n",
    "  \n",
    "  print(\"step\", i, observation, reward, done, info)\n",
    "  \n",
    "  i = i + 1\n",
    "  timeout = timeout - 1\n",
    "  \n",
    "  if done:\n",
    "    break\n",
    "  \n",
    "\n",
    "video.close()\n",
    "env.close()"
   ]
  },
  {
   "cell_type": "code",
   "execution_count": 30,
   "metadata": {},
   "outputs": [
    {
     "data": {
      "text/html": [
       "\n",
       "<video controls>\n",
       "    <source src = \"data:video/mp4;base64,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\" type =\"video/mp4\">\n",
       "</video>\n"
      ],
      "text/plain": [
       "<IPython.core.display.HTML object>"
      ]
     },
     "execution_count": 30,
     "metadata": {},
     "output_type": "execute_result"
    }
   ],
   "source": [
    "from IPython.display import HTML\n",
    "\n",
    "HTML(\"\"\"\n",
    "<video controls>\n",
    "    <source src = \"%s\" type =\"video/mp4\">\n",
    "</video>\n",
    "\"\"\"%play_video(\"video/Training-episode-0.mp4\")\n",
    ")"
   ]
  }
 ],
 "metadata": {
  "kernelspec": {
   "display_name": "Python 3.9.15 ('ComputerVision')",
   "language": "python",
   "name": "python3"
  },
  "language_info": {
   "codemirror_mode": {
    "name": "ipython",
    "version": 3
   },
   "file_extension": ".py",
   "mimetype": "text/x-python",
   "name": "python",
   "nbconvert_exporter": "python",
   "pygments_lexer": "ipython3",
   "version": "3.9.15"
  },
  "orig_nbformat": 4,
  "vscode": {
   "interpreter": {
    "hash": "2531915ab5b6d7f6e073a1b4ef06ed0b2b780c8145dd924165dc427f5e6c9cf0"
   }
  }
 },
 "nbformat": 4,
 "nbformat_minor": 2
}
