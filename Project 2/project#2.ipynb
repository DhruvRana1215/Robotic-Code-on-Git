{
 "cells": [
  {
   "cell_type": "markdown",
   "metadata": {},
   "source": [
    "# Dhruv Rana #"
   ]
  },
  {
   "cell_type": "markdown",
   "metadata": {},
   "source": [
    "#### Remove Previous Videos ####"
   ]
  },
  {
   "cell_type": "code",
   "execution_count": 1,
   "metadata": {},
   "outputs": [],
   "source": [
    "import os\n",
    "import shutil\n",
    "\n",
    "if os.path.exists(\"video\"): \n",
    "    shutil.rmtree(\"video\")"
   ]
  },
  {
   "cell_type": "markdown",
   "metadata": {},
   "source": [
    "#### Import Modules ####"
   ]
  },
  {
   "cell_type": "code",
   "execution_count": 2,
   "metadata": {},
   "outputs": [
    {
     "name": "stdout",
     "output_type": "stream",
     "text": [
      "cuda\n"
     ]
    }
   ],
   "source": [
    "import gym\n",
    "from gym.wrappers import RecordVideo\n",
    "import math\n",
    "import random\n",
    "import numpy as np\n",
    "import matplotlib\n",
    "import matplotlib.pyplot as plt\n",
    "from collections import namedtuple, deque\n",
    "from itertools import count\n",
    "from PIL import Image\n",
    "\n",
    "import torch\n",
    "import torch.nn as nn\n",
    "import torch.optim as optim\n",
    "import torch.nn.functional as F\n",
    "import torchvision.transforms as T\n",
    "\n",
    "if gym.__version__ < '0.26':\n",
    "    env = gym.make('CartPole-v1', new_step_api=True, render_mode='single_rgb_array').unwrapped\n",
    "else:\n",
    "    env = gym.make('CartPole-v1', render_mode='rgb_array').unwrapped\n",
    "\n",
    "# set up matplotlib\n",
    "is_ipython = 'inline' in matplotlib.get_backend()\n",
    "is_ipython = False\n",
    "if is_ipython:\n",
    "    from IPython import display\n",
    "    \n",
    "#plt.ion()\n",
    "\n",
    "# if gpu is to be used\n",
    "device = torch.device(\"cuda\" if torch.cuda.is_available() else \"cpu\")\n",
    "print(device)"
   ]
  },
  {
   "cell_type": "markdown",
   "metadata": {},
   "source": [
    "#### Run Env. w/o Training ####"
   ]
  },
  {
   "cell_type": "code",
   "execution_count": 3,
   "metadata": {},
   "outputs": [
    {
     "name": "stdout",
     "output_type": "stream",
     "text": [
      "step 0 [ 0.01345751  0.20431386 -0.03577102 -0.3492146 ] 1.0 False False\n",
      "step 1 [ 0.01754378  0.39992583 -0.04275531 -0.6529593 ] 1.0 False False\n",
      "step 2 [ 0.0255423   0.20542452 -0.0558145  -0.3740402 ] 1.0 False False\n",
      "step 3 [ 0.02965079  0.01113799 -0.0632953  -0.09946515] 1.0 False False\n",
      "step 4 [ 0.02987355 -0.1830224  -0.0652846   0.17259584] 1.0 False False\n",
      "step 5 [ 0.0262131  -0.37715217 -0.06183269  0.44399014] 1.0 False False\n",
      "step 6 [ 0.01867006 -0.57134724 -0.05295288  0.7165588 ] 1.0 False False\n",
      "step 7 [ 0.00724311 -0.76569784 -0.03862171  0.99211526] 1.0 False False\n",
      "step 8 [-0.00807084 -0.570081   -0.0187794   0.6875568 ] 1.0 False False\n",
      "step 9 [-0.01947246 -0.76493734 -0.00502826  0.974269  ] 1.0 False False\n",
      "step 10 [-0.03477121 -0.5697483   0.01445711  0.6800108 ] 1.0 False False\n",
      "step 11 [-0.04616617 -0.3748301   0.02805733  0.3919143 ] 1.0 False False\n",
      "step 12 [-0.05366278 -0.18011731  0.03589562  0.10820787] 1.0 False False\n",
      "step 13 [-0.05726512  0.01447236  0.03805977 -0.17293757] 1.0 False False\n",
      "step 14 [-0.05697568 -0.18117306  0.03460102  0.13150491] 1.0 False False\n",
      "step 15 [-0.06059914 -0.37677315  0.03723112  0.43490008] 1.0 False False\n",
      "step 16 [-0.0681346  -0.1821975   0.04592912  0.1541823 ] 1.0 False False\n",
      "step 17 [-0.07177855  0.01223776  0.04901277 -0.12366461] 1.0 False False\n",
      "step 18 [-0.07153379 -0.18355086  0.04653947  0.18406963] 1.0 False False\n",
      "step 19 [-0.07520481 -0.37930676  0.05022087  0.4910632 ] 1.0 False False\n",
      "step 20 [-0.08279095 -0.5750998   0.06004213  0.7991412 ] 1.0 False False\n",
      "step 21 [-0.09429295 -0.7709918   0.07602496  1.1100914 ] 1.0 False False\n",
      "step 22 [-0.10971278 -0.57694656  0.09822679  0.8421942 ] 1.0 False False\n",
      "step 23 [-0.12125171 -0.38329268  0.11507067  0.5819459 ] 1.0 False False\n",
      "step 24 [-0.12891756 -0.5798229   0.1267096   0.90854776] 1.0 False False\n",
      "step 25 [-0.14051402 -0.38662273  0.14488055  0.65822387] 1.0 False False\n",
      "step 26 [-0.14824648 -0.5834323   0.15804502  0.99279135] 1.0 False False\n",
      "step 27 [-0.15991512 -0.7802752   0.17790085  1.3306478 ] 1.0 False False\n",
      "step 28 [-0.17552063 -0.9771382   0.2045138   1.6733092 ] 1.0 False False\n",
      "step 29 [-0.1950634 -1.1739633  0.23798    2.0221028] 1.0 True False\n",
      "Moviepy - Building video c:\\Users\\dhruv\\Desktop\\College\\Rutgers\\2022FA(Fall)\\ROBOTICS&COMP VISION\\Robotic-Code-on-Git\\Project 2\\video\\No_Training-episode-0.mp4.\n",
      "Moviepy - Writing video c:\\Users\\dhruv\\Desktop\\College\\Rutgers\\2022FA(Fall)\\ROBOTICS&COMP VISION\\Robotic-Code-on-Git\\Project 2\\video\\No_Training-episode-0.mp4\n",
      "\n"
     ]
    },
    {
     "name": "stderr",
     "output_type": "stream",
     "text": [
      "                                                   "
     ]
    },
    {
     "name": "stdout",
     "output_type": "stream",
     "text": [
      "Moviepy - Done !\n",
      "Moviepy - video ready c:\\Users\\dhruv\\Desktop\\College\\Rutgers\\2022FA(Fall)\\ROBOTICS&COMP VISION\\Robotic-Code-on-Git\\Project 2\\video\\No_Training-episode-0.mp4\n"
     ]
    },
    {
     "name": "stderr",
     "output_type": "stream",
     "text": [
      "\r"
     ]
    }
   ],
   "source": [
    "env = gym.wrappers.RecordVideo(env,video_folder=\"./video\",video_length=2000,name_prefix=\"No_Training\",)\n",
    "\n",
    "env.reset()\n",
    "for i in range(100):\n",
    "\n",
    "  # env.action_space.sample() produces either 0 (left) or 1 (right).\n",
    "  output = env.step(env.action_space.sample())\n",
    "\n",
    "  observation = output[0] # Cart Position , Cart Velocity, Pole Angle, Pole Angular Velocity\n",
    "  reward = output[1] # +1 for every step (Goal : keep the pole up as long as possible)\n",
    "  done = output[2] # boolean : True-> when pole falls (pole angle more than 12, postioion more than 2.4)\n",
    "  info = output[3] # \n",
    "  \n",
    "  print(\"step\", i, observation, reward, done, info)\n",
    "  \n",
    "  if done:\n",
    "    break\n",
    "\n",
    "env.close()"
   ]
  },
  {
   "cell_type": "code",
   "execution_count": 4,
   "metadata": {},
   "outputs": [],
   "source": [
    "from base64 import b64encode\n",
    "\n",
    "def play_video(filename):\n",
    "    video = open(filename,'rb').read()\n",
    "    decode = 'data:video/mp4;base64,' + b64encode(video).decode()\n",
    "    return decode"
   ]
  },
  {
   "cell_type": "markdown",
   "metadata": {},
   "source": [
    "#### Display Video ####"
   ]
  },
  {
   "cell_type": "code",
   "execution_count": 5,
   "metadata": {},
   "outputs": [
    {
     "data": {
      "text/html": [
       "\n",
       "<video controls>\n",
       "    <source src = \"data:video/mp4;base64,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\" type =\"video/mp4\">\n",
       "</video>\n"
      ],
      "text/plain": [
       "<IPython.core.display.HTML object>"
      ]
     },
     "execution_count": 5,
     "metadata": {},
     "output_type": "execute_result"
    }
   ],
   "source": [
    "from IPython.display import HTML\n",
    "\n",
    "HTML(\"\"\"\n",
    "<video controls>\n",
    "    <source src = \"%s\" type =\"video/mp4\">\n",
    "</video>\n",
    "\"\"\"%play_video(\"video/No_Training-episode-0.mp4\")\n",
    ")"
   ]
  },
  {
   "cell_type": "code",
   "execution_count": 6,
   "metadata": {},
   "outputs": [],
   "source": [
    "env = gym.make('CartPole-v1', render_mode='rgb_array').unwrapped"
   ]
  },
  {
   "cell_type": "code",
   "execution_count": 7,
   "metadata": {},
   "outputs": [],
   "source": [
    "Transition = namedtuple('Transition',\n",
    "                        ('state', 'action', 'next_state', 'reward'))\n",
    "\n",
    "\n",
    "class ReplayMemory(object):\n",
    "\n",
    "    def __init__(self, capacity):\n",
    "        self.memory = deque([],maxlen=capacity)\n",
    "\n",
    "    def push(self, *args):\n",
    "        \"\"\"Save a transition\"\"\"\n",
    "        self.memory.append(Transition(*args))\n",
    "\n",
    "    def sample(self, batch_size):\n",
    "        return random.sample(self.memory, batch_size)\n",
    "\n",
    "    def __len__(self):\n",
    "        return len(self.memory)"
   ]
  },
  {
   "cell_type": "markdown",
   "metadata": {},
   "source": [
    "#### Create Deep Netwrok ####"
   ]
  },
  {
   "cell_type": "code",
   "execution_count": 8,
   "metadata": {},
   "outputs": [],
   "source": [
    "class DQN(nn.Module):\n",
    "    def __init__(self, h, w, outputs):\n",
    "        super(DQN, self).__init__()\n",
    "        self.conv1 = nn.Conv2d(3, 16, kernel_size=5, stride=2)\n",
    "        self.bn1 = nn.BatchNorm2d(16)\n",
    "        self.conv2 = nn.Conv2d(16, 32, kernel_size=5, stride=2)\n",
    "        self.bn2 = nn.BatchNorm2d(32)\n",
    "        self.conv3 = nn.Conv2d(32, 32, kernel_size=5, stride=2)\n",
    "        self.bn3 = nn.BatchNorm2d(32)\n",
    "\n",
    "        # Number of Linear input connections depends on output of conv2d layers\n",
    "        # and therefore the input image size, so compute it.\n",
    "        def conv2d_size_out(size, kernel_size = 5, stride = 2):\n",
    "            return (size - (kernel_size - 1) - 1) // stride  + 1\n",
    "        convw = conv2d_size_out(conv2d_size_out(conv2d_size_out(w)))\n",
    "        convh = conv2d_size_out(conv2d_size_out(conv2d_size_out(h)))\n",
    "        linear_input_size = convw * convh * 32\n",
    "        self.head = nn.Linear(linear_input_size, outputs)\n",
    "\n",
    "    # Called with either one element to determine next action, or a batch\n",
    "    # during optimization. Returns tensor([[left0exp,right0exp]...]).\n",
    "    def forward(self, x):\n",
    "        x = x.to(device)\n",
    "        x = F.relu(self.bn1(self.conv1(x)))\n",
    "        x = F.relu(self.bn2(self.conv2(x)))\n",
    "        x = F.relu(self.bn3(self.conv3(x)))\n",
    "        return self.head(x.view(x.size(0), -1))"
   ]
  },
  {
   "cell_type": "code",
   "execution_count": 9,
   "metadata": {},
   "outputs": [
    {
     "name": "stderr",
     "output_type": "stream",
     "text": [
      "C:\\Users\\dhruv\\AppData\\Local\\Temp\\ipykernel_28004\\2329790446.py:2: DeprecationWarning: CUBIC is deprecated and will be removed in Pillow 10 (2023-07-01). Use Resampling.BICUBIC instead.\n",
      "  T.Resize(40, interpolation=Image.CUBIC),\n",
      "c:\\Users\\dhruv\\.conda\\envs\\ComputerVision\\lib\\site-packages\\torchvision\\transforms\\transforms.py:329: UserWarning: Argument 'interpolation' of type int is deprecated since 0.13 and will be removed in 0.15. Please use InterpolationMode enum.\n",
      "  warnings.warn(\n"
     ]
    },
    {
     "data": {
      "image/png": "[encoded data removed]",
      "text/plain": [
       "<Figure size 640x480 with 1 Axes>"
      ]
     },
     "metadata": {},
     "output_type": "display_data"
    }
   ],
   "source": [
    "resize = T.Compose([T.ToPILImage(),\n",
    "                    T.Resize(40, interpolation=Image.CUBIC),\n",
    "                    T.ToTensor()])\n",
    "\n",
    "\n",
    "def get_cart_location(screen_width):\n",
    "    world_width = env.x_threshold * 2\n",
    "    scale = screen_width / world_width\n",
    "    return int(env.state[0] * scale + screen_width / 2.0)  # MIDDLE OF CART\n",
    "\n",
    "def get_screen():\n",
    "    # Returned screen requested by gym is 400x600x3, but is sometimes larger\n",
    "    # such as 800x1200x3. Transpose it into torch order (CHW).\n",
    "    screen = env.render().transpose((2, 0, 1))\n",
    "    # Cart is in the lower half, so strip off the top and bottom of the screen\n",
    "    _, screen_height, screen_width = screen.shape\n",
    "    screen = screen[:, int(screen_height*0.4):int(screen_height * 0.8)]\n",
    "    view_width = int(screen_width * 0.6)\n",
    "    cart_location = get_cart_location(screen_width)\n",
    "    if cart_location < view_width // 2:\n",
    "        slice_range = slice(view_width)\n",
    "    elif cart_location > (screen_width - view_width // 2):\n",
    "        slice_range = slice(-view_width, None)\n",
    "    else:\n",
    "        slice_range = slice(cart_location - view_width // 2,\n",
    "                            cart_location + view_width // 2)\n",
    "    # Strip off the edges, so that we have a square image centered on a cart\n",
    "    screen = screen[:, :, slice_range]\n",
    "    # Convert to float, rescale, convert to torch tensor\n",
    "    # (this doesn't require a copy)\n",
    "    screen = np.ascontiguousarray(screen, dtype=np.float32) / 255\n",
    "    screen = torch.from_numpy(screen)\n",
    "    # Resize, and add a batch dimension (BCHW)\n",
    "    return resize(screen).unsqueeze(0)\n",
    "\n",
    "\n",
    "env.reset()\n",
    "plt.figure()\n",
    "plt.imshow(get_screen().cpu().squeeze(0).permute(1, 2, 0).numpy(),\n",
    "           interpolation='none')\n",
    "plt.title('Example extracted screen')\n",
    "plt.show()"
   ]
  },
  {
   "cell_type": "code",
   "execution_count": 10,
   "metadata": {},
   "outputs": [],
   "source": [
    "BATCH_SIZE = 128\n",
    "GAMMA = 0.999\n",
    "EPS_START = 0.9\n",
    "EPS_END = 0.05\n",
    "EPS_DECAY = 200\n",
    "TARGET_UPDATE = 10\n",
    "\n",
    "# Get screen size so that we can initialize layers correctly based on shape\n",
    "# returned from AI gym. Typical dimensions at this point are close to 3x40x90\n",
    "# which is the result of a clamped and down-scaled render buffer in get_screen()\n",
    "init_screen = get_screen()\n",
    "_, _, screen_height, screen_width = init_screen.shape\n",
    "\n",
    "# Get number of actions from gym action space\n",
    "n_actions = env.action_space.n\n",
    "\n",
    "policy_net = DQN(screen_height, screen_width, n_actions).to(device)\n",
    "target_net = DQN(screen_height, screen_width, n_actions).to(device)\n",
    "target_net.load_state_dict(policy_net.state_dict())\n",
    "target_net.eval()\n",
    "\n",
    "optimizer = optim.RMSprop(policy_net.parameters())\n",
    "memory = ReplayMemory(10000)\n",
    "\n",
    "\n",
    "steps_done = 0\n",
    "\n",
    "\n",
    "def select_action(state):\n",
    "    global steps_done\n",
    "    sample = random.random()\n",
    "    eps_threshold = EPS_END + (EPS_START - EPS_END) * \\\n",
    "        math.exp(-1. * steps_done / EPS_DECAY)\n",
    "    steps_done += 1\n",
    "    if sample > eps_threshold:\n",
    "        with torch.no_grad():\n",
    "            # t.max(1) will return largest column value of each row.\n",
    "            # second column on max result is index of where max element was\n",
    "            # found, so we pick action with the larger expected reward.\n",
    "            return policy_net(state).max(1)[1].view(1, 1)\n",
    "    else:\n",
    "        return torch.tensor([[random.randrange(n_actions)]], device=device, dtype=torch.long)\n",
    "\n",
    "\n",
    "episode_durations = []\n",
    "\n",
    "\n",
    "def plot_durations():\n",
    "    plt.figure()\n",
    "    plt.clf()\n",
    "    durations_t = torch.tensor(episode_durations, dtype=torch.float)\n",
    "    plt.title('Training...')\n",
    "    plt.xlabel('Episode')\n",
    "    plt.ylabel('Duration')\n",
    "    plt.plot(durations_t.numpy())\n",
    "    # Take 100 episode averages and plot them too\n",
    "    if len(durations_t) >= 100:\n",
    "        means = durations_t.unfold(0, 100, 1).mean(1).view(-1)\n",
    "        means = torch.cat((torch.zeros(99), means))\n",
    "        plt.plot(means.numpy())\n",
    "\n",
    "    plt.pause(0.001)  # pause a bit so that plots are updated\n",
    "    \n",
    "    if is_ipython:\n",
    "        display.clear_output(wait=True)\n",
    "        display.display(plt.gcf())"
   ]
  },
  {
   "cell_type": "code",
   "execution_count": 11,
   "metadata": {},
   "outputs": [],
   "source": [
    "def optimize_model():\n",
    "    if len(memory) < BATCH_SIZE:\n",
    "        return\n",
    "    transitions = memory.sample(BATCH_SIZE)\n",
    "    # Transpose the batch (see https://stackoverflow.com/a/19343/3343043 for\n",
    "    # detailed explanation). This converts batch-array of Transitions\n",
    "    # to Transition of batch-arrays.\n",
    "    batch = Transition(*zip(*transitions))\n",
    "\n",
    "    # Compute a mask of non-final states and concatenate the batch elements\n",
    "    # (a final state would've been the one after which simulation ended)\n",
    "    non_final_mask = torch.tensor(tuple(map(lambda s: s is not None,\n",
    "                                          batch.next_state)), device=device, dtype=torch.bool)\n",
    "    non_final_next_states = torch.cat([s for s in batch.next_state\n",
    "                                                if s is not None])\n",
    "    state_batch = torch.cat(batch.state)\n",
    "    action_batch = torch.cat(batch.action)\n",
    "    reward_batch = torch.cat(batch.reward)\n",
    "\n",
    "    # Compute Q(s_t, a) - the model computes Q(s_t), then we select the\n",
    "    # columns of actions taken. These are the actions which would've been taken\n",
    "    # for each batch state according to policy_net\n",
    "    state_action_values = policy_net(state_batch).gather(1, action_batch)\n",
    "\n",
    "    # Compute V(s_{t+1}) for all next states.\n",
    "    # Expected values of actions for non_final_next_states are computed based\n",
    "    # on the \"older\" target_net; selecting their best reward with max(1)[0].\n",
    "    # This is merged based on the mask, such that we'll have either the expected\n",
    "    # state value or 0 in case the state was final.\n",
    "    next_state_values = torch.zeros(BATCH_SIZE, device=device)\n",
    "    next_state_values[non_final_mask] = target_net(non_final_next_states).max(1)[0].detach()\n",
    "    # Compute the expected Q values\n",
    "    expected_state_action_values = (next_state_values * GAMMA) + reward_batch\n",
    "\n",
    "    # Compute Huber loss\n",
    "    criterion = nn.SmoothL1Loss()\n",
    "    loss = criterion(state_action_values, expected_state_action_values.unsqueeze(1))\n",
    "\n",
    "    # Optimize the model\n",
    "    optimizer.zero_grad()\n",
    "    loss.backward()\n",
    "    for param in policy_net.parameters():\n",
    "        param.grad.data.clamp_(-1, 1)\n",
    "    optimizer.step()"
   ]
  },
  {
   "cell_type": "code",
   "execution_count": 12,
   "metadata": {},
   "outputs": [
    {
     "name": "stdout",
     "output_type": "stream",
     "text": [
      "Complete\n"
     ]
    },
    {
     "data": {
      "image/png": "[encoded data removed]",
      "text/plain": [
       "<Figure size 640x480 with 1 Axes>"
      ]
     },
     "metadata": {},
     "output_type": "display_data"
    }
   ],
   "source": [
    "num_episodes = 400\n",
    "for i_episode in range(num_episodes):\n",
    "    # Initialize the environment and state\n",
    "    env.reset()\n",
    "    last_screen = get_screen()\n",
    "    current_screen = get_screen()\n",
    "    state = current_screen - last_screen\n",
    "    for t in count():\n",
    "        # Select and perform an action\n",
    "        action = select_action(state)\n",
    "        _, reward, done, _, _ = env.step(action.item())\n",
    "        reward = torch.tensor([reward], device=device)\n",
    "\n",
    "        # Observe new state\n",
    "        last_screen = current_screen\n",
    "        current_screen = get_screen()\n",
    "        if not done:\n",
    "            next_state = current_screen - last_screen\n",
    "        else:\n",
    "            next_state = None\n",
    "\n",
    "        # Store the transition in memory\n",
    "        memory.push(state, action, next_state, reward)\n",
    "\n",
    "        # Move to the next state\n",
    "        state = next_state\n",
    "\n",
    "        # Perform one step of the optimization (on the policy network)\n",
    "        optimize_model()\n",
    "        if done:\n",
    "            episode_durations.append(t + 1)\n",
    "            break\n",
    "\n",
    "        # Update the target network, copying all weights and biases in DQN\n",
    "        if t % TARGET_UPDATE == 0:\n",
    "            target_net.load_state_dict(policy_net.state_dict())\n",
    "\n",
    "print('Complete')\n",
    "env.render()\n",
    "env.close()\n",
    "plt.ioff()\n",
    "plot_durations()"
   ]
  },
  {
   "cell_type": "code",
   "execution_count": 13,
   "metadata": {},
   "outputs": [
    {
     "data": {
      "text/plain": [
       "DQN(\n",
       "  (conv1): Conv2d(3, 16, kernel_size=(5, 5), stride=(2, 2))\n",
       "  (bn1): BatchNorm2d(16, eps=1e-05, momentum=0.1, affine=True, track_running_stats=True)\n",
       "  (conv2): Conv2d(16, 32, kernel_size=(5, 5), stride=(2, 2))\n",
       "  (bn2): BatchNorm2d(32, eps=1e-05, momentum=0.1, affine=True, track_running_stats=True)\n",
       "  (conv3): Conv2d(32, 32, kernel_size=(5, 5), stride=(2, 2))\n",
       "  (bn3): BatchNorm2d(32, eps=1e-05, momentum=0.1, affine=True, track_running_stats=True)\n",
       "  (head): Linear(in_features=512, out_features=2, bias=True)\n",
       ")"
      ]
     },
     "execution_count": 13,
     "metadata": {},
     "output_type": "execute_result"
    }
   ],
   "source": [
    "target_net.eval()"
   ]
  },
  {
   "cell_type": "code",
   "execution_count": 14,
   "metadata": {},
   "outputs": [
    {
     "name": "stdout",
     "output_type": "stream",
     "text": [
      "step 0 [ 0.00260319 -0.21206944 -0.01976953  0.33195764] 1.0 False False\n",
      "step 1 [-9.7762840e-03 -6.0184062e-01 -7.6354935e-04  9.0685999e-01] 1.0 False False\n",
      "step 2 [-0.03775214 -0.99229455  0.04135971  1.4973798 ] 1.0 False False\n",
      "step 3 [-0.08135591 -1.3837366   0.10736099  2.1166482 ] 1.0 False False\n"
     ]
    },
    {
     "name": "stderr",
     "output_type": "stream",
     "text": [
      "c:\\Users\\dhruv\\.conda\\envs\\ComputerVision\\lib\\site-packages\\gym\\wrappers\\record_video.py:75: UserWarning: \u001b[33mWARN: Overwriting existing videos at c:\\Users\\dhruv\\Desktop\\College\\Rutgers\\2022FA(Fall)\\ROBOTICS&COMP VISION\\Robotic-Code-on-Git\\Project 2\\video folder (try specifying a different `video_folder` for the `RecordVideo` wrapper if this is not desired)\u001b[0m\n",
      "  logger.warn(\n"
     ]
    },
    {
     "name": "stdout",
     "output_type": "stream",
     "text": [
      "Moviepy - Building video c:\\Users\\dhruv\\Desktop\\College\\Rutgers\\2022FA(Fall)\\ROBOTICS&COMP VISION\\Robotic-Code-on-Git\\Project 2\\video\\Training-episode-0.mp4.\n",
      "Moviepy - Writing video c:\\Users\\dhruv\\Desktop\\College\\Rutgers\\2022FA(Fall)\\ROBOTICS&COMP VISION\\Robotic-Code-on-Git\\Project 2\\video\\Training-episode-0.mp4\n",
      "\n"
     ]
    },
    {
     "name": "stderr",
     "output_type": "stream",
     "text": [
      "                                                  "
     ]
    },
    {
     "name": "stdout",
     "output_type": "stream",
     "text": [
      "Moviepy - Done !\n",
      "Moviepy - video ready c:\\Users\\dhruv\\Desktop\\College\\Rutgers\\2022FA(Fall)\\ROBOTICS&COMP VISION\\Robotic-Code-on-Git\\Project 2\\video\\Training-episode-0.mp4\n",
      "step 4 [-0.14062572 -1.7758046   0.19850364  2.775118  ] 1.0 False False\n",
      "step 5 [-0.21557501 -2.1669798   0.31642818  3.478566  ] 0.0 True False\n"
     ]
    },
    {
     "name": "stderr",
     "output_type": "stream",
     "text": [
      "c:\\Users\\dhruv\\.conda\\envs\\ComputerVision\\lib\\site-packages\\gym\\envs\\classic_control\\cartpole.py:177: UserWarning: \u001b[33mWARN: You are calling 'step()' even though this environment has already returned terminated = True. You should always call 'reset()' once you receive 'terminated = True' -- any further steps are undefined behavior.\u001b[0m\n",
      "  logger.warn(\n"
     ]
    }
   ],
   "source": [
    "env = gym.make(\"CartPole-v1\",render_mode='rgb_array')\n",
    "video = RecordVideo(env,video_folder=\"./video\",video_length=0,name_prefix=\"Training\",)\n",
    "done = True\n",
    "timeout = 10000000\n",
    "i = 0\n",
    "\n",
    "env.reset()\n",
    "video.reset()\n",
    "while (done | timeout >= 0):\n",
    "\n",
    "  # env.action_space.sample() produces either 0 (left) or 1 (right).\n",
    "  last_screen = get_screen()\n",
    "  current_screen = get_screen()\n",
    "  state = current_screen - last_screen\n",
    "  action = target_net(state).max(1)[1].view(1, 1).cpu().item()\n",
    "  \n",
    "  output = env.step(action)\n",
    "  videoOut = video.step(action)\n",
    "\n",
    "  observation = output[0] # Cart Position , Cart Velocity, Pole Angle, Pole Angular Velocity\n",
    "  reward = output[1] # +1 for every step (Goal : keep the pole up as long as possible)\n",
    "  done = output[2] # boolean : True-> when pole falls (pole angle more than 12, postioion more than 2.4)\n",
    "  info = output[3] # \n",
    "  \n",
    "  print(\"step\", i, observation, reward, done, info)\n",
    "  \n",
    "  i = i + 1\n",
    "  \n",
    "\n",
    "video.close()\n",
    "env.close()"
   ]
  },
  {
   "cell_type": "code",
   "execution_count": 15,
   "metadata": {},
   "outputs": [
    {
     "data": {
      "text/html": [
       "\n",
       "<video controls>\n",
       "    <source src = \"data:video/mp4;base64,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\" type =\"video/mp4\">\n",
       "</video>\n"
      ],
      "text/plain": [
       "<IPython.core.display.HTML object>"
      ]
     },
     "execution_count": 15,
     "metadata": {},
     "output_type": "execute_result"
    }
   ],
   "source": [
    "from IPython.display import HTML\n",
    "\n",
    "HTML(\"\"\"\n",
    "<video controls>\n",
    "    <source src = \"%s\" type =\"video/mp4\">\n",
    "</video>\n",
    "\"\"\"%play_video(\"video/Training-episode-0.mp4\")\n",
    ")"
   ]
  }
 ],
 "metadata": {
  "kernelspec": {
   "display_name": "Python 3.9.15 ('ComputerVision')",
   "language": "python",
   "name": "python3"
  },
  "language_info": {
   "codemirror_mode": {
    "name": "ipython",
    "version": 3
   },
   "file_extension": ".py",
   "mimetype": "text/x-python",
   "name": "python",
   "nbconvert_exporter": "python",
   "pygments_lexer": "ipython3",
   "version": "3.9.15"
  },
  "orig_nbformat": 4,
  "vscode": {
   "interpreter": {
    "hash": "2531915ab5b6d7f6e073a1b4ef06ed0b2b780c8145dd924165dc427f5e6c9cf0"
   }
  }
 },
 "nbformat": 4,
 "nbformat_minor": 2
}
