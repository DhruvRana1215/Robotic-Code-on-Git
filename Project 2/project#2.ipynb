{
 "cells": [
  {
   "cell_type": "markdown",
   "metadata": {},
   "source": [
    "# Dhruv Rana #"
   ]
  },
  {
   "cell_type": "markdown",
   "metadata": {},
   "source": [
    "#### Remove Previous Videos ####"
   ]
  },
  {
   "cell_type": "code",
   "execution_count": 1,
   "metadata": {},
   "outputs": [],
   "source": [
    "import os\n",
    "import shutil\n",
    "\n",
    "if os.path.exists(\"video\"): \n",
    "    shutil.rmtree(\"video\")"
   ]
  },
  {
   "cell_type": "markdown",
   "metadata": {},
   "source": [
    "#### Import Modules ####"
   ]
  },
  {
   "cell_type": "code",
   "execution_count": 2,
   "metadata": {},
   "outputs": [],
   "source": [
    "import gym\n",
    "from gym.wrappers import RecordVideo"
   ]
  },
  {
   "cell_type": "code",
   "execution_count": 3,
   "metadata": {},
   "outputs": [],
   "source": [
    "import torch\n",
    "import torch.nn as nn\n",
    "import torch.optim as optim\n",
    "import torch.nn.functional as F\n",
    "import torchvision.transforms as T"
   ]
  },
  {
   "cell_type": "code",
   "execution_count": 4,
   "metadata": {},
   "outputs": [
    {
     "name": "stdout",
     "output_type": "stream",
     "text": [
      "cuda\n"
     ]
    }
   ],
   "source": [
    "device = torch.device(\"cuda\" if torch.cuda.is_available() else \"cpu\")\n",
    "print(device)"
   ]
  },
  {
   "cell_type": "markdown",
   "metadata": {},
   "source": [
    "#### Run Env. w/o Training ####"
   ]
  },
  {
   "cell_type": "code",
   "execution_count": 5,
   "metadata": {},
   "outputs": [
    {
     "name": "stderr",
     "output_type": "stream",
     "text": [
      "c:\\Users\\dhruv\\.conda\\envs\\ComputerVision\\lib\\site-packages\\gym\\envs\\classic_control\\cartpole.py:177: UserWarning: \u001b[33mWARN: You are calling 'step()' even though this environment has already returned terminated = True. You should always call 'reset()' once you receive 'terminated = True' -- any further steps are undefined behavior.\u001b[0m\n",
      "  logger.warn(\n"
     ]
    },
    {
     "name": "stdout",
     "output_type": "stream",
     "text": [
      "step 0 [ 0.00184955  0.20331004  0.03174967 -0.31426242] 1.0 False False\n",
      "step 1 [ 0.00591575  0.00775053  0.02546442 -0.01173817] 1.0 False False\n",
      "step 2 [ 0.00607077  0.20249821  0.02522966 -0.29627925] 1.0 False False\n",
      "step 3 [0.01012073 0.00702584 0.01930407 0.00425272] 1.0 False False\n",
      "step 4 [ 0.01026125  0.2018657   0.01938913 -0.28227758] 1.0 False False\n",
      "step 5 [0.01429856 0.00647263 0.01374357 0.01645698] 1.0 False False\n",
      "step 6 [ 0.01442801 -0.1888437   0.01407271  0.3134443 ] 1.0 False False\n",
      "step 7 [ 0.01065114 -0.38416326  0.0203416   0.61053187] 1.0 False False\n",
      "step 8 [ 0.00296787 -0.57956356  0.03255224  0.9095517 ] 1.0 False False\n",
      "step 9 [-0.0086234  -0.7751106   0.05074327  1.2122855 ] 1.0 False False\n",
      "step 10 [-0.02412561 -0.580679    0.07498898  0.93592566] 1.0 False False\n",
      "step 11 [-0.03573919 -0.77672786  0.09370749  1.2511985 ] 1.0 False False\n",
      "step 12 [-0.05127374 -0.97291726  0.11873147  1.5717013 ] 1.0 False False\n",
      "step 13 [-0.07073209 -0.77939534  0.15016548  1.3182871 ] 1.0 False False\n",
      "step 14 [-0.08632    -0.586457    0.17653124  1.0761195 ] 1.0 False False\n",
      "step 15 [-0.09804913 -0.39405033  0.19805363  0.84362584] 1.0 False False\n",
      "step 16 [-0.10593014 -0.59124374  0.21492614  1.1914815 ] 1.0 True False\n",
      "step 17 [-0.11775502 -0.399453    0.23875578  0.9731174 ] 0.0 True False\n",
      "step 18 [-0.12574407 -0.20819077  0.2582181   0.7638915 ] 0.0 True False\n",
      "step 19 [-0.12990789 -0.40576544  0.27349594  1.1255034 ] 0.0 True False\n",
      "step 20 [-0.1380232  -0.21505734  0.29600602  0.92948264] 0.0 True False\n",
      "step 21 [-0.14232434 -0.41270435  0.31459567  1.2988199 ] 0.0 True False\n",
      "step 22 [-0.15057844 -0.22262475  0.34057206  1.1186666 ] 0.0 True False\n",
      "step 23 [-0.15503094 -0.03315707  0.3629454   0.9489924 ] 0.0 True False\n",
      "step 24 [-0.15569407 -0.23090324  0.38192526  1.330667  ] 0.0 True False\n",
      "step 25 [-0.16031213 -0.42833465  0.40853858  1.7150525 ] 0.0 True False\n",
      "step 26 [-0.16887884 -0.6252709   0.44283965  2.1029427 ] 0.0 True False\n",
      "step 27 [-0.18138425 -0.8214608   0.4848985   2.4948213 ] 0.0 True False\n",
      "step 28 [-0.19781347 -1.0165648   0.5347949   2.8907797 ] 0.0 True False\n",
      "step 29 [-0.21814476 -1.2101411   0.59261054  3.2904427 ] 0.0 True False\n",
      "Moviepy - Building video c:\\Users\\dhruv\\Desktop\\College\\Rutgers\\2022FA(Fall)\\ROBOTICS&COMP VISION\\Robotic-Code-on-Git\\Project 2\\video\\No_Training_Episode0-episode-0.mp4.\n",
      "Moviepy - Writing video c:\\Users\\dhruv\\Desktop\\College\\Rutgers\\2022FA(Fall)\\ROBOTICS&COMP VISION\\Robotic-Code-on-Git\\Project 2\\video\\No_Training_Episode0-episode-0.mp4\n",
      "\n"
     ]
    },
    {
     "name": "stderr",
     "output_type": "stream",
     "text": [
      "                                                   "
     ]
    },
    {
     "name": "stdout",
     "output_type": "stream",
     "text": [
      "Moviepy - Done !\n",
      "Moviepy - video ready c:\\Users\\dhruv\\Desktop\\College\\Rutgers\\2022FA(Fall)\\ROBOTICS&COMP VISION\\Robotic-Code-on-Git\\Project 2\\video\\No_Training_Episode0-episode-0.mp4\n"
     ]
    },
    {
     "name": "stderr",
     "output_type": "stream",
     "text": [
      "\r"
     ]
    }
   ],
   "source": [
    "env = gym.make(\"CartPole-v1\",render_mode='rgb_array')\n",
    "env = RecordVideo(env,video_folder=\"./video\",video_length=2000,name_prefix=\"No_Training_Episode0\",)\n",
    "\n",
    "env.reset()\n",
    "for i in range(30):\n",
    "\n",
    "  # env.action_space.sample() produces either 0 (left) or 1 (right).\n",
    "  output = env.step(env.action_space.sample())\n",
    "\n",
    "  observation = output[0] # Cart Position , Cart Velocity, Pole Angle, Pole Angular Velocity\n",
    "  reward = output[1] # +1 for every step (Goal : keep the pole up as long as possible)\n",
    "  done = output[2] # boolean : True-> when pole falls (pole angle more than 12, postioion more than 2.4)\n",
    "  info = output[3] # \n",
    "  \n",
    "  print(\"step\", i, observation, reward, done, info)\n",
    "\n",
    "env.close()"
   ]
  },
  {
   "cell_type": "code",
   "execution_count": 6,
   "metadata": {},
   "outputs": [],
   "source": [
    "from base64 import b64encode\n",
    "\n",
    "def play_video(filename):\n",
    "    video = open(filename,'rb').read()\n",
    "    decode = 'data:video/mp4;base64,' + b64encode(video).decode()\n",
    "    return decode"
   ]
  },
  {
   "cell_type": "markdown",
   "metadata": {},
   "source": [
    "#### Display Video ####"
   ]
  },
  {
   "cell_type": "code",
   "execution_count": 7,
   "metadata": {},
   "outputs": [
    {
     "data": {
      "text/html": [
       "\n",
       "<video controls>\n",
       "    <source src = \"data:video/mp4;base64,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\" type =\"video/mp4\">\n",
       "</video>\n"
      ],
      "text/plain": [
       "<IPython.core.display.HTML object>"
      ]
     },
     "execution_count": 7,
     "metadata": {},
     "output_type": "execute_result"
    }
   ],
   "source": [
    "from IPython.display import HTML\n",
    "\n",
    "HTML(\"\"\"\n",
    "<video controls>\n",
    "    <source src = \"%s\" type =\"video/mp4\">\n",
    "</video>\n",
    "\"\"\"%play_video(\"video/No_Training_Episode0-episode-0.mp4\")\n",
    ")"
   ]
  },
  {
   "cell_type": "markdown",
   "metadata": {},
   "source": [
    "#### Create Deep Netwrok ####"
   ]
  },
  {
   "cell_type": "code",
   "execution_count": 8,
   "metadata": {},
   "outputs": [],
   "source": [
    "class DQN(nn.Module):\n",
    "    def __init__(self, h, w, outputs):\n",
    "        super(DQN, self).__init__()\n",
    "        self.conv1 = nn.Conv2d(3, 16, kernel_size=5, stride=2)\n",
    "        self.bn1 = nn.BatchNorm2d(16)\n",
    "        self.conv2 = nn.Conv2d(16, 32, kernel_size=5, stride=2)\n",
    "        self.bn2 = nn.BatchNorm2d(32)\n",
    "        self.conv3 = nn.Conv2d(32, 32, kernel_size=5, stride=2)\n",
    "        self.bn3 = nn.BatchNorm2d(32)\n",
    "\n",
    "        # Number of Linear input connections depends on output of conv2d layers\n",
    "        # and therefore the input image size, so compute it.\n",
    "        def conv2d_size_out(size, kernel_size = 5, stride = 2):\n",
    "            return (size - (kernel_size - 1) - 1) // stride  + 1\n",
    "        convw = conv2d_size_out(conv2d_size_out(conv2d_size_out(w)))\n",
    "        convh = conv2d_size_out(conv2d_size_out(conv2d_size_out(h)))\n",
    "        linear_input_size = convw * convh * 32\n",
    "        self.head = nn.Linear(linear_input_size, outputs)\n",
    "\n",
    "    # Called with either one element to determine next action, or a batch\n",
    "    # during optimization. Returns tensor([[left0exp,right0exp]...]).\n",
    "    def forward(self, x):\n",
    "        x = x.to(device)\n",
    "        x = F.relu(self.bn1(self.conv1(x)))\n",
    "        x = F.relu(self.bn2(self.conv2(x)))\n",
    "        x = F.relu(self.bn3(self.conv3(x)))\n",
    "        return self.head(x.view(x.size(0), -1))"
   ]
  }
 ],
 "metadata": {
  "kernelspec": {
   "display_name": "Python 3.9.15 ('ComputerVision')",
   "language": "python",
   "name": "python3"
  },
  "language_info": {
   "codemirror_mode": {
    "name": "ipython",
    "version": 3
   },
   "file_extension": ".py",
   "mimetype": "text/x-python",
   "name": "python",
   "nbconvert_exporter": "python",
   "pygments_lexer": "ipython3",
   "version": "3.9.15"
  },
  "orig_nbformat": 4,
  "vscode": {
   "interpreter": {
    "hash": "2531915ab5b6d7f6e073a1b4ef06ed0b2b780c8145dd924165dc427f5e6c9cf0"
   }
  }
 },
 "nbformat": 4,
 "nbformat_minor": 2
}
