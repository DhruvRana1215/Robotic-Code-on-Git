{
 "cells": [
  {
   "cell_type": "markdown",
   "metadata": {},
   "source": [
    "# Dhruv Rana #"
   ]
  },
  {
   "cell_type": "markdown",
   "metadata": {},
   "source": [
    "#### Remove Previous Videos ####"
   ]
  },
  {
   "cell_type": "code",
   "execution_count": 1,
   "metadata": {},
   "outputs": [],
   "source": [
    "import os\n",
    "import shutil\n",
    "\n",
    "if os.path.exists(\"video\"): \n",
    "    shutil.rmtree(\"video\")"
   ]
  },
  {
   "cell_type": "markdown",
   "metadata": {},
   "source": [
    "#### Import Modules ####"
   ]
  },
  {
   "cell_type": "code",
   "execution_count": 2,
   "metadata": {},
   "outputs": [],
   "source": [
    "import gym\n",
    "from gym.wrappers import RecordVideo"
   ]
  },
  {
   "cell_type": "code",
   "execution_count": 3,
   "metadata": {},
   "outputs": [],
   "source": [
    "import torch\n",
    "import torch.nn as nn\n",
    "import torch.optim as optim\n",
    "import torch.nn.functional as F\n",
    "import torchvision.transforms as T"
   ]
  },
  {
   "cell_type": "markdown",
   "metadata": {},
   "source": [
    "#### Run Env. w/o Training ####"
   ]
  },
  {
   "cell_type": "code",
   "execution_count": 4,
   "metadata": {},
   "outputs": [
    {
     "name": "stdout",
     "output_type": "stream",
     "text": [
      "step 0 [-0.01679205 -0.23004316 -0.00883722  0.24487366] 1.0 False False\n",
      "step 1 [-0.02139292 -0.0347961  -0.00393975 -0.0505836 ] 1.0 False False\n",
      "step 2 [-0.02208884 -0.22986135 -0.00495142  0.24085371] 1.0 False False\n",
      "step 3 [-2.6686065e-02 -4.2491221e-01 -1.3434819e-04  5.3197074e-01] 1.0 False False\n",
      "step 4 [-0.03518431 -0.22978838  0.01050507  0.23924546] 1.0 False False\n",
      "step 5 [-0.03978008 -0.03481806  0.01528998 -0.05010545] 1.0 False False\n",
      "step 6 [-0.04047644 -0.23015587  0.01428787  0.2473621 ] 1.0 False False\n",
      "step 7 [-0.04507956 -0.42547894  0.01923511  0.5445173 ] 1.0 False False\n",
      "step 8 [-0.05358914 -0.23063248  0.03012545  0.25795645] 1.0 False False\n",
      "step 9 [-0.05820178 -0.42617127  0.03528458  0.5599871 ] 1.0 False False\n",
      "step 10 [-0.06672521 -0.62177026  0.04648433  0.86357445] 1.0 False False\n",
      "step 11 [-0.07916062 -0.81749314  0.06375582  1.1705031 ] 1.0 False False\n",
      "step 12 [-0.09551048 -0.6232556   0.08716588  0.8984703 ] 1.0 False False\n",
      "step 13 [-0.10797559 -0.42941636  0.10513528  0.6344096 ] 1.0 False False\n",
      "step 14 [-0.11656392 -0.62583554  0.11782347  0.9582644 ] 1.0 False False\n",
      "step 15 [-0.12908062 -0.43247795  0.13698876  0.7047989 ] 1.0 False False\n",
      "step 16 [-0.13773018 -0.6292054   0.15108474  1.0372745 ] 1.0 False False\n",
      "step 17 [-0.1503143  -0.43637905  0.17183024  0.7955799 ] 1.0 False False\n",
      "step 18 [-0.15904188 -0.24397916  0.18774183  0.5615    ] 1.0 False False\n",
      "step 19 [-0.16392146 -0.05191901  0.19897182  0.3333445 ] 1.0 False False\n",
      "step 20 [-0.16495983  0.13989718  0.20563872  0.10940941] 1.0 False False\n",
      "step 21 [-0.1621619   0.33157003  0.20782691 -0.1120097 ] 1.0 False False\n",
      "step 22 [-0.1555305   0.5232021   0.20558672 -0.33261016] 1.0 False False\n",
      "step 23 [-0.14506646  0.7148955   0.19893451 -0.55407745] 1.0 False False\n",
      "step 24 [-0.13076854  0.9067501   0.18785296 -0.77808183] 1.0 False False\n",
      "step 25 [-0.11263354  0.70961034  0.17229132 -0.43267   ] 1.0 False False\n",
      "step 26 [-0.09844133  0.51252127  0.16363792 -0.09100994] 1.0 False False\n",
      "step 27 [-0.08819091  0.31547812  0.16181773  0.24850148] 1.0 False False\n",
      "step 28 [-0.08188134  0.11845967  0.16678776  0.58753544] 1.0 False False\n",
      "step 29 [-0.07951216 -0.07855692  0.17853847  0.92776793] 1.0 False False\n",
      "Moviepy - Building video c:\\Users\\dhruv\\Desktop\\College\\Rutgers\\2022FA(Fall)\\ROBOTICS&COMP VISION\\Robotic-Code-on-Git\\Project 2\\video\\No_Training_Episode0-episode-0.mp4.\n",
      "Moviepy - Writing video c:\\Users\\dhruv\\Desktop\\College\\Rutgers\\2022FA(Fall)\\ROBOTICS&COMP VISION\\Robotic-Code-on-Git\\Project 2\\video\\No_Training_Episode0-episode-0.mp4\n",
      "\n"
     ]
    },
    {
     "name": "stderr",
     "output_type": "stream",
     "text": [
      "                                                   "
     ]
    },
    {
     "name": "stdout",
     "output_type": "stream",
     "text": [
      "Moviepy - Done !\n",
      "Moviepy - video ready c:\\Users\\dhruv\\Desktop\\College\\Rutgers\\2022FA(Fall)\\ROBOTICS&COMP VISION\\Robotic-Code-on-Git\\Project 2\\video\\No_Training_Episode0-episode-0.mp4\n"
     ]
    },
    {
     "name": "stderr",
     "output_type": "stream",
     "text": [
      "\r"
     ]
    }
   ],
   "source": [
    "env = gym.make(\"CartPole-v1\",render_mode='rgb_array')\n",
    "env = RecordVideo(env,video_folder=\"./video\",video_length=2000,name_prefix=\"No_Training_Episode0\",)\n",
    "\n",
    "env.reset()\n",
    "for i in range(30):\n",
    "\n",
    "  # env.action_space.sample() produces either 0 (left) or 1 (right).\n",
    "  output = env.step(env.action_space.sample())\n",
    "\n",
    "  observation = output[0] # Cart Position , Cart Velocity, Pole Angle, Pole Angular Velocity\n",
    "  reward = output[1] # +1 for every step (Goal : keep the pole up as long as possible)\n",
    "  done = output[2] # boolean : True-> when pole falls (pole angle more than 12, postioion more than 2.4)\n",
    "  info = output[3] # \n",
    "  \n",
    "  print(\"step\", i, observation, reward, done, info)\n",
    "\n",
    "env.close()"
   ]
  },
  {
   "cell_type": "code",
   "execution_count": 5,
   "metadata": {},
   "outputs": [],
   "source": [
    "from base64 import b64encode\n",
    "\n",
    "def play_video(filename):\n",
    "    video = open(filename,'rb').read()\n",
    "    decode = 'data:video/mp4;base64,' + b64encode(video).decode()\n",
    "    return decode"
   ]
  },
  {
   "cell_type": "markdown",
   "metadata": {},
   "source": [
    "#### Display Video ####"
   ]
  },
  {
   "cell_type": "code",
   "execution_count": 6,
   "metadata": {},
   "outputs": [
    {
     "data": {
      "text/html": [
       "\n",
       "<video controls>\n",
       "    <source src = \"data:video/mp4;base64,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\" type =\"video/mp4\">\n",
       "</video>\n"
      ],
      "text/plain": [
       "<IPython.core.display.HTML object>"
      ]
     },
     "execution_count": 6,
     "metadata": {},
     "output_type": "execute_result"
    }
   ],
   "source": [
    "from IPython.display import HTML\n",
    "\n",
    "HTML(\"\"\"\n",
    "<video controls>\n",
    "    <source src = \"%s\" type =\"video/mp4\">\n",
    "</video>\n",
    "\"\"\"%play_video(\"video/No_Training_Episode0-episode-0.mp4\")\n",
    ")\n",
    "\n"
   ]
  }
 ],
 "metadata": {
  "kernelspec": {
   "display_name": "Python 3.9.15 ('ComputerVision')",
   "language": "python",
   "name": "python3"
  },
  "language_info": {
   "codemirror_mode": {
    "name": "ipython",
    "version": 3
   },
   "file_extension": ".py",
   "mimetype": "text/x-python",
   "name": "python",
   "nbconvert_exporter": "python",
   "pygments_lexer": "ipython3",
   "version": "3.9.15"
  },
  "orig_nbformat": 4,
  "vscode": {
   "interpreter": {
    "hash": "2531915ab5b6d7f6e073a1b4ef06ed0b2b780c8145dd924165dc427f5e6c9cf0"
   }
  }
 },
 "nbformat": 4,
 "nbformat_minor": 2
}
