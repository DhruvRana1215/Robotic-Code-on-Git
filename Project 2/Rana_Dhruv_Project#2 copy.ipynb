{
 "cells": [
  {
   "cell_type": "markdown",
   "metadata": {},
   "source": [
    "# Dhruv Rana #"
   ]
  },
  {
   "cell_type": "markdown",
   "metadata": {},
   "source": [
    "#### Remove Previous Video Folder an make a new one ####"
   ]
  },
  {
   "cell_type": "code",
   "execution_count": 1,
   "metadata": {},
   "outputs": [],
   "source": [
    "import os\n",
    "import shutil\n",
    "\n",
    "if os.path.exists(\"video\"): \n",
    "    shutil.rmtree(\"video\")\n",
    "    \n",
    "os.mkdir(\"video\")"
   ]
  },
  {
   "cell_type": "markdown",
   "metadata": {},
   "source": [
    "#### Import Packages"
   ]
  },
  {
   "cell_type": "code",
   "execution_count": 2,
   "metadata": {},
   "outputs": [
    {
     "name": "stdout",
     "output_type": "stream",
     "text": [
      "Using cuda for infrence\n"
     ]
    },
    {
     "data": {
      "text/plain": [
       "[0]"
      ]
     },
     "execution_count": 2,
     "metadata": {},
     "output_type": "execute_result"
    }
   ],
   "source": [
    "import gym\n",
    "import math\n",
    "import random\n",
    "import numpy as np\n",
    "\n",
    "import matplotlib.pyplot as plt\n",
    "from collections import namedtuple, deque\n",
    "from itertools import count\n",
    "\n",
    "import torch\n",
    "import torch.nn as nn\n",
    "import torch.optim as optim\n",
    "import torch.nn.functional as F\n",
    "\n",
    "from gym.wrappers.monitoring.video_recorder import VideoRecorder\n",
    "\n",
    "env = gym.make('CartPole-v1', render_mode='rgb_array')\n",
    "\n",
    "device = torch.device(\"cuda\" if torch.cuda.is_available() else \"cpu\")\n",
    "print(f\"Using {device} for inference\")\n",
    "\n",
    "# Trying to make the code a bit deterministic\n",
    "torch.manual_seed(0)\n",
    "random.seed(0)\n",
    "np.random.seed(0)"
   ]
  },
  {
   "cell_type": "markdown",
   "metadata": {},
   "source": [
    "#### Create Memory to save transitions of states of env."
   ]
  },
  {
   "cell_type": "code",
   "execution_count": 3,
   "metadata": {},
   "outputs": [],
   "source": [
    "Transition = namedtuple('Transition',\n",
    "                        ('state', 'action', 'next_state', 'reward'))\n",
    "\n",
    "#Create memory that can store the tranisitions between states. Only the amount capacity speciifed can be held\n",
    "#We will use this memeory in optimization to optimize our network and reduce the loss.\n",
    "\n",
    "class ReplayMemory(object):\n",
    "\n",
    "    def __init__(self, capacity):\n",
    "        self.memory = deque([],maxlen=capacity)\n",
    "\n",
    "    def push(self, *args):\n",
    "        \"\"\"Save a transition\"\"\"\n",
    "        self.memory.append(Transition(*args))\n",
    "\n",
    "    def sample(self, batch_size):\n",
    "        return random.sample(self.memory, batch_size)\n",
    "\n",
    "    def __len__(self):\n",
    "        return len(self.memory)"
   ]
  },
  {
   "cell_type": "markdown",
   "metadata": {},
   "source": [
    "##### Build Deep Network (using observations instead of pictures)"
   ]
  },
  {
   "cell_type": "code",
   "execution_count": 4,
   "metadata": {},
   "outputs": [],
   "source": [
    "# Using given torch modules we will create our own newteok from scratch.\n",
    "# Our output should be equal to our action space which is 2\n",
    "# our input should take obervation space dimensions  \n",
    "# We will also need a forward function when evaluating the next action of a given state\n",
    "# This will also be used for optimization\n",
    "\n",
    "class DQN(nn.Module):\n",
    "\n",
    "    def __init__(self, n_observations, n_actions):\n",
    "        super(DQN, self).__init__()\n",
    "        self.layer1 = nn.Linear(n_observations, 128)\n",
    "        self.layer2 = nn.Linear(128, 128)\n",
    "        self.layer3 = nn.Linear(128, n_actions)\n",
    "\n",
    "    # Called with either one element to determine next action, or a batch\n",
    "    # during optimization. Returns tensor([[left0exp,right0exp]...]).\n",
    "    def forward(self, x):\n",
    "        x = F.relu(self.layer1(x))\n",
    "        x = F.relu(self.layer2(x))\n",
    "        return self.layer3(x)"
   ]
  },
  {
   "cell_type": "markdown",
   "metadata": {},
   "source": [
    "#### Hyperparameters"
   ]
  },
  {
   "cell_type": "code",
   "execution_count": 6,
   "metadata": {},
   "outputs": [],
   "source": [
    "BATCH_SIZE = 128 # BATCH_SIZE is the number of transitions sampled from the replay buffer\n",
    "GAMMA = 0.99 # GAMMA is the discount factor \n",
    "EPS_START = 0.9 # EPS_START is the starting value of epsilon\n",
    "EPS_END = 0.05 # EPS_END is the final value of epsilon\n",
    "EPS_DECAY = 1000 # EPS_DECAY controls the rate of exponential decay of epsilon, higher means a slower decay\n",
    "TAU = 0.005 # TAU is the update rate of the target network\n",
    "LR = 1e-4  # LR is the learning rate of the AdamW optimizer\n",
    "TIMEOUT = 5000 # Time before video recordings are stopped "
   ]
  },
  {
   "cell_type": "markdown",
   "metadata": {},
   "source": [
    "#### Create Policy of DQN"
   ]
  },
  {
   "cell_type": "code",
   "execution_count": 7,
   "metadata": {},
   "outputs": [],
   "source": [
    "# Since the network needs the size of the image to initalize we geet a scrren and measure the dimensions to create the network\n",
    "# Our get screen gives out a image of 3x40x90 \n",
    "\n",
    "\n",
    "# Get number of actions from gym action space\n",
    "n_actions = env.action_space.n\n",
    "\n",
    "state, _ = env.reset()\n",
    "\n",
    "# Get the number of state observations\n",
    "n_observations = len(state)\n",
    "\n",
    "policy_net = DQN(n_observations, n_actions).to(device)\n",
    "target_net = DQN(n_observations, n_actions).to(device)\n",
    "target_net.load_state_dict(policy_net.state_dict())\n",
    "\n",
    "optimizer = optim.AdamW(policy_net.parameters(), lr=LR, amsgrad=True)\n",
    "memory = ReplayMemory(10000)"
   ]
  },
  {
   "cell_type": "markdown",
   "metadata": {},
   "source": [
    "#### Method to pick action based on state"
   ]
  },
  {
   "cell_type": "code",
   "execution_count": 8,
   "metadata": {},
   "outputs": [],
   "source": [
    "# We are using the exploration and explotation approach where we use the policy \n",
    "# but sometime we pass a random action in hopes of achiving better performance\n",
    "\n",
    "steps_done = 0\n",
    "\n",
    "\n",
    "def select_action(state):\n",
    "    global steps_done\n",
    "    sample = random.random()\n",
    "    eps_threshold = EPS_END + (EPS_START - EPS_END) * math.exp(-1. * steps_done / EPS_DECAY)\n",
    "    steps_done += 1\n",
    "    if sample > eps_threshold:\n",
    "        with torch.no_grad():\n",
    "            return policy_net(state).max(1)[1].view(1, 1)\n",
    "    else:\n",
    "        return torch.tensor([[env.action_space.sample()]], device=device, dtype=torch.long)\n"
   ]
  },
  {
   "cell_type": "markdown",
   "metadata": {},
   "source": [
    "#### Method to plot peformance (time survived by agent per episode)"
   ]
  },
  {
   "cell_type": "code",
   "execution_count": 9,
   "metadata": {},
   "outputs": [],
   "source": [
    "# A helper function that plots the amount time the agent survived for a given episode\n",
    "# It also starts ploting the mean for episodes more than 100\n",
    "\n",
    "episode_durations = []\n",
    "\n",
    "\n",
    "def plot_durations(title):\n",
    "    plt.figure(1)\n",
    "    plt.clf()\n",
    "    durations_t = torch.tensor(episode_durations, dtype=torch.float)\n",
    "    plt.title(title)\n",
    "    plt.xlabel('Episode')\n",
    "    plt.ylabel('Duration')\n",
    "    plt.plot(durations_t.numpy())\n",
    "    # Take 100 episode averages and plot them too\n",
    "    if len(durations_t) >= 100:\n",
    "        means = durations_t.unfold(0, 100, 1).mean(1).view(-1)\n",
    "        means = torch.cat((torch.zeros(99), means))\n",
    "        plt.plot(means.numpy())"
   ]
  },
  {
   "cell_type": "markdown",
   "metadata": {},
   "source": [
    "#### Method to optimize DQN"
   ]
  },
  {
   "cell_type": "code",
   "execution_count": 10,
   "metadata": {},
   "outputs": [],
   "source": [
    "# Make a function for optimization that use back propogation \n",
    "# We use the Huber loss function and use RMSprop as our optimizer\n",
    "\n",
    "def optimize_model():\n",
    "    if len(memory) < BATCH_SIZE:\n",
    "        return\n",
    "    transitions = memory.sample(BATCH_SIZE)\n",
    "    \n",
    "    batch = Transition(*zip(*transitions))\n",
    "\n",
    "    non_final_mask = torch.tensor(tuple(map(lambda s: s is not None,batch.next_state)), device=device, dtype=torch.bool)\n",
    "    non_final_next_states = torch.cat([s for s in batch.next_state if s is not None])\n",
    "    state_batch = torch.cat(batch.state)\n",
    "    action_batch = torch.cat(batch.action)\n",
    "    reward_batch = torch.cat(batch.reward)\n",
    "\n",
    "    state_action_values = policy_net(state_batch).gather(1, action_batch)\n",
    "\n",
    "    next_state_values = torch.zeros(BATCH_SIZE, device=device)\n",
    "    with torch.no_grad():\n",
    "        next_state_values[non_final_mask] = target_net(non_final_next_states).max(1)[0]\n",
    "\n",
    "    expected_state_action_values = (next_state_values * GAMMA) + reward_batch\n",
    "\n",
    "    criterion = nn.SmoothL1Loss()\n",
    "    loss = criterion(state_action_values, expected_state_action_values.unsqueeze(1))\n",
    "\n",
    "    optimizer.zero_grad()\n",
    "    loss.backward()\n",
    "    torch.nn.utils.clip_grad_value_(policy_net.parameters(), 100)\n",
    "    optimizer.step()"
   ]
  },
  {
   "cell_type": "markdown",
   "metadata": {},
   "source": [
    "#### Random Agent w/o training"
   ]
  },
  {
   "cell_type": "code",
   "execution_count": 11,
   "metadata": {},
   "outputs": [
    {
     "data": {
      "image/png": "[encoded data removed]",
      "text/plain": [
       "<Figure size 640x480 with 1 Axes>"
      ]
     },
     "metadata": {},
     "output_type": "display_data"
    }
   ],
   "source": [
    "# We fisrt test a random agent by giving random actions to the agent\n",
    "# we use the plot_duration() function to plot the time the agent survived for each episode\n",
    "\n",
    "num_episodes = 600\n",
    "\n",
    "for i_episode in range(num_episodes):\n",
    "\n",
    "    env.reset()\n",
    "    for t in count():\n",
    "        \n",
    "        action = env.action_space.sample()\n",
    "        \n",
    "        _, reward, done, _, _ = env.step(action)\n",
    "\n",
    "        if done:\n",
    "            episode_durations.append(t + 1)\n",
    "            break\n",
    "\n",
    "plt.ioff()\n",
    "plot_durations(\"Random Agent\")\n",
    "plt.show()\n",
    "\n",
    "episode_durations = []\n",
    "steps_done = 0"
   ]
  },
  {
   "cell_type": "code",
   "execution_count": 12,
   "metadata": {},
   "outputs": [
    {
     "name": "stdout",
     "output_type": "stream",
     "text": [
      "step 0 [ 0.04473393  0.19367568  0.02141764 -0.26602155] 1.0 False\n",
      "step 1 [ 0.04860744 -0.0017453   0.0160972   0.033339  ] 1.0 False\n",
      "step 2 [ 0.04857254 -0.19709435  0.01676399  0.33105698] 1.0 False\n",
      "step 3 [ 0.04463065 -0.39245087  0.02338512  0.62897897] 1.0 False\n",
      "step 4 [ 0.03678163 -0.19766293  0.03596471  0.34375155] 1.0 False\n",
      "step 5 [ 0.03282838 -0.00307059  0.04283974  0.06262314] 1.0 False\n",
      "step 6 [ 0.03276696 -0.19877975  0.0440922   0.36850855] 1.0 False\n",
      "step 7 [ 0.02879137 -0.00431113  0.05146237  0.09004804] 1.0 False\n",
      "step 8 [ 0.02870514 -0.2001315   0.05326333  0.398513  ] 1.0 False\n",
      "step 9 [ 0.02470252 -0.39596704  0.06123359  0.7075017 ] 1.0 False\n",
      "step 10 [ 0.01678317 -0.20174439  0.07538363  0.4347052 ] 1.0 False\n",
      "step 11 [ 0.01274829 -0.00776608  0.08407773  0.16670588] 1.0 False\n",
      "step 12 [ 0.01259296 -0.20398462  0.08741184  0.48468375] 1.0 False\n",
      "step 13 [ 0.00851327 -0.01019797  0.09710552  0.22077994] 1.0 False\n",
      "step 14 [ 0.00830931  0.18341152  0.10152112 -0.03976199] 1.0 False\n",
      "step 15 [ 0.01197754  0.37694222  0.10072588 -0.29876736] 1.0 False\n",
      "step 16 [0.01951639 0.18053952 0.09475053 0.02390682] 1.0 False\n",
      "step 17 [ 0.02312718 -0.01580453  0.09522867  0.34491685] 1.0 False\n",
      "step 18 [ 0.02281109 -0.21214303  0.10212701  0.6660452 ] 1.0 False\n",
      "step 19 [ 0.01856823 -0.408526    0.11544791  0.9890579 ] 1.0 False\n",
      "step 20 [ 0.01039771 -0.21512291  0.13522907  0.73475075] 1.0 False\n",
      "step 21 [ 0.00609525 -0.02210247  0.14992408  0.48749968] 1.0 False\n",
      "step 22 [ 0.0056532  -0.21898645  0.15967408  0.8234256 ] 1.0 False\n",
      "step 23 [ 0.00127347 -0.41589025  0.17614259  1.161769  ] 1.0 False\n",
      "step 24 [-0.00704433 -0.22344416  0.19937797  0.929085  ] 1.0 False\n",
      "step 25 [-0.01151322 -0.03149058  0.21795967  0.7050881 ] 1.0 True\n",
      "Moviepy - Building video ./video/No_Training.mp4.\n",
      "Moviepy - Writing video ./video/No_Training.mp4\n",
      "\n"
     ]
    },
    {
     "name": "stderr",
     "output_type": "stream",
     "text": [
      "                                                   "
     ]
    },
    {
     "name": "stdout",
     "output_type": "stream",
     "text": [
      "Moviepy - Done !\n",
      "Moviepy - video ready ./video/No_Training.mp4\n"
     ]
    },
    {
     "name": "stderr",
     "output_type": "stream",
     "text": [
      "\r"
     ]
    }
   ],
   "source": [
    "# Let us look at some results of using the random agent\n",
    "# We use the provided module VideoRecoder by openAI\n",
    "# This modules save the frame from a render of the environment and turns it into a mp4\n",
    "\n",
    "#!!! I am using MoviePy for making the mp4, I searched a lot but could not suppress the otuputs from it\n",
    "\n",
    "video = VideoRecorder(env,path=\"./video/No_Training.mp4\")\n",
    "\n",
    "done = False\n",
    "i = 0 \n",
    "\n",
    "state, _ = env.reset()\n",
    "state = torch.tensor(state, dtype=torch.float32, device=device).unsqueeze(0)\n",
    "\n",
    "while ((~done) or (i<5000)) :\n",
    "      \n",
    "  env.render()\n",
    "  video.capture_frame()\n",
    "      \n",
    "  action = env.action_space.sample()\n",
    "  observation,reward,done,_,info = env.step(action.item())\n",
    "  \n",
    "  #print(\"step\", i, observation, reward, done, info)\n",
    "\n",
    "  if not done:\n",
    "    state = torch.tensor(observation, dtype=torch.float32, device=device).unsqueeze(0)\n",
    "  else:\n",
    "    break\n",
    "  \n",
    "  i = i+1\n",
    "\n",
    "video.close()"
   ]
  },
  {
   "cell_type": "code",
   "execution_count": 13,
   "metadata": {},
   "outputs": [
    {
     "data": {
      "text/html": [
       "\n",
       "<video controls>\n",
       "    <source src = \"video/No_Training.mp4\" type =\"video/mp4\">\n",
       "</video>\n"
      ],
      "text/plain": [
       "<IPython.core.display.HTML object>"
      ]
     },
     "execution_count": 13,
     "metadata": {},
     "output_type": "execute_result"
    }
   ],
   "source": [
    "from IPython.display import HTML\n",
    "\n",
    "HTML(\"\"\"\n",
    "<video controls>\n",
    "    <source src = \"%s\" type =\"video/mp4\">\n",
    "</video>\n",
    "\"\"\"%\"video/No_Training.mp4\"\n",
    ")"
   ]
  },
  {
   "cell_type": "markdown",
   "metadata": {},
   "source": [
    "#### Agent Trained for 200 Episodes (small amount of time)"
   ]
  },
  {
   "cell_type": "code",
   "execution_count": 14,
   "metadata": {},
   "outputs": [],
   "source": [
    "# Reinitialize all the needed variables so we can train a agent for a small amount of time\n",
    "\n",
    "init_screen = get_screen()\n",
    "_, _, screen_height, screen_width = init_screen.shape\n",
    "\n",
    "n_actions = env.action_space.n\n",
    "\n",
    "policy_net = DQN(screen_height, screen_width, n_actions).to(device)\n",
    "target_net = DQN(screen_height, screen_width, n_actions).to(device)\n",
    "target_net.load_state_dict(policy_net.state_dict())\n",
    "target_net.eval()\n",
    "\n",
    "optimizer = optim.RMSprop(policy_net.parameters())\n",
    "memory = ReplayMemory(10000)"
   ]
  },
  {
   "cell_type": "code",
   "execution_count": 15,
   "metadata": {},
   "outputs": [
    {
     "name": "stdout",
     "output_type": "stream",
     "text": [
      "Complete\n"
     ]
    }
   ],
   "source": [
    "# We will train the agent for 150 episodes\n",
    "# We will use our select_action() function to pick the action ouputed by the netwrok or the randomly generated action\n",
    "# The we will perform optimization of the policy based on the transitions saved in the memory\n",
    "# We will update our target_net every TARGET_UPDATE interval\n",
    "\n",
    "num_episodes = 200\n",
    "for i_episode in range(num_episodes):\n",
    "    \n",
    "    env.reset()\n",
    "    last_screen = get_screen()\n",
    "    current_screen = get_screen()\n",
    "    state = current_screen - last_screen\n",
    "    \n",
    "    for t in count():\n",
    "\n",
    "        action = select_action(state)\n",
    "        _, reward, done, _, _ = env.step(action.item())\n",
    "        reward = torch.tensor([reward], device=device)\n",
    "\n",
    "        last_screen = current_screen\n",
    "        current_screen = get_screen()\n",
    "        if not done:\n",
    "            next_state = current_screen - last_screen\n",
    "        else:\n",
    "            next_state = None\n",
    "\n",
    "        memory.push(state, action, next_state, reward)\n",
    "\n",
    "        state = next_state\n",
    "\n",
    "        optimize_model()\n",
    "        if done:\n",
    "            episode_durations.append(t + 1)\n",
    "            break\n",
    "\n",
    "        if t % TARGET_UPDATE == 0:\n",
    "            target_net.load_state_dict(policy_net.state_dict())\n",
    "\n",
    "print('Complete')\n",
    "\n",
    "episode_durations = []\n",
    "steps_done = 0"
   ]
  },
  {
   "cell_type": "code",
   "execution_count": 16,
   "metadata": {},
   "outputs": [
    {
     "data": {
      "image/png": "[encoded data removed]",
      "text/plain": [
       "<Figure size 640x480 with 1 Axes>"
      ]
     },
     "metadata": {},
     "output_type": "display_data"
    }
   ],
   "source": [
    "# Next we will check how the agent performs using the plot_duration() function\n",
    "\n",
    "num_episodes = 200\n",
    "for i_episode in range(num_episodes):\n",
    "    # Initialize the environment and state\n",
    "    env.reset()\n",
    "    last_screen = get_screen()\n",
    "    current_screen = get_screen()\n",
    "    state = current_screen - last_screen\n",
    "    for t in count():\n",
    "        \n",
    "        action = select_action(state)\n",
    "        _, reward, done, _, _ = env.step(action.item())\n",
    "\n",
    "        last_screen = current_screen\n",
    "        current_screen = get_screen()\n",
    "        \n",
    "        if not done:\n",
    "            state = current_screen - last_screen\n",
    "        else:\n",
    "            episode_durations.append(t + 1)\n",
    "            break\n",
    "   \n",
    "\n",
    "env.render()\n",
    "plt.ioff()\n",
    "plot_durations(\"Agent Trained for 200 Episodes\")\n",
    "plt.show()\n",
    "\n",
    "episode_durations = []\n",
    "steps_done = 0\n",
    "\n",
    "# We see that on average the agent stays alive fro longer duration than the random agent"
   ]
  },
  {
   "cell_type": "code",
   "execution_count": 17,
   "metadata": {},
   "outputs": [
    {
     "name": "stdout",
     "output_type": "stream",
     "text": [
      "step 0 [-0.01179529  0.2311088   0.02028464 -0.306235  ] 1.0 False {}\n",
      "step 1 [-0.00717311  0.4259359   0.01415994 -0.5924522 ] 1.0 False {}\n",
      "step 2 [ 0.00134561  0.6208568   0.00231089 -0.8806414 ] 1.0 False {}\n",
      "step 3 [ 0.01376274  0.8159473  -0.01530193 -1.1725969 ] 1.0 False {}\n",
      "step 4 [ 0.03008169  1.0112648  -0.03875387 -1.4700375 ] 1.0 False {}\n",
      "step 5 [ 0.05030698  1.2068388  -0.06815462 -1.774569  ] 1.0 False {}\n",
      "step 6 [ 0.07444376  1.4026595  -0.103646   -2.08764   ] 1.0 False {}\n",
      "step 7 [ 0.10249695  1.5986638  -0.1453988  -2.4104862 ] 1.0 False {}\n",
      "step 8 [ 0.13447022  1.4050739  -0.19360852 -2.1657622 ] 1.0 False {}\n",
      "step 9 [ 0.1625717   1.6014911  -0.23692377 -2.5114493 ] 1.0 True {}\n",
      "Moviepy - Building video ./video/Trained_200_episodes.mp4.\n",
      "Moviepy - Writing video ./video/Trained_200_episodes.mp4\n",
      "\n"
     ]
    },
    {
     "name": "stderr",
     "output_type": "stream",
     "text": [
      "                                                   "
     ]
    },
    {
     "name": "stdout",
     "output_type": "stream",
     "text": [
      "Moviepy - Done !\n",
      "Moviepy - video ready ./video/Trained_200_episodes.mp4\n"
     ]
    },
    {
     "name": "stderr",
     "output_type": "stream",
     "text": [
      "\r"
     ]
    }
   ],
   "source": [
    "# We can also visualize how the agent perform using the VideoRecoder module\n",
    "\n",
    "# Let us look at some results of using the random agent\n",
    "# We use the provided module VideoRecoder by openAI\n",
    "# This modules save the frame from a render of the environment and turns it into a mp4\n",
    "\n",
    "#!!! I am using MoviePy for making the mp4, I searched a lot but could not suppress the otuputs from it\n",
    "\n",
    "video = VideoRecorder(env,path=\"./video/No_Training.mp4\")\n",
    "\n",
    "done = False\n",
    "i = 0 \n",
    "\n",
    "state, _ = env.reset()\n",
    "state = torch.tensor(state, dtype=torch.float32, device=device).unsqueeze(0)\n",
    "\n",
    "while (~done or i<5000) :\n",
    "      \n",
    "  env.render()\n",
    "  video.capture_frame()\n",
    "      \n",
    "  action = select_action(state)\n",
    "  observation,reward,done,_,info = env.step(action.item())\n",
    "  \n",
    "  #print(\"step\", i, observation, reward, done, info)\n",
    "\n",
    "  if not done:\n",
    "    state = torch.tensor(observation, dtype=torch.float32, device=device).unsqueeze(0)\n",
    "  else:\n",
    "    break\n",
    "  \n",
    "  i = i+1\n",
    "\n",
    "video.close()"
   ]
  },
  {
   "cell_type": "code",
   "execution_count": 24,
   "metadata": {},
   "outputs": [
    {
     "data": {
      "text/html": [
       "\n",
       "<video controls>\n",
       "    <source src = \"video/Trained_200_episodes.mp4\" type =\"video/mp4\">\n",
       "</video>\n"
      ],
      "text/plain": [
       "<IPython.core.display.HTML object>"
      ]
     },
     "execution_count": 24,
     "metadata": {},
     "output_type": "execute_result"
    }
   ],
   "source": [
    "from IPython.display import HTML\n",
    "\n",
    "HTML(\"\"\"\n",
    "<video controls>\n",
    "    <source src = \"%s\" type =\"video/mp4\">\n",
    "</video>\n",
    "\"\"\"%\"video/Trained_200_episodes.mp4\"\n",
    ")\n",
    "\n",
    "#We takes more step, and try to balance the pole but it still fails"
   ]
  },
  {
   "cell_type": "markdown",
   "metadata": {},
   "source": [
    "#### Agent Trained for 1000 Episodes (Large amount of time)"
   ]
  },
  {
   "cell_type": "code",
   "execution_count": 19,
   "metadata": {},
   "outputs": [],
   "source": [
    "# We repeat all the steps and train the agen for a longer time now\n",
    "\n",
    "init_screen = get_screen()\n",
    "_, _, screen_height, screen_width = init_screen.shape\n",
    "\n",
    "n_actions = env.action_space.n\n",
    "\n",
    "policy_net = DQN(screen_height, screen_width, n_actions).to(device)\n",
    "target_net = DQN(screen_height, screen_width, n_actions).to(device)\n",
    "target_net.load_state_dict(policy_net.state_dict())\n",
    "target_net.eval()\n",
    "\n",
    "optimizer = optim.RMSprop(policy_net.parameters())\n",
    "memory = ReplayMemory(10000)"
   ]
  },
  {
   "cell_type": "code",
   "execution_count": 20,
   "metadata": {},
   "outputs": [
    {
     "name": "stdout",
     "output_type": "stream",
     "text": [
      "Complete\n"
     ]
    }
   ],
   "source": [
    "# This time we will train the agent for 2000 episodes\n",
    "\n",
    "num_episodes = 1000\n",
    "\n",
    "for i_episode in range(num_episodes):\n",
    "\n",
    "    env.reset()\n",
    "    last_screen = get_screen()\n",
    "    current_screen = get_screen()\n",
    "    state = current_screen - last_screen\n",
    "    for t in count():\n",
    "        \n",
    "        action = select_action(state)\n",
    "        _, reward, done, _, _ = env.step(action.item())\n",
    "        reward = torch.tensor([reward], device=device)\n",
    "\n",
    "        last_screen = current_screen\n",
    "        current_screen = get_screen()\n",
    "        \n",
    "        if not done:\n",
    "            next_state = current_screen - last_screen\n",
    "        else:\n",
    "            next_state = None\n",
    "\n",
    "        memory.push(state, action, next_state, reward)\n",
    "\n",
    "        state = next_state\n",
    "        \n",
    "        optimize_model()\n",
    "        if done:\n",
    "            episode_durations.append(t + 1)\n",
    "            break\n",
    "\n",
    "        if t % TARGET_UPDATE == 0:\n",
    "            target_net.load_state_dict(policy_net.state_dict())\n",
    "\n",
    "print('Complete')\n",
    "\n",
    "episode_durations = []\n",
    "steps_done = 0\n"
   ]
  },
  {
   "cell_type": "code",
   "execution_count": 21,
   "metadata": {},
   "outputs": [
    {
     "data": {
      "image/png": "[encoded data removed]",
      "text/plain": [
       "<Figure size 640x480 with 1 Axes>"
      ]
     },
     "metadata": {},
     "output_type": "display_data"
    }
   ],
   "source": [
    "\n",
    "num_episodes = 1000\n",
    "\n",
    "for i_episode in range(num_episodes):\n",
    "\n",
    "    env.reset()\n",
    "    last_screen = get_screen()\n",
    "    current_screen = get_screen()\n",
    "    state = current_screen - last_screen\n",
    "    \n",
    "    for t in count():\n",
    "        \n",
    "\n",
    "        action = select_action(state)\n",
    "        _, reward, done, _, _ = env.step(action.item())\n",
    "\n",
    "        last_screen = current_screen\n",
    "        current_screen = get_screen()\n",
    "        \n",
    "        if not done:\n",
    "            state = current_screen - last_screen\n",
    "        else:\n",
    "            episode_durations.append(t + 1)\n",
    "            break\n",
    "            \n",
    "\n",
    "env.render()\n",
    "plt.ioff()\n",
    "plot_durations(\"Agent Trained for 1000 Episodes\")\n",
    "plt.show()\n",
    "\n",
    "episode_durations = []\n",
    "steps_done = 0\n",
    "\n",
    "# We obsevrve that the agent stays alive more than the previous agent on average"
   ]
  },
  {
   "cell_type": "code",
   "execution_count": 30,
   "metadata": {},
   "outputs": [
    {
     "name": "stdout",
     "output_type": "stream",
     "text": [
      "step 0 [ 0.02003176 -0.22573005  0.00423136  0.27088735] 1.0 False {}\n",
      "step 1 [ 0.01551716 -0.42091212  0.00964911  0.5649018 ] 1.0 False {}\n",
      "step 2 [ 0.00709891 -0.22592688  0.02094715  0.27527437] 1.0 False {}\n",
      "step 3 [ 0.00258038 -0.03110996  0.02645263 -0.01072889] 1.0 False {}\n",
      "step 4 [ 0.00195818  0.16362284  0.02623806 -0.2949497 ] 1.0 False {}\n",
      "step 5 [ 0.00523063  0.3583611   0.02033906 -0.5792434 ] 1.0 False {}\n",
      "step 6 [ 0.01239786  0.5531922   0.00875419 -0.8654504 ] 1.0 False {}\n",
      "step 7 [ 0.0234617   0.35795218 -0.00855482 -0.5700279 ] 1.0 False {}\n",
      "step 8 [ 0.03062074  0.16295125 -0.01995537 -0.28005227] 1.0 False {}\n",
      "step 9 [ 0.03387977 -0.03188043 -0.02555642  0.00627057] 1.0 False {}\n",
      "step 10 [ 0.03324216 -0.22662672 -0.02543101  0.29078186] 1.0 False {}\n",
      "step 11 [ 0.02870963 -0.421377   -0.01961537  0.5753369 ] 1.0 False {}\n",
      "step 12 [ 0.02028208 -0.61621857 -0.00810863  0.8617765 ] 1.0 False {}\n",
      "step 13 [ 0.00795771 -0.81122917  0.0091269   1.1518989 ] 1.0 False {}\n",
      "step 14 [-0.00826687 -0.61622745  0.03216487  0.8620917 ] 1.0 False {}\n",
      "step 15 [-0.02059142 -0.4215579   0.04940671  0.57969326] 1.0 False {}\n",
      "step 16 [-0.02902258 -0.22716187  0.06100057  0.3029747 ] 1.0 False {}\n",
      "step 17 [-0.03356582 -0.03295994  0.06706007  0.03013667] 1.0 False {}\n",
      "step 18 [-0.03422501  0.16113944  0.0676628  -0.2406571 ] 1.0 False {}\n",
      "step 19 [-0.03100222 -0.03488055  0.06284966  0.07257775] 1.0 False {}\n",
      "step 20 [-0.03169984 -0.2308446   0.06430122  0.3844091 ] 1.0 False {}\n",
      "step 21 [-0.03631673 -0.42681772  0.07198939  0.6966528 ] 1.0 False {}\n",
      "step 22 [-0.04485308 -0.23276404  0.08592245  0.42747283] 1.0 False {}\n",
      "step 23 [-0.04950836 -0.03895742  0.09447191  0.16306548] 1.0 False {}\n",
      "step 24 [-0.05028751  0.15469408  0.09773321 -0.09838304] 1.0 False {}\n",
      "step 25 [-0.04719363 -0.04168287  0.09576555  0.22346453] 1.0 False {}\n",
      "step 26 [-0.04802729  0.15194917  0.10023484 -0.03754062] 1.0 False {}\n",
      "step 27 [-0.0449883   0.34550154  0.09948403 -0.2969922 ] 1.0 False {}\n",
      "step 28 [-0.03807827  0.14911252  0.09354419  0.02533483] 1.0 False {}\n",
      "step 29 [-0.03509602  0.34277716  0.09405088 -0.23643012] 1.0 False {}\n",
      "step 30 [-0.02824048  0.53643835  0.08932228 -0.4980279 ] 1.0 False {}\n",
      "step 31 [-0.01751171  0.34017807  0.07936173 -0.1785852 ] 1.0 False {}\n",
      "step 32 [-0.01070815  0.5340799   0.07579003 -0.44521466] 1.0 False {}\n",
      "step 33 [-2.655210e-05  7.280524e-01  6.688573e-02 -7.130771e-01] 1.0 False {}\n",
      "step 34 [ 0.01453449  0.53207123  0.05262418 -0.40011305] 1.0 False {}\n",
      "step 35 [ 0.02517592  0.7264087   0.04462193 -0.6757514 ] 1.0 False {}\n",
      "step 36 [ 0.0397041  0.5306961  0.0311069 -0.3693601] 1.0 False {}\n",
      "step 37 [ 0.05031802  0.33514628  0.0237197  -0.06703334] 1.0 False {}\n",
      "step 38 [0.05702094 0.13969241 0.02237903 0.23303789] 1.0 False {}\n",
      "step 39 [ 0.05981479 -0.05574203  0.02703979  0.53269506] 1.0 False {}\n",
      "step 40 [0.05869995 0.13898939 0.03769369 0.24865343] 1.0 False {}\n",
      "step 41 [ 0.06147974  0.3335533   0.04266676 -0.03190586] 1.0 False {}\n",
      "step 42 [ 0.0681508   0.52803826  0.04202864 -0.31082755] 1.0 False {}\n",
      "step 43 [ 0.07871157  0.33234352  0.03581209 -0.00519186] 1.0 False {}\n",
      "step 44 [0.08535844 0.13672675 0.03570825 0.29857165] 1.0 False {}\n",
      "step 45 [ 0.08809298 -0.05888553  0.04167968  0.60229903] 1.0 False {}\n",
      "step 46 [ 0.08691526 -0.25456494  0.05372566  0.9078135 ] 1.0 False {}\n",
      "step 47 [ 0.08182397 -0.06020983  0.07188194  0.6324892 ] 1.0 False {}\n",
      "step 48 [0.08061977 0.13383956 0.08453172 0.3632819 ] 1.0 False {}\n",
      "step 49 [0.08329656 0.32766473 0.09179736 0.098405  ] 1.0 False {}\n",
      "step 50 [ 0.08984985  0.5213593   0.09376546 -0.16396306] 1.0 False {}\n",
      "step 51 [0.10027704 0.32502893 0.0904862  0.1567656 ] 1.0 False {}\n",
      "step 52 [0.10677762 0.12873578 0.09362151 0.4765674 ] 1.0 False {}\n",
      "step 53 [ 0.10935234 -0.06757476  0.10315286  0.79722816] 1.0 False {}\n",
      "step 54 [0.10800084 0.12599197 0.11909742 0.5386946 ] 1.0 False {}\n",
      "step 55 [ 0.11052068 -0.07058521  0.12987131  0.8664036 ] 1.0 False {}\n",
      "step 56 [ 0.10910898 -0.2672127   0.14719938  1.1969359 ] 1.0 False {}\n",
      "step 57 [ 0.10376472 -0.07427012  0.1711381   0.9537723 ] 1.0 False {}\n",
      "step 58 [0.10227932 0.11818781 0.19021355 0.71937203] 1.0 False {}\n",
      "step 59 [0.10464308 0.31024027 0.20460099 0.49207535] 1.0 False {}\n",
      "step 60 [0.11084788 0.501978   0.21444249 0.2702015 ] 1.0 True {}\n",
      "Moviepy - Building video ./video/Trained_1000_episodes.mp4.\n",
      "Moviepy - Writing video ./video/Trained_1000_episodes.mp4\n",
      "\n"
     ]
    },
    {
     "name": "stderr",
     "output_type": "stream",
     "text": [
      "                                                             "
     ]
    },
    {
     "name": "stdout",
     "output_type": "stream",
     "text": [
      "Moviepy - Done !\n",
      "Moviepy - video ready ./video/Trained_1000_episodes.mp4\n"
     ]
    },
    {
     "name": "stderr",
     "output_type": "stream",
     "text": [
      "\r"
     ]
    }
   ],
   "source": [
    "video = VideoRecorder(env,path=\"./video/Trained_1000_episodes.mp4\")\n",
    "\n",
    "done = False\n",
    "i = 0 \n",
    "\n",
    "env.reset()\n",
    "last_screen = get_screen()\n",
    "current_screen = get_screen()\n",
    "state = current_screen - last_screen\n",
    "\n",
    "while (~done) :\n",
    "      \n",
    "  env.render()\n",
    "  video.capture_frame()\n",
    "      \n",
    "  action = select_action(state)\n",
    "  observation,reward,done,_,info = env.step(action.item())\n",
    "  \n",
    "  print(\"step\", i, observation, reward, done, info)\n",
    "  \n",
    "  # Observe new state\n",
    "  last_screen = current_screen\n",
    "  \n",
    "  current_screen = get_screen()\n",
    "  if not done:\n",
    "    state = current_screen - last_screen\n",
    "  else:\n",
    "    break\n",
    "  \n",
    "  i = i+1\n",
    "\n",
    "video.close()\n",
    "env.close()"
   ]
  },
  {
   "cell_type": "code",
   "execution_count": 31,
   "metadata": {},
   "outputs": [
    {
     "data": {
      "text/html": [
       "\n",
       "<video controls>\n",
       "    <source src = \"video/Trained_1000_episodes.mp4\" type =\"video/mp4\">\n",
       "</video>\n"
      ],
      "text/plain": [
       "<IPython.core.display.HTML object>"
      ]
     },
     "execution_count": 31,
     "metadata": {},
     "output_type": "execute_result"
    }
   ],
   "source": [
    "from IPython.display import HTML\n",
    "\n",
    "HTML(\"\"\"\n",
    "<video controls>\n",
    "    <source src = \"%s\" type =\"video/mp4\">\n",
    "</video>\n",
    "\"\"\"%\"video/Trained_1000_episodes.mp4\"\n",
    ")"
   ]
  }
 ],
 "metadata": {
  "kernelspec": {
   "display_name": "Python 3.9.15 ('ComputerVision')",
   "language": "python",
   "name": "python3"
  },
  "language_info": {
   "codemirror_mode": {
    "name": "ipython",
    "version": 3
   },
   "file_extension": ".py",
   "mimetype": "text/x-python",
   "name": "python",
   "nbconvert_exporter": "python",
   "pygments_lexer": "ipython3",
   "version": "3.9.15"
  },
  "orig_nbformat": 4,
  "vscode": {
   "interpreter": {
    "hash": "2531915ab5b6d7f6e073a1b4ef06ed0b2b780c8145dd924165dc427f5e6c9cf0"
   }
  }
 },
 "nbformat": 4,
 "nbformat_minor": 2
}
