{
 "cells": [
  {
   "cell_type": "markdown",
   "metadata": {},
   "source": [
    "# Dhruv Rana #"
   ]
  },
  {
   "cell_type": "markdown",
   "metadata": {},
   "source": [
    "#### Remove Previous Video Folder an make a new one ####"
   ]
  },
  {
   "cell_type": "code",
   "execution_count": 1,
   "metadata": {},
   "outputs": [],
   "source": [
    "import os\n",
    "import shutil\n",
    "\n",
    "if os.path.exists(\"video\"): \n",
    "    shutil.rmtree(\"video\")\n",
    "    \n",
    "os.mkdir(\"video\")"
   ]
  },
  {
   "cell_type": "markdown",
   "metadata": {},
   "source": [
    "#### Import Packages"
   ]
  },
  {
   "cell_type": "code",
   "execution_count": 2,
   "metadata": {},
   "outputs": [
    {
     "name": "stdout",
     "output_type": "stream",
     "text": [
      "Using cuda for infrence\n"
     ]
    },
    {
     "data": {
      "text/plain": [
       "[1]"
      ]
     },
     "execution_count": 2,
     "metadata": {},
     "output_type": "execute_result"
    }
   ],
   "source": [
    "import gym\n",
    "from gym.wrappers.monitoring.video_recorder import VideoRecorder\n",
    "import math\n",
    "import random\n",
    "import numpy as np\n",
    "import matplotlib\n",
    "import matplotlib.pyplot as plt\n",
    "from collections import namedtuple, deque\n",
    "from itertools import count\n",
    "from PIL import Image\n",
    "\n",
    "import torch\n",
    "import torch.nn as nn\n",
    "import torch.optim as optim\n",
    "import torch.nn.functional as F\n",
    "import torchvision.transforms as T\n",
    "\n",
    "\n",
    "if gym.__version__ < '0.26':\n",
    "    env = gym.make('CartPole-v1', new_step_api=True, render_mode='single_rgb_array').unwrapped\n",
    "else:\n",
    "    env = gym.make('CartPole-v1', render_mode='rgb_array').unwrapped\n",
    "\n",
    "plt.ion()\n",
    "\n",
    "# if gpu is to be used\n",
    "device = torch.device(\"cuda\" if torch.cuda.is_available() else \"cpu\")\n",
    "print(f\"Using {device} for infrence\")\n",
    "\n",
    "# Trying to make the code a bit deterministic\n",
    "torch.manual_seed(1)\n",
    "random.seed(1)\n",
    "np.random.seed(1)\n",
    "gym.spaces.Space.seed(env,1)"
   ]
  },
  {
   "cell_type": "markdown",
   "metadata": {},
   "source": [
    "#### Create Memory to save transitions of states of env."
   ]
  },
  {
   "cell_type": "code",
   "execution_count": 3,
   "metadata": {},
   "outputs": [],
   "source": [
    "Transition = namedtuple('Transition',\n",
    "                        ('state', 'action', 'next_state', 'reward'))\n",
    "\n",
    "\n",
    "#Create memory that can store the tranisitions between states. Only the amount capacity speciifed can be held\n",
    "#We will use this memeory in optimization to optimize our network and reduce the loss.\n",
    "\n",
    "class ReplayMemory(object):\n",
    "\n",
    "    def __init__(self, capacity):\n",
    "        self.memory = deque([],maxlen=capacity)\n",
    "\n",
    "    def push(self, *args):\n",
    "        \"\"\"Save a transition\"\"\"\n",
    "        self.memory.append(Transition(*args))\n",
    "\n",
    "    def sample(self, batch_size):\n",
    "        return random.sample(self.memory, batch_size)\n",
    "\n",
    "    def __len__(self):\n",
    "        return len(self.memory)"
   ]
  },
  {
   "cell_type": "markdown",
   "metadata": {},
   "source": [
    "##### Build Deep Network"
   ]
  },
  {
   "cell_type": "code",
   "execution_count": 4,
   "metadata": {},
   "outputs": [],
   "source": [
    "# Using given torch modules we will create our own newteok from scratch.\n",
    "# Our output should be equal to our action space which is 2\n",
    "# our input should take 3 channel inputs for a rgb image with a fixed height and width\n",
    "# We will also need a forward function when evaluating the next action of a given state\n",
    "# This will also be used for optimization\n",
    "\n",
    "class DQN(nn.Module):\n",
    "    \n",
    "    def __init__(self, h, w, outputs):\n",
    "        super(DQN, self).__init__()\n",
    "        self.conv1 = nn.Conv2d(3, 16, kernel_size=5, stride=2)\n",
    "        self.bn1 = nn.BatchNorm2d(16)\n",
    "        self.conv2 = nn.Conv2d(16, 32, kernel_size=5, stride=2)\n",
    "        self.bn2 = nn.BatchNorm2d(32)\n",
    "        self.conv3 = nn.Conv2d(32, 32, kernel_size=5, stride=2)\n",
    "        self.bn3 = nn.BatchNorm2d(32)\n",
    "\n",
    "        def conv2d_size_out(size, kernel_size = 5, stride = 2):\n",
    "            return (size - (kernel_size - 1) - 1) // stride  + 1\n",
    "        convw = conv2d_size_out(conv2d_size_out(conv2d_size_out(w)))\n",
    "        convh = conv2d_size_out(conv2d_size_out(conv2d_size_out(h)))\n",
    "        linear_input_size = convw * convh * 32\n",
    "        self.head = nn.Linear(linear_input_size, outputs)\n",
    "\n",
    "    def forward(self, x):\n",
    "        x = x.to(device)\n",
    "        x = F.relu(self.bn1(self.conv1(x)))\n",
    "        x = F.relu(self.bn2(self.conv2(x)))\n",
    "        x = F.relu(self.bn3(self.conv3(x)))\n",
    "        return self.head(x.view(x.size(0), -1))"
   ]
  },
  {
   "cell_type": "markdown",
   "metadata": {},
   "source": [
    "#### Supporting Methods to extract screen from env."
   ]
  },
  {
   "cell_type": "code",
   "execution_count": 5,
   "metadata": {},
   "outputs": [
    {
     "name": "stderr",
     "output_type": "stream",
     "text": [
      "C:\\Users\\dhruv\\AppData\\Local\\Temp\\ipykernel_29324\\3393503992.py:7: DeprecationWarning: CUBIC is deprecated and will be removed in Pillow 10 (2023-07-01). Use Resampling.BICUBIC instead.\n",
      "  T.Resize(40, interpolation=Image.CUBIC),\n",
      "c:\\Users\\dhruv\\.conda\\envs\\ComputerVision\\lib\\site-packages\\torchvision\\transforms\\transforms.py:329: UserWarning: Argument 'interpolation' of type int is deprecated since 0.13 and will be removed in 0.15. Please use InterpolationMode enum.\n",
      "  warnings.warn(\n"
     ]
    },
    {
     "data": {
      "image/png": "[encoded data removed]",
      "text/plain": [
       "<Figure size 640x480 with 1 Axes>"
      ]
     },
     "metadata": {},
     "output_type": "display_data"
    }
   ],
   "source": [
    "# Our network takes an image as input\n",
    "# We need to get the image that show the state of our environement\n",
    "# However we only need the image of the cart and pole to determine the action\n",
    "# Thus we create an image(40x90) centered around the cart \n",
    "\n",
    "resize = T.Compose([T.ToPILImage(),\n",
    "                    T.Resize(40, interpolation=Image.CUBIC),\n",
    "                    T.ToTensor()])\n",
    "\n",
    "\n",
    "def get_cart_location(screen_width):\n",
    "    world_width = env.x_threshold * 2\n",
    "    scale = screen_width / world_width\n",
    "    return int(env.state[0] * scale + screen_width / 2.0)\n",
    "\n",
    "def get_screen():\n",
    "    screen = env.render().transpose((2, 0, 1))\n",
    "\n",
    "    _, screen_height, screen_width = screen.shape\n",
    "    screen = screen[:, int(screen_height*0.4):int(screen_height * 0.8)]\n",
    "    view_width = int(screen_width * 0.6)\n",
    "    cart_location = get_cart_location(screen_width)\n",
    "    if cart_location < view_width // 2:\n",
    "        slice_range = slice(view_width)\n",
    "    elif cart_location > (screen_width - view_width // 2):\n",
    "        slice_range = slice(-view_width, None)\n",
    "    else:\n",
    "        slice_range = slice(cart_location - view_width // 2,\n",
    "                            cart_location + view_width // 2)\n",
    "\n",
    "    screen = screen[:, :, slice_range]\n",
    "\n",
    "    screen = np.ascontiguousarray(screen, dtype=np.float32) / 255\n",
    "    screen = torch.from_numpy(screen)\n",
    "\n",
    "    return resize(screen).unsqueeze(0)\n",
    "\n",
    "\n",
    "env.reset()\n",
    "plt.figure()\n",
    "plt.imshow(get_screen().cpu().squeeze(0).permute(1, 2, 0).numpy(),interpolation='none')\n",
    "plt.title('Example extracted screen')\n",
    "plt.show()"
   ]
  },
  {
   "cell_type": "markdown",
   "metadata": {},
   "source": [
    "#### Hyperparameters"
   ]
  },
  {
   "cell_type": "code",
   "execution_count": 6,
   "metadata": {},
   "outputs": [],
   "source": [
    "BATCH_SIZE = 128\n",
    "GAMMA = 0.999\n",
    "EPS_START = 0.9\n",
    "EPS_END = 0.05\n",
    "EPS_DECAY = 200\n",
    "TARGET_UPDATE = 5"
   ]
  },
  {
   "cell_type": "markdown",
   "metadata": {},
   "source": [
    "#### Create Policy of DQN"
   ]
  },
  {
   "cell_type": "code",
   "execution_count": 7,
   "metadata": {},
   "outputs": [],
   "source": [
    "# Since the network needs the size of the image to initalize we geet a scrren and measure the dimensions to create the network\n",
    "# Our get screen gives out a image of 3x40x90 \n",
    "\n",
    "\n",
    "init_screen = get_screen()\n",
    "_, _, screen_height, screen_width = init_screen.shape\n",
    "\n",
    "n_actions = env.action_space.n\n",
    "\n",
    "policy_net = DQN(screen_height, screen_width, n_actions).to(device)\n",
    "target_net = DQN(screen_height, screen_width, n_actions).to(device)\n",
    "target_net.load_state_dict(policy_net.state_dict())\n",
    "target_net.eval()\n",
    "\n",
    "optimizer = optim.RMSprop(policy_net.parameters())\n",
    "memory = ReplayMemory(10000)"
   ]
  },
  {
   "cell_type": "markdown",
   "metadata": {},
   "source": [
    "#### Method to pick action based on state"
   ]
  },
  {
   "cell_type": "code",
   "execution_count": 8,
   "metadata": {},
   "outputs": [],
   "source": [
    "# We are using the greedy approach where we use the policy \n",
    "# but sometime we pass a random action in hopes of achiving better performance\n",
    "\n",
    "steps_done = 0\n",
    "\n",
    "def select_action(state):\n",
    "    global steps_done\n",
    "    sample = random.random()\n",
    "    eps_threshold = EPS_END + (EPS_START - EPS_END) * math.exp(-1. * steps_done / EPS_DECAY)\n",
    "    steps_done += 1\n",
    "    if sample > eps_threshold:\n",
    "        with torch.no_grad():\n",
    "            # t.max(1) will return largest column value of each row.\n",
    "            # second column on max result is index of where max element was\n",
    "            # found, so we pick action with the larger expected reward.\n",
    "            return policy_net(state).max(1)[1].view(1, 1)\n",
    "    else:\n",
    "        return torch.tensor([[random.randrange(n_actions)]], device=device, dtype=torch.long)"
   ]
  },
  {
   "cell_type": "markdown",
   "metadata": {},
   "source": [
    "#### Method to plot peformance (time survived by agent per episode)"
   ]
  },
  {
   "cell_type": "code",
   "execution_count": 9,
   "metadata": {},
   "outputs": [],
   "source": [
    "# A helper function that plots the amount time the agent survived for a given episode\n",
    "# It also starts ploting the mean for episodes more than 100\n",
    "\n",
    "episode_durations = []\n",
    "\n",
    "def plot_durations(title):\n",
    "    plt.figure()\n",
    "    plt.clf()\n",
    "    durations_t = torch.tensor(episode_durations, dtype=torch.float)\n",
    "    plt.title(title)\n",
    "    plt.xlabel('Episode')\n",
    "    plt.ylabel('Duration')\n",
    "    plt.plot(durations_t.numpy())\n",
    "    # Take 100 episode averages and plot them too\n",
    "    if len(durations_t) >= 100:\n",
    "        means = durations_t.unfold(0, 100, 1).mean(1).view(-1)\n",
    "        means = torch.cat((torch.zeros(99), means))\n",
    "        plt.plot(means.numpy())\n",
    "\n",
    "    plt.pause(0.001)  # pause a bit so that plots are updated"
   ]
  },
  {
   "cell_type": "markdown",
   "metadata": {},
   "source": [
    "#### Method to optimize DQN"
   ]
  },
  {
   "cell_type": "code",
   "execution_count": 10,
   "metadata": {},
   "outputs": [],
   "source": [
    "# Make a function for optimization that use back propogation \n",
    "# We use the Huber loss function and use RMSprop as our optimizer\n",
    "\n",
    "def optimize_model():\n",
    "    if len(memory) < BATCH_SIZE:\n",
    "        return\n",
    "    transitions = memory.sample(BATCH_SIZE)\n",
    "\n",
    "    batch = Transition(*zip(*transitions))\n",
    "\n",
    "    non_final_mask = torch.tensor(tuple(map(lambda s: s is not None, batch.next_state)), device=device, dtype=torch.bool)\n",
    "    non_final_next_states = torch.cat([s for s in batch.next_state if s is not None])\n",
    "    \n",
    "    state_batch = torch.cat(batch.state)\n",
    "    action_batch = torch.cat(batch.action)\n",
    "    reward_batch = torch.cat(batch.reward)\n",
    "\n",
    "    state_action_values = policy_net(state_batch).gather(1, action_batch)\n",
    "\n",
    "   \n",
    "    next_state_values = torch.zeros(BATCH_SIZE, device=device)\n",
    "    next_state_values[non_final_mask] = target_net(non_final_next_states).max(1)[0].detach()\n",
    "\n",
    "    expected_state_action_values = (next_state_values * GAMMA) + reward_batch\n",
    "\n",
    "\n",
    "    criterion = nn.SmoothL1Loss()\n",
    "    loss = criterion(state_action_values, expected_state_action_values.unsqueeze(1))\n",
    "    \n",
    "    optimizer.zero_grad()\n",
    "    loss.backward()\n",
    "    for param in policy_net.parameters():\n",
    "        param.grad.data.clamp_(-1, 1)\n",
    "    optimizer.step()"
   ]
  },
  {
   "cell_type": "markdown",
   "metadata": {},
   "source": [
    "#### Random Agent w/o training"
   ]
  },
  {
   "cell_type": "code",
   "execution_count": 11,
   "metadata": {},
   "outputs": [
    {
     "data": {
      "image/png": "[encoded data removed]",
      "text/plain": [
       "<Figure size 640x480 with 1 Axes>"
      ]
     },
     "metadata": {},
     "output_type": "display_data"
    }
   ],
   "source": [
    "# We fisrt test a random agent by giving random actions to the agent\n",
    "# we use the plot_duration() function to plot the time the agent survived for each episode\n",
    "\n",
    "num_episodes = 500\n",
    "\n",
    "for i_episode in range(num_episodes):\n",
    "\n",
    "    env.reset()\n",
    "    for t in count():\n",
    "        \n",
    "        action = random.randrange(n_actions) \n",
    "        \n",
    "        _, reward, done, _, _ = env.step(action)\n",
    "\n",
    "        if done:\n",
    "            episode_durations.append(t + 1)\n",
    "            break\n",
    "\n",
    "plt.ioff()\n",
    "plot_durations(\"Random Agent\")\n",
    "plt.show()\n",
    "\n",
    "episode_durations = []\n",
    "steps_done = 0"
   ]
  },
  {
   "cell_type": "code",
   "execution_count": 12,
   "metadata": {},
   "outputs": [
    {
     "name": "stdout",
     "output_type": "stream",
     "text": [
      "step 0 [-0.0062278  -0.16740009 -0.01026934  0.2542552 ] 1.0 False\n",
      "step 1 [-0.00957581  0.02786697 -0.00518424 -0.04164908] 1.0 False\n",
      "step 2 [-0.00901847  0.22306287 -0.00601722 -0.33596316] 1.0 False\n",
      "step 3 [-0.00455721  0.41826993 -0.01273648 -0.6305375 ] 1.0 False\n",
      "step 4 [ 0.00380819  0.6135673  -0.02534723 -0.9272042 ] 1.0 False\n",
      "step 5 [ 0.01607954  0.4187966  -0.04389131 -0.64259326] 1.0 False\n",
      "step 6 [ 0.02445547  0.224313   -0.05674318 -0.36404878] 1.0 False\n",
      "step 7 [ 0.02894173  0.03004148 -0.06402416 -0.08978403] 1.0 False\n",
      "step 8 [ 0.02954256  0.22601992 -0.06581984 -0.40195963] 1.0 False\n",
      "step 9 [ 0.03406296  0.03189028 -0.07385903 -0.13073277] 1.0 False\n",
      "step 10 [ 0.03470076  0.22798827 -0.07647368 -0.44577262] 1.0 False\n",
      "step 11 [ 0.03926053  0.03402682 -0.08538914 -0.17814215] 1.0 False\n",
      "step 12 [ 0.03994106  0.23026036 -0.08895198 -0.4964939 ] 1.0 False\n",
      "step 13 [ 0.04454627  0.03649791 -0.09888186 -0.23311673] 1.0 False\n",
      "step 14 [ 0.04527623  0.23288347 -0.10354419 -0.55528   ] 1.0 False\n",
      "step 15 [ 0.0499339   0.42929518 -0.11464979 -0.8787073 ] 1.0 False\n",
      "step 16 [ 0.0585198   0.23590212 -0.13222393 -0.6241554 ] 1.0 False\n",
      "step 17 [ 0.06323785  0.43259805 -0.14470704 -0.95538455] 1.0 False\n",
      "step 18 [ 0.0718898   0.23968767 -0.16381474 -0.71143895] 1.0 False\n",
      "step 19 [ 0.07668356  0.43665332 -0.17804351 -1.0508784 ] 1.0 False\n",
      "step 20 [ 0.08541662  0.24428184 -0.19906108 -0.8189514 ] 1.0 False\n",
      "step 21 [ 0.09030226  0.44149014 -0.21544011 -1.1670606 ] 1.0 True\n",
      "Moviepy - Building video ./video/No_Training.mp4.\n",
      "Moviepy - Writing video ./video/No_Training.mp4\n",
      "\n"
     ]
    },
    {
     "name": "stderr",
     "output_type": "stream",
     "text": [
      "                                                   "
     ]
    },
    {
     "name": "stdout",
     "output_type": "stream",
     "text": [
      "Moviepy - Done !\n",
      "Moviepy - video ready ./video/No_Training.mp4\n"
     ]
    },
    {
     "name": "stderr",
     "output_type": "stream",
     "text": [
      "\r"
     ]
    }
   ],
   "source": [
    "# Let us look at some results of using the random agent\n",
    "# We use the provided module VideoRecoder by openAI\n",
    "# This modules save the frame from a render of the environment and turns it into a mp4\n",
    "\n",
    "#!!! I am using MoviePy for making the mp4, I searched a lot but could not suppress the otuputs from it\n",
    "\n",
    "video = VideoRecorder(env,path=\"./video/No_Training.mp4\")\n",
    "\n",
    "env.reset()\n",
    "\n",
    "for i in count():\n",
    "\n",
    "  #Get a video of random agent\n",
    "  env.render()\n",
    "  video.capture_frame()\n",
    "  \n",
    "  #produces either 0 (left) or 1 (right).\n",
    "  action = random.randrange(n_actions)\n",
    "  \n",
    "  output = env.step(action)\n",
    "  \n",
    "  observation = output[0] # Cart Position , Cart Velocity, Pole Angle, Pole Angular Velocity\n",
    "  reward = output[1] # +1 for every step (Goal : keep the pole up as long as possible)\n",
    "  done = output[2] # boolean : True-> when pole falls (pole angle more than 12, postioion more than 2.4)\n",
    "  \n",
    "  print(\"step\", i, observation, reward, done)\n",
    "  \n",
    "  if done:\n",
    "    break\n",
    "\n",
    "video.close()"
   ]
  },
  {
   "cell_type": "code",
   "execution_count": 13,
   "metadata": {},
   "outputs": [
    {
     "data": {
      "text/html": [
       "\n",
       "<video controls>\n",
       "    <source src = \"video/No_Training.mp4\" type =\"video/mp4\">\n",
       "</video>\n"
      ],
      "text/plain": [
       "<IPython.core.display.HTML object>"
      ]
     },
     "execution_count": 13,
     "metadata": {},
     "output_type": "execute_result"
    }
   ],
   "source": [
    "from IPython.display import HTML\n",
    "\n",
    "HTML(\"\"\"\n",
    "<video controls>\n",
    "    <source src = \"%s\" type =\"video/mp4\">\n",
    "</video>\n",
    "\"\"\"%\"video/No_Training.mp4\"\n",
    ")"
   ]
  },
  {
   "cell_type": "markdown",
   "metadata": {},
   "source": [
    "#### Agent Trained for 200 Episodes (small amount of time)"
   ]
  },
  {
   "cell_type": "code",
   "execution_count": 14,
   "metadata": {},
   "outputs": [],
   "source": [
    "# Reinitialize all the needed variables so we can train a agent for a small amount of time\n",
    "\n",
    "init_screen = get_screen()\n",
    "_, _, screen_height, screen_width = init_screen.shape\n",
    "\n",
    "n_actions = env.action_space.n\n",
    "\n",
    "policy_net = DQN(screen_height, screen_width, n_actions).to(device)\n",
    "target_net = DQN(screen_height, screen_width, n_actions).to(device)\n",
    "target_net.load_state_dict(policy_net.state_dict())\n",
    "target_net.eval()\n",
    "\n",
    "optimizer = optim.RMSprop(policy_net.parameters())\n",
    "memory = ReplayMemory(10000)"
   ]
  },
  {
   "cell_type": "code",
   "execution_count": 15,
   "metadata": {},
   "outputs": [
    {
     "name": "stdout",
     "output_type": "stream",
     "text": [
      "Complete\n"
     ]
    }
   ],
   "source": [
    "# We will train the agent for 150 episodes\n",
    "# We will use our select_action() function to pick the action ouputed by the netwrok or the randomly generated action\n",
    "# The we will perform optimization of the policy based on the transitions saved in the memory\n",
    "# We will update our target_net every TARGET_UPDATE interval\n",
    "\n",
    "num_episodes = 150\n",
    "for i_episode in range(num_episodes):\n",
    "    \n",
    "    env.reset()\n",
    "    last_screen = get_screen()\n",
    "    current_screen = get_screen()\n",
    "    state = current_screen - last_screen\n",
    "    \n",
    "    for t in count():\n",
    "\n",
    "        action = select_action(state)\n",
    "        _, reward, done, _, _ = env.step(action.item())\n",
    "        reward = torch.tensor([reward], device=device)\n",
    "\n",
    "        last_screen = current_screen\n",
    "        current_screen = get_screen()\n",
    "        if not done:\n",
    "            next_state = current_screen - last_screen\n",
    "        else:\n",
    "            next_state = None\n",
    "\n",
    "        memory.push(state, action, next_state, reward)\n",
    "\n",
    "        state = next_state\n",
    "\n",
    "        optimize_model()\n",
    "        if done:\n",
    "            episode_durations.append(t + 1)\n",
    "            break\n",
    "\n",
    "        if t % TARGET_UPDATE == 0:\n",
    "            target_net.load_state_dict(policy_net.state_dict())\n",
    "\n",
    "print('Complete')\n",
    "\n",
    "episode_durations = []\n",
    "steps_done = 0"
   ]
  },
  {
   "cell_type": "code",
   "execution_count": 16,
   "metadata": {},
   "outputs": [
    {
     "data": {
      "image/png": "[encoded data removed]",
      "text/plain": [
       "<Figure size 640x480 with 1 Axes>"
      ]
     },
     "metadata": {},
     "output_type": "display_data"
    }
   ],
   "source": [
    "# Next we will check how the agent performs using the plot_duration() function\n",
    "\n",
    "num_episodes = 150\n",
    "for i_episode in range(num_episodes):\n",
    "    # Initialize the environment and state\n",
    "    env.reset()\n",
    "    last_screen = get_screen()\n",
    "    current_screen = get_screen()\n",
    "    state = current_screen - last_screen\n",
    "    for t in count():\n",
    "        \n",
    "        action = select_action(state)\n",
    "        _, reward, done, _, _ = env.step(action.item())\n",
    "\n",
    "        last_screen = current_screen\n",
    "        current_screen = get_screen()\n",
    "        \n",
    "        if not done:\n",
    "            state = current_screen - last_screen\n",
    "        else:\n",
    "            episode_durations.append(t + 1)\n",
    "            break\n",
    "   \n",
    "\n",
    "env.render()\n",
    "plt.ioff()\n",
    "plot_durations(\"Agent Trained for 200 Episodes\")\n",
    "plt.show()\n",
    "\n",
    "episode_durations = []\n",
    "steps_done = 0\n",
    "\n",
    "# We see that on average the agent stays alive fro longer duration than the random agent"
   ]
  },
  {
   "cell_type": "code",
   "execution_count": 17,
   "metadata": {},
   "outputs": [
    {
     "name": "stdout",
     "output_type": "stream",
     "text": [
      "step 0 [ 0.02512044  0.23132452 -0.00334383 -0.2912202 ] 1.0 False {}\n",
      "step 1 [ 0.02974693  0.03625041 -0.00916824  0.00040625] 1.0 False {}\n",
      "step 2 [ 0.03047193 -0.15873887 -0.00916011  0.29018244] 1.0 False {}\n",
      "step 3 [ 0.02729716  0.0365125  -0.00335646 -0.00537534] 1.0 False {}\n",
      "step 4 [ 0.02802741 -0.15856116 -0.00346397  0.2862467 ] 1.0 False {}\n",
      "step 5 [ 0.02485618  0.03661003  0.00226096 -0.00752673] 1.0 False {}\n",
      "step 6 [ 0.02558838 -0.15854427  0.00211043  0.2858687 ] 1.0 False {}\n",
      "step 7 [ 0.0224175   0.03654751  0.0078278  -0.00614786] 1.0 False {}\n",
      "step 8 [ 0.02314845 -0.15868582  0.00770485  0.28899452] 1.0 False {}\n",
      "step 9 [ 0.01997473 -0.3539168   0.01348474  0.5840975 ] 1.0 False {}\n",
      "step 10 [ 0.0128964  -0.15898632  0.02516669  0.29569274] 1.0 False {}\n",
      "step 11 [0.00971667 0.03576799 0.03108054 0.01105202] 1.0 False {}\n",
      "step 12 [ 0.01043203 -0.1597856   0.03130158  0.31337693] 1.0 False {}\n",
      "step 13 [0.00723632 0.03487679 0.03756912 0.03072756] 1.0 False {}\n",
      "step 14 [ 0.00793385  0.22944039  0.03818367 -0.2498692 ] 1.0 False {}\n",
      "step 15 [ 0.01252266  0.42399684  0.03318629 -0.5302679 ] 1.0 False {}\n",
      "step 16 [ 0.0210026   0.6186366   0.02258093 -0.8123118 ] 1.0 False {}\n",
      "step 17 [ 0.03337533  0.42321277  0.00633469 -0.5126125 ] 1.0 False {}\n",
      "step 18 [ 0.04183958  0.22800218 -0.00391756 -0.21794012] 1.0 False {}\n",
      "step 19 [ 0.04639963  0.03293644 -0.00827636  0.07350447] 1.0 False {}\n",
      "step 20 [ 0.04705836  0.22817606 -0.00680627 -0.22177815] 1.0 False {}\n",
      "step 21 [ 0.05162188  0.42339462 -0.01124183 -0.51660025] 1.0 False {}\n",
      "step 22 [ 0.06008977  0.6186731  -0.02157384 -0.8128044 ] 1.0 False {}\n",
      "step 23 [ 0.07246324  0.81408376 -0.03782992 -1.1121944 ] 1.0 False {}\n",
      "step 24 [ 0.08874491  1.0096816  -0.06007382 -1.4165007 ] 1.0 False {}\n",
      "step 25 [ 0.10893854  1.2054939  -0.08840383 -1.7273403 ] 1.0 False {}\n",
      "step 26 [ 0.13304842  1.0114868  -0.12295064 -1.463423  ] 1.0 False {}\n",
      "step 27 [ 0.15327816  1.2078819  -0.1522191  -1.7918484 ] 1.0 False {}\n",
      "step 28 [ 0.1774358   1.4043479  -0.18805607 -2.1277194 ] 1.0 False {}\n",
      "step 29 [ 0.20552275  1.6007756  -0.23061046 -2.4721296 ] 1.0 True {}\n",
      "Moviepy - Building video ./video/Trained_200_episodes.mp4.\n",
      "Moviepy - Writing video ./video/Trained_200_episodes.mp4\n",
      "\n"
     ]
    },
    {
     "name": "stderr",
     "output_type": "stream",
     "text": [
      "                                                   "
     ]
    },
    {
     "name": "stdout",
     "output_type": "stream",
     "text": [
      "Moviepy - Done !\n",
      "Moviepy - video ready ./video/Trained_200_episodes.mp4\n"
     ]
    },
    {
     "name": "stderr",
     "output_type": "stream",
     "text": [
      "\r"
     ]
    }
   ],
   "source": [
    "# We can also visualize how the agent perform using the VideoRecoder module\n",
    "\n",
    "video = VideoRecorder(env,path=\"./video/Trained_200_episodes.mp4\")\n",
    "\n",
    "done = False\n",
    "i = 0 \n",
    "\n",
    "env.reset()\n",
    "last_screen = get_screen()\n",
    "current_screen = get_screen()\n",
    "state = current_screen - last_screen\n",
    "\n",
    "while (~done) :\n",
    "      \n",
    "  env.render()\n",
    "  video.capture_frame()\n",
    "      \n",
    "  action = select_action(state)\n",
    "  observation,reward,done,_,info = env.step(action.item())\n",
    "  \n",
    "  print(\"step\", i, observation, reward, done, info)\n",
    "\n",
    "  last_screen = current_screen\n",
    "  \n",
    "  current_screen = get_screen()\n",
    "  if not done:\n",
    "    state = current_screen - last_screen\n",
    "  else:\n",
    "    break\n",
    "  \n",
    "  i = i+1\n",
    "\n",
    "video.close()\n",
    "env.close()"
   ]
  },
  {
   "cell_type": "code",
   "execution_count": 18,
   "metadata": {},
   "outputs": [
    {
     "data": {
      "text/html": [
       "\n",
       "<video controls>\n",
       "    <source src = \"video/Trained_200_episodes.mp4\" type =\"video/mp4\">\n",
       "</video>\n"
      ],
      "text/plain": [
       "<IPython.core.display.HTML object>"
      ]
     },
     "execution_count": 18,
     "metadata": {},
     "output_type": "execute_result"
    }
   ],
   "source": [
    "from IPython.display import HTML\n",
    "\n",
    "HTML(\"\"\"\n",
    "<video controls>\n",
    "    <source src = \"%s\" type =\"video/mp4\">\n",
    "</video>\n",
    "\"\"\"%\"video/Trained_200_episodes.mp4\"\n",
    ")\n",
    "\n",
    "#We takes more step, and try to balance the pole but it still fails"
   ]
  },
  {
   "cell_type": "markdown",
   "metadata": {},
   "source": [
    "#### Agent Trained for 1000 Episodes (Large amount of time)"
   ]
  },
  {
   "cell_type": "code",
   "execution_count": 19,
   "metadata": {},
   "outputs": [],
   "source": [
    "# We repeat all the steps and train the agen for a longer time now\n",
    "\n",
    "init_screen = get_screen()\n",
    "_, _, screen_height, screen_width = init_screen.shape\n",
    "\n",
    "n_actions = env.action_space.n\n",
    "\n",
    "policy_net = DQN(screen_height, screen_width, n_actions).to(device)\n",
    "target_net = DQN(screen_height, screen_width, n_actions).to(device)\n",
    "target_net.load_state_dict(policy_net.state_dict())\n",
    "target_net.eval()\n",
    "\n",
    "optimizer = optim.RMSprop(policy_net.parameters())\n",
    "memory = ReplayMemory(10000)"
   ]
  },
  {
   "cell_type": "code",
   "execution_count": 20,
   "metadata": {},
   "outputs": [
    {
     "name": "stdout",
     "output_type": "stream",
     "text": [
      "Complete\n"
     ]
    }
   ],
   "source": [
    "# This time we will train the agent for 1000 episodes\n",
    "\n",
    "num_episodes = 1000\n",
    "\n",
    "for i_episode in range(num_episodes):\n",
    "\n",
    "    env.reset()\n",
    "    last_screen = get_screen()\n",
    "    current_screen = get_screen()\n",
    "    state = current_screen - last_screen\n",
    "    for t in count():\n",
    "        \n",
    "        action = select_action(state)\n",
    "        _, reward, done, _, _ = env.step(action.item())\n",
    "        reward = torch.tensor([reward], device=device)\n",
    "\n",
    "        last_screen = current_screen\n",
    "        current_screen = get_screen()\n",
    "        \n",
    "        if not done:\n",
    "            next_state = current_screen - last_screen\n",
    "        else:\n",
    "            next_state = None\n",
    "\n",
    "        memory.push(state, action, next_state, reward)\n",
    "\n",
    "        state = next_state\n",
    "        \n",
    "        optimize_model()\n",
    "        if done:\n",
    "            episode_durations.append(t + 1)\n",
    "            break\n",
    "\n",
    "        if t % TARGET_UPDATE == 0:\n",
    "            target_net.load_state_dict(policy_net.state_dict())\n",
    "\n",
    "print('Complete')\n",
    "\n",
    "episode_durations = []\n",
    "steps_done = 0\n"
   ]
  },
  {
   "cell_type": "code",
   "execution_count": 21,
   "metadata": {},
   "outputs": [
    {
     "data": {
      "image/png": "[encoded data removed]",
      "text/plain": [
       "<Figure size 640x480 with 1 Axes>"
      ]
     },
     "metadata": {},
     "output_type": "display_data"
    }
   ],
   "source": [
    "\n",
    "num_episodes = 1000\n",
    "\n",
    "for i_episode in range(num_episodes):\n",
    "\n",
    "    env.reset()\n",
    "    last_screen = get_screen()\n",
    "    current_screen = get_screen()\n",
    "    state = current_screen - last_screen\n",
    "    \n",
    "    for t in count():\n",
    "        \n",
    "\n",
    "        action = select_action(state)\n",
    "        _, reward, done, _, _ = env.step(action.item())\n",
    "\n",
    "        last_screen = current_screen\n",
    "        current_screen = get_screen()\n",
    "        \n",
    "        if not done:\n",
    "            state = current_screen - last_screen\n",
    "        else:\n",
    "            episode_durations.append(t + 1)\n",
    "            break\n",
    "            \n",
    "\n",
    "env.render()\n",
    "plt.ioff()\n",
    "plot_durations(\"Agent Trained for 1000 Episodes\")\n",
    "plt.show()\n",
    "\n",
    "episode_durations = []\n",
    "steps_done = 0\n",
    "\n",
    "# We obsevrve that the agent stays alive more than the previous agent on average"
   ]
  },
  {
   "cell_type": "code",
   "execution_count": 117,
   "metadata": {},
   "outputs": [
    {
     "name": "stdout",
     "output_type": "stream",
     "text": [
      "step 0 [-0.0073474  -0.1754612  -0.04088422  0.31990603] 1.0 False {}\n",
      "step 1 [-0.01085662 -0.36997777 -0.0344861   0.5994204 ] 1.0 False {}\n",
      "step 2 [-0.01825618 -0.17439073 -0.02249769  0.29607743] 1.0 False {}\n",
      "step 3 [-0.02174399  0.02104459 -0.01657614 -0.00361515] 1.0 False {}\n",
      "step 4 [-0.0213231  -0.17383575 -0.01664844  0.28379205] 1.0 False {}\n",
      "step 5 [-0.02479982 -0.36871636 -0.0109726   0.571178  ] 1.0 False {}\n",
      "step 6 [-3.2174144e-02 -5.6368273e-01  4.5095920e-04  8.6038411e-01] 1.0 False {}\n",
      "step 7 [-0.0434478  -0.7588108   0.01765864  1.1532087 ] 1.0 False {}\n",
      "step 8 [-0.05862401 -0.5639236   0.04072282  0.8661149 ] 1.0 False {}\n",
      "step 9 [-0.06990249 -0.7595754   0.05804512  1.1713185 ] 1.0 False {}\n",
      "step 10 [-0.08509399 -0.5652542   0.08147149  0.89738333] 1.0 False {}\n",
      "step 11 [-0.09639908 -0.76138043  0.09941915  1.214523  ] 1.0 False {}\n",
      "step 12 [-0.11162668 -0.5676718   0.12370961  0.95457584] 1.0 False {}\n",
      "step 13 [-0.12298013 -0.37441155  0.14280112  0.7031789 ] 1.0 False {}\n",
      "step 14 [-0.13046835 -0.18152705  0.1568647   0.4586381 ] 1.0 False {}\n",
      "step 15 [-0.13409889  0.01107009  0.16603747  0.21921879] 1.0 False {}\n",
      "step 16 [-0.13387749  0.20347752  0.17042184 -0.01683218] 1.0 False {}\n",
      "step 17 [-0.12980795  0.3957977   0.17008519 -0.2512715 ] 1.0 False {}\n",
      "step 18 [-0.12189199  0.58813435  0.16505978 -0.48584914] 1.0 False {}\n",
      "step 19 [-0.1101293   0.7805895   0.15534279 -0.72230077] 1.0 False {}\n",
      "step 20 [-0.09451751  0.9732606   0.14089677 -0.96234   ] 1.0 False {}\n",
      "step 21 [-0.0750523   1.1662369   0.12164997 -1.2076492 ] 1.0 False {}\n",
      "step 22 [-0.05172756  1.3595957   0.09749699 -1.4598671 ] 1.0 False {}\n",
      "step 23 [-0.02453564  1.1634228   0.06829964 -1.1383864 ] 1.0 False {}\n",
      "step 24 [-0.00126719  0.9674774   0.04553192 -0.82508916] 1.0 False {}\n",
      "step 25 [ 0.01808236  0.77176327  0.02903013 -0.5184404 ] 1.0 False {}\n",
      "step 26 [ 0.03351763  0.9664647   0.01866132 -0.8018359 ] 1.0 False {}\n",
      "step 27 [ 0.05284692  0.7710919   0.00262461 -0.50334156] 1.0 False {}\n",
      "step 28 [ 0.06826875  0.57593304 -0.00744222 -0.20983267] 1.0 False {}\n",
      "step 29 [ 0.07978742  0.7711606  -0.01163888 -0.5048539 ] 1.0 False {}\n",
      "step 30 [ 0.09521063  0.5762046  -0.02173596 -0.21586145] 1.0 False {}\n",
      "step 31 [ 0.10673472  0.38140002 -0.02605318  0.06988653] 1.0 False {}\n",
      "step 32 [ 0.11436272  0.1866611  -0.02465545  0.35423702] 1.0 False {}\n",
      "step 33 [ 0.11809594 -0.00810177 -0.01757071  0.6390445 ] 1.0 False {}\n",
      "step 34 [ 0.11793391  0.1872607  -0.00478982  0.34088054] 1.0 False {}\n",
      "step 35 [ 0.12167912 -0.00779277  0.00202779  0.6320492 ] 1.0 False {}\n",
      "step 36 [ 0.12152327 -0.20294295  0.01466877  0.92537004] 1.0 False {}\n",
      "step 37 [ 0.11746441 -0.00802215  0.03317617  0.6373328 ] 1.0 False {}\n",
      "step 38 [ 0.11730397 -0.20359066  0.04592283  0.9402761 ] 1.0 False {}\n",
      "step 39 [ 0.11323215 -0.39930052  0.06472835  1.247028  ] 1.0 False {}\n",
      "step 40 [ 0.10524614 -0.2050656   0.08966891  0.9753026 ] 1.0 False {}\n",
      "step 41 [ 0.10114483 -0.40126842  0.10917496  1.2947518 ] 1.0 False {}\n",
      "step 42 [ 0.09311946 -0.20768975  0.13507     1.0381463 ] 1.0 False {}\n",
      "step 43 [ 0.08896566 -0.01459604  0.15583292  0.7907337 ] 1.0 False {}\n",
      "step 44 [ 0.08867375 -0.21147518  0.1716476   1.1281036 ] 1.0 False {}\n",
      "step 45 [ 0.08444424 -0.01896572  0.19420967  0.8937998 ] 1.0 False {}\n",
      "step 46 [0.08406493 0.17306755 0.21208566 0.6679045 ] 1.0 True {}\n",
      "Moviepy - Building video ./video/Trained_1000_episodes.mp4.\n",
      "Moviepy - Writing video ./video/Trained_1000_episodes.mp4\n",
      "\n"
     ]
    },
    {
     "name": "stderr",
     "output_type": "stream",
     "text": [
      "                                                             "
     ]
    },
    {
     "name": "stdout",
     "output_type": "stream",
     "text": [
      "Moviepy - Done !\n",
      "Moviepy - video ready ./video/Trained_1000_episodes.mp4\n"
     ]
    },
    {
     "name": "stderr",
     "output_type": "stream",
     "text": [
      "\r"
     ]
    }
   ],
   "source": [
    "video = VideoRecorder(env,path=\"./video/Trained_1000_episodes.mp4\")\n",
    "\n",
    "done = False\n",
    "i = 0 \n",
    "\n",
    "env.reset()\n",
    "last_screen = get_screen()\n",
    "current_screen = get_screen()\n",
    "state = current_screen - last_screen\n",
    "\n",
    "while (~done) :\n",
    "      \n",
    "  env.render()\n",
    "  video.capture_frame()\n",
    "      \n",
    "  action = select_action(state)\n",
    "  observation,reward,done,_,info = env.step(action.item())\n",
    "  \n",
    "  print(\"step\", i, observation, reward, done, info)\n",
    "  \n",
    "  # Observe new state\n",
    "  last_screen = current_screen\n",
    "  \n",
    "  current_screen = get_screen()\n",
    "  if not done:\n",
    "    state = current_screen - last_screen\n",
    "  else:\n",
    "    break\n",
    "  \n",
    "  i = i+1\n",
    "\n",
    "video.close()\n",
    "env.close()"
   ]
  },
  {
   "cell_type": "code",
   "execution_count": 119,
   "metadata": {},
   "outputs": [
    {
     "data": {
      "text/html": [
       "\n",
       "<video controls>\n",
       "    <source src = \"video/Trained_1000_episodes.mp4\" type =\"video/mp4\">\n",
       "</video>\n"
      ],
      "text/plain": [
       "<IPython.core.display.HTML object>"
      ]
     },
     "execution_count": 119,
     "metadata": {},
     "output_type": "execute_result"
    }
   ],
   "source": [
    "from IPython.display import HTML\n",
    "\n",
    "HTML(\"\"\"\n",
    "<video controls>\n",
    "    <source src = \"%s\" type =\"video/mp4\">\n",
    "</video>\n",
    "\"\"\"%\"video/Trained_1000_episodes.mp4\"\n",
    ")"
   ]
  }
 ],
 "metadata": {
  "kernelspec": {
   "display_name": "Python 3.9.15 ('ComputerVision')",
   "language": "python",
   "name": "python3"
  },
  "language_info": {
   "codemirror_mode": {
    "name": "ipython",
    "version": 3
   },
   "file_extension": ".py",
   "mimetype": "text/x-python",
   "name": "python",
   "nbconvert_exporter": "python",
   "pygments_lexer": "ipython3",
   "version": "3.9.15"
  },
  "orig_nbformat": 4,
  "vscode": {
   "interpreter": {
    "hash": "2531915ab5b6d7f6e073a1b4ef06ed0b2b780c8145dd924165dc427f5e6c9cf0"
   }
  }
 },
 "nbformat": 4,
 "nbformat_minor": 2
}
