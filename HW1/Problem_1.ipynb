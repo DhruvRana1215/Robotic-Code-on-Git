{
 "cells": [
  {
   "cell_type": "code",
   "execution_count": 46,
   "metadata": {},
   "outputs": [
    {
     "name": "stdout",
     "output_type": "stream",
     "text": [
      "[[1.42430133e+01 0.00000000e+00 0.00000000e+00]\n",
      " [0.00000000e+00 1.20755811e+00 0.00000000e+00]\n",
      " [0.00000000e+00 0.00000000e+00 8.72130229e-03]]\n",
      "Number of independent columns : 3\n"
     ]
    }
   ],
   "source": [
    "# Problem 1\n",
    "import numpy as np\n",
    "import scipy.linalg.interpolative as slid\n",
    "\n",
    "a = np.array([[-1.32 , -0.18 , 2.13], [2.64  , -4.68 , 4.65], [1.47  , -4.75 , 6.80]])\n",
    "\n",
    "#a = np.array([[1 , 0 , 2.02 ], [2 , 2 , 10.03], [3 , 1 , 8.98 ]])\n",
    "\n",
    "U,sigma,V = np.linalg.svd(a)\n",
    "\n",
    "sigma = np.diag(sigma)\n",
    "\n",
    "print(sigma)\n",
    "\n",
    "print('Number of independent columns : {0}'.format(2))"
   ]
  }
 ],
 "metadata": {
  "kernelspec": {
   "display_name": "Python 3.9.12 ('base')",
   "language": "python",
   "name": "python3"
  },
  "language_info": {
   "codemirror_mode": {
    "name": "ipython",
    "version": 3
   },
   "file_extension": ".py",
   "mimetype": "text/x-python",
   "name": "python",
   "nbconvert_exporter": "python",
   "pygments_lexer": "ipython3",
   "version": "3.9.13"
  },
  "orig_nbformat": 4,
  "vscode": {
   "interpreter": {
    "hash": "ad2bdc8ecc057115af97d19610ffacc2b4e99fae6737bb82f5d7fb13d2f2c186"
   }
  }
 },
 "nbformat": 4,
 "nbformat_minor": 2
}
