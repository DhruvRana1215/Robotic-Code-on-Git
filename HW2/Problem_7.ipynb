{
 "cells": [
  {
   "cell_type": "code",
   "execution_count": 1,
   "metadata": {},
   "outputs": [],
   "source": [
    "import matplotlib\n",
    "import numpy as np\n",
    "from PIL import Image\n",
    "from numpy.linalg import inv\n",
    "\n",
    "matplotlib.use('TkAgg')\n",
    "import matplotlib.pyplot as plt\n",
    "from matplotlib.pyplot import ginput\n",
    "from matplotlib.backend_bases import MouseButton"
   ]
  },
  {
   "cell_type": "code",
   "execution_count": 2,
   "metadata": {},
   "outputs": [],
   "source": [
    "img = np.asarray(Image.open('newyork3.jpg'))"
   ]
  },
  {
   "cell_type": "code",
   "execution_count": 3,
   "metadata": {},
   "outputs": [],
   "source": [
    "plt.imshow(img)\n",
    "\n",
    "pts_src = plt.ginput(4, show_clicks=True, mouse_add=MouseButton.LEFT, mouse_pop=MouseButton.RIGHT, mouse_stop=MouseButton.MIDDLE)\n",
    "\n",
    "pts_src1 = np.array([[1951,1800],\n",
    "                    [2693,1769],\n",
    "                    [2669,819],\n",
    "                    [1959,1050]])"
   ]
  },
  {
   "cell_type": "code",
   "execution_count": 10,
   "metadata": {},
   "outputs": [
    {
     "name": "stdout",
     "output_type": "stream",
     "text": [
      "742\n"
     ]
    }
   ],
   "source": [
    "pts_src1 = np.round_(pts_src1)\n",
    "\n",
    "length = max(pts_src1[:,0]) - min(pts_src1[:,0]) \n",
    "width = max(pts_src1[:,1]) - min(pts_src1[:,1]) \n",
    "\n",
    "pts_dst = np.array([[0,0],\n",
    "                    [length,0],\n",
    "                    [length,width],\n",
    "                    [0,width]])\n",
    "\n"
   ]
  },
  {
   "cell_type": "code",
   "execution_count": null,
   "metadata": {},
   "outputs": [],
   "source": [
    "plt.set_xlim(-5, length+5)\n",
    "plt.set_ylim(-5, width+5)\n",
    "plt.show()"
   ]
  },
  {
   "cell_type": "code",
   "execution_count": null,
   "metadata": {},
   "outputs": [],
   "source": [
    "def construct_A(pts_src, pts_dst):\n",
    "    num_points = pts_src.shape[0]\n",
    "\n",
    "    A = []\n",
    "    for i in range(num_points):\n",
    "        rowOfPairPoints = construct_rowOfPairPoints(pts_src[i], pts_dst[i])\n",
    "        np.vstack(A, rowOfPairPoints)\n",
    "    return A\n",
    "\n",
    "def construct_rowOfPairPoints(pts_src, pts_dst):\n",
    "    x, y = pts_src[0], pts_src[1]\n",
    "    x_t, y_t = pts_dst[0], pts_dst[1]\n",
    "\n",
    "    A_partial = np.array([\n",
    "        [-x,-y,-1,0,0,0,x_t*x,x_t*y,x_t],\n",
    "        [0,0,0,-x,-y,-1,y_t*x,y_t*y,y_t]\n",
    "    ])\n",
    "    return A_partial"
   ]
  }
 ],
 "metadata": {
  "kernelspec": {
   "display_name": "Python 3.9.13 ('base')",
   "language": "python",
   "name": "python3"
  },
  "language_info": {
   "codemirror_mode": {
    "name": "ipython",
    "version": 3
   },
   "file_extension": ".py",
   "mimetype": "text/x-python",
   "name": "python",
   "nbconvert_exporter": "python",
   "pygments_lexer": "ipython3",
   "version": "3.9.13"
  },
  "orig_nbformat": 4,
  "vscode": {
   "interpreter": {
    "hash": "ad2bdc8ecc057115af97d19610ffacc2b4e99fae6737bb82f5d7fb13d2f2c186"
   }
  }
 },
 "nbformat": 4,
 "nbformat_minor": 2
}
