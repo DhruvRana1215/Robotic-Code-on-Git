{
 "cells": [
  {
   "cell_type": "code",
   "execution_count": 239,
   "metadata": {},
   "outputs": [],
   "source": [
    "import numpy as np\n",
    "from math import *\n",
    "import matplotlib.pyplot as plt\n",
    "import matplotlib.lines as lines"
   ]
  },
  {
   "cell_type": "code",
   "execution_count": 240,
   "metadata": {},
   "outputs": [],
   "source": [
    "c_R_w = np.array([[1/sqrt(2)  , 1/sqrt(2) , 0 ],\n",
    "                  [-1/sqrt(2) , 1/sqrt(2) , 0 ],\n",
    "                  [0          , 0         , 1]]) # rotation matrix\n",
    "\n",
    "c_t_w = np.array([[-5],[0.5],[4]]) # translation matrix\n",
    "\n",
    "c_T_w = np.hstack((c_R_w,c_t_w)) # Transformation Matrix\n",
    "\n",
    "K = np.array([ [-100, 0    , 200], # prespective projection and scale & shift matrix\n",
    "               [0   , -100 , 200],\n",
    "               [0   , 0    , 1]])"
   ]
  },
  {
   "cell_type": "code",
   "execution_count": 241,
   "metadata": {},
   "outputs": [],
   "source": [
    "houseBase_3DPoints = np.array([[0,0,0],\n",
    "                               [1,0,0],\n",
    "                               [1,1,0],\n",
    "                               [0,1,0],\n",
    "                               [0,0,0]]) # base/foundation poitns of the house\n",
    "\n",
    "housePillar_3DPoints = np.array([[0,0,1],\n",
    "                                 [0,0,0],\n",
    "                                 [1,0,0],\n",
    "                                 [1,0,1],\n",
    "                                 [1,0,0],\n",
    "                                 [1,1,0],\n",
    "                                 [1,1,1],\n",
    "                                 [1,1,0],\n",
    "                                 [0,1,0],\n",
    "                                 [0,1,1],\n",
    "                                 [0,1,0]]) # Pillar points of the house\n",
    "\n",
    "houseRoofBase_3DPoints = np.array([[0,0,1],\n",
    "                                   [1,0,1],\n",
    "                                   [1,1,1],\n",
    "                                   [0,1,1],\n",
    "                                   [0,0,1]]) # Roof base poitns of the house\n",
    "\n",
    "houseRoof_3DPoints = np.array([[0,0,1],\n",
    "                                [1/2,0,3/2],\n",
    "                                [1,0,1],\n",
    "                                [1,1,1],\n",
    "                                [1/2,1,3/2],\n",
    "                                [0,1,1],\n",
    "                                [1/2,1,3/2],\n",
    "                                [1/2,0,3/2]]) # Roof poitns of the house\n",
    "\n",
    "#house_3DPoints = np.concatenate((houseBase_3DPoints,housePillar_3DPoints,houseRoofBase_3DPoints,houseRoof_3DPoints)) # All points to make House using Line2D\n",
    "house_3DPoints = np.concatenate((houseRoof_3DPoints,houseRoofBase_3DPoints,housePillar_3DPoints,houseBase_3DPoints))"
   ]
  },
  {
   "cell_type": "code",
   "execution_count": 242,
   "metadata": {},
   "outputs": [
    {
     "name": "stdout",
     "output_type": "stream",
     "text": [
      "8\n"
     ]
    }
   ],
   "source": [
    "# get 2D points for House\n",
    "house_2DPoints = np.zeros((len(house_3DPoints),2))\n",
    "\n",
    "homogenouse_2DPoints = []\n",
    "\n",
    "for i in range(len(house_3DPoints)):\n",
    "    homogenouse_2DPoints = np.matmul(K,np.matmul(c_T_w,np.hstack((house_3DPoints[i],[1]))))\n",
    "    house_2DPoints[i,0] = homogenouse_2DPoints[0]/homogenouse_2DPoints[2]\n",
    "    house_2DPoints[i,1] = homogenouse_2DPoints[1]/homogenouse_2DPoints[2]\n",
    "\n",
    "house_2DPoints = house_2DPoints.T\n",
    "\n",
    "x_Roof = house_2DPoints[0,0:len(houseRoof_3DPoints)+1]\n",
    "y_Roof = house_2DPoints[1,0:len(houseRoof_3DPoints)+1]\n",
    "print(len(houseRoof_3DPoints))\n"
   ]
  },
  {
   "cell_type": "code",
   "execution_count": 243,
   "metadata": {},
   "outputs": [
    {
     "data": {
      "image/png": "[encoded data removed]",
      "text/plain": [
       "<Figure size 640x480 with 1 Axes>"
      ]
     },
     "metadata": {},
     "output_type": "display_data"
    }
   ],
   "source": [
    "# Plot 2D House using Line2D\n",
    "fig = plt.figure()\n",
    "ax = fig.add_subplot(111)\n",
    "line = lines.Line2D(x_Roof,y_Roof,color = 'red')\n",
    "ax.add_line(line)\n",
    "ax.set_xlim(min(x)-5, max(x)+5)\n",
    "ax.set_ylim(min(y)-5, max(y)+5)\n",
    "plt.show()"
   ]
  }
 ],
 "metadata": {
  "kernelspec": {
   "display_name": "Python 3.9.13 ('base')",
   "language": "python",
   "name": "python3"
  },
  "language_info": {
   "codemirror_mode": {
    "name": "ipython",
    "version": 3
   },
   "file_extension": ".py",
   "mimetype": "text/x-python",
   "name": "python",
   "nbconvert_exporter": "python",
   "pygments_lexer": "ipython3",
   "version": "3.9.13"
  },
  "orig_nbformat": 4,
  "vscode": {
   "interpreter": {
    "hash": "ad2bdc8ecc057115af97d19610ffacc2b4e99fae6737bb82f5d7fb13d2f2c186"
   }
  }
 },
 "nbformat": 4,
 "nbformat_minor": 2
}
