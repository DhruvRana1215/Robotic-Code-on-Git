{
  "cells": [
    {
      "cell_type": "code",
      "execution_count": 1,
      "metadata": {
        "colab": {},
        "colab_type": "code",
        "id": "_S4orPxMwQ7p"
      },
      "outputs": [],
      "source": [
        "import numpy as np\n",
        "from numpy.linalg import svd\n",
        "import matplotlib.pyplot as plt"
      ]
    },
    {
      "cell_type": "code",
      "execution_count": 2,
      "metadata": {
        "colab": {},
        "colab_type": "code",
        "id": "OcTf5Eepwj4T"
      },
      "outputs": [],
      "source": [
        "# Create X and Y coordinates for ellipse\n",
        "# TODO: Play around with these values to understand what each variable means\n",
        "a, b = 5, 100\n",
        "\n",
        "t = np.arange(0, 100, 0.01)\n",
        "\n",
        "x = a*np.sin(t)\n",
        "y = b*np.cos(t)"
      ]
    },
    {
      "cell_type": "code",
      "execution_count": 5,
      "metadata": {
        "colab": {
          "base_uri": "https://localhost:8080/",
          "height": 265
        },
        "colab_type": "code",
        "id": "65J8iQ5Gwuht",
        "outputId": "d8821ec0-4e61-4542-a26e-d3049b8ef485"
      },
      "outputs": [
        {
          "data": {
            "image/png": "[encoded data removed]",
            "text/plain": [
              "<Figure size 640x480 with 1 Axes>"
            ]
          },
          "metadata": {},
          "output_type": "display_data"
        }
      ],
      "source": [
        "# Display the ellipse\n",
        "plt.plot(x, y, '*-')\n",
        "plt.show()"
      ]
    },
    {
      "cell_type": "code",
      "execution_count": 4,
      "metadata": {
        "colab": {},
        "colab_type": "code",
        "id": "EV9WWAmkwvUl"
      },
      "outputs": [],
      "source": [
        "# Rotate the points of the ellipse\n",
        "cc = np.cos(np.pi / 3)\n",
        "ss = np.sin(np.pi / 3)\n",
        "\n",
        "R = np.array([[cc, ss],\n",
        "              [-ss, cc]])\n",
        "\n",
        "pts = np.stack((x, y))\n",
        "\n",
        "rpts = np.dot(R, pts)"
      ]
    },
    {
      "cell_type": "code",
      "execution_count": 6,
      "metadata": {
        "colab": {
          "base_uri": "https://localhost:8080/",
          "height": 34
        },
        "colab_type": "code",
        "id": "5wZA9Ho9x9OF",
        "outputId": "8a6866eb-227d-43fa-9ffc-520a9f12e618"
      },
      "outputs": [
        {
          "data": {
            "text/plain": [
              "(2, 10000)"
            ]
          },
          "execution_count": 6,
          "metadata": {},
          "output_type": "execute_result"
        }
      ],
      "source": [
        "rpts.shape"
      ]
    },
    {
      "cell_type": "code",
      "execution_count": 7,
      "metadata": {
        "colab": {},
        "colab_type": "code",
        "id": "RfPB60xBxSIG"
      },
      "outputs": [],
      "source": [
        "# TODO: Compute the rotated angle in radians and degrees from rpts\n",
        "# TODO: Change the rotation angle and repeat computation\n"
      ]
    },
    {
      "cell_type": "code",
      "execution_count": 8,
      "metadata": {
        "colab": {},
        "colab_type": "code",
        "id": "aPft9zxgxvpm"
      },
      "outputs": [
        {
          "ename": "NameError",
          "evalue": "name 'est_rot_angle' is not defined",
          "output_type": "error",
          "traceback": [
            "\u001b[1;31m---------------------------------------------------------------------------\u001b[0m",
            "\u001b[1;31mNameError\u001b[0m                                 Traceback (most recent call last)",
            "\u001b[1;32mc:\\Users\\dhruv\\OneDrive\\Desktop\\College\\Rutgers\\2022FA(Fall)\\ROBOTICS&COMP VISION\\Robotic-Code-on-Git\\Problem_7.ipynb Cell 7\u001b[0m in \u001b[0;36m<cell line: 2>\u001b[1;34m()\u001b[0m\n\u001b[0;32m      <a href='vscode-notebook-cell:/c%3A/Users/dhruv/OneDrive/Desktop/College/Rutgers/2022FA%28Fall%29/ROBOTICS%26COMP%20VISION/Robotic-Code-on-Git/Problem_7.ipynb#W6sZmlsZQ%3D%3D?line=0'>1</a>\u001b[0m \u001b[39m# Rotate original points based on estimate\u001b[39;00m\n\u001b[1;32m----> <a href='vscode-notebook-cell:/c%3A/Users/dhruv/OneDrive/Desktop/College/Rutgers/2022FA%28Fall%29/ROBOTICS%26COMP%20VISION/Robotic-Code-on-Git/Problem_7.ipynb#W6sZmlsZQ%3D%3D?line=1'>2</a>\u001b[0m cc \u001b[39m=\u001b[39m np\u001b[39m.\u001b[39mcos(est_rot_angle)\n\u001b[0;32m      <a href='vscode-notebook-cell:/c%3A/Users/dhruv/OneDrive/Desktop/College/Rutgers/2022FA%28Fall%29/ROBOTICS%26COMP%20VISION/Robotic-Code-on-Git/Problem_7.ipynb#W6sZmlsZQ%3D%3D?line=2'>3</a>\u001b[0m ss \u001b[39m=\u001b[39m np\u001b[39m.\u001b[39msin(est_rot_angle)\n\u001b[0;32m      <a href='vscode-notebook-cell:/c%3A/Users/dhruv/OneDrive/Desktop/College/Rutgers/2022FA%28Fall%29/ROBOTICS%26COMP%20VISION/Robotic-Code-on-Git/Problem_7.ipynb#W6sZmlsZQ%3D%3D?line=4'>5</a>\u001b[0m R \u001b[39m=\u001b[39m np\u001b[39m.\u001b[39marray([[cc, ss],\n\u001b[0;32m      <a href='vscode-notebook-cell:/c%3A/Users/dhruv/OneDrive/Desktop/College/Rutgers/2022FA%28Fall%29/ROBOTICS%26COMP%20VISION/Robotic-Code-on-Git/Problem_7.ipynb#W6sZmlsZQ%3D%3D?line=5'>6</a>\u001b[0m               [\u001b[39m-\u001b[39mss, cc]])\n",
            "\u001b[1;31mNameError\u001b[0m: name 'est_rot_angle' is not defined"
          ]
        }
      ],
      "source": [
        "# Rotate original points based on estimate\n",
        "cc = np.cos(est_rot_angle)\n",
        "ss = np.sin(est_rot_angle)\n",
        "\n",
        "R = np.array([[cc, ss],\n",
        "              [-ss, cc]])\n",
        "\n",
        "pts = np.stack((x, y))\n",
        "\n",
        "est_rpts = np.dot(R, pts)\n",
        "\n",
        "# Display results\n",
        "plt.plot(rpts[0,:], rpts[1,:], 'b*', alpha=0.01)\n",
        "plt.plot(est_rpts[0,:], est_rpts[1,:], 'r*', alpha=0.01)\n",
        "# TODO: add legend\n",
        "plt.show()"
      ]
    }
  ],
  "metadata": {
    "colab": {
      "name": "Problem_7.ipynb",
      "provenance": []
    },
    "kernelspec": {
      "display_name": "Python 3.9.12 ('base')",
      "language": "python",
      "name": "python3"
    },
    "language_info": {
      "codemirror_mode": {
        "name": "ipython",
        "version": 3
      },
      "file_extension": ".py",
      "mimetype": "text/x-python",
      "name": "python",
      "nbconvert_exporter": "python",
      "pygments_lexer": "ipython3",
      "version": "3.9.13"
    },
    "vscode": {
      "interpreter": {
        "hash": "ad2bdc8ecc057115af97d19610ffacc2b4e99fae6737bb82f5d7fb13d2f2c186"
      }
    }
  },
  "nbformat": 4,
  "nbformat_minor": 0
}
