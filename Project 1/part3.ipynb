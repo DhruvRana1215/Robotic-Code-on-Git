{
 "cells": [
  {
   "cell_type": "code",
   "execution_count": 48,
   "metadata": {},
   "outputs": [
    {
     "name": "stdout",
     "output_type": "stream",
     "text": [
      "Using cuda for inference\n"
     ]
    }
   ],
   "source": [
    "import os\n",
    "\n",
    "import shutil\n",
    "\n",
    "import numpy as np\n",
    "import pandas as pd\n",
    "\n",
    "import torch\n",
    "from torch import nn\n",
    "from torch.utils.data import Dataset, DataLoader, random_split\n",
    "import torch.nn.functional as F\n",
    "\n",
    "import torchvision\n",
    "from torchvision import models, datasets, transforms\n",
    "from torchvision.datasets import ImageFolder\n",
    "\n",
    "from PIL import Image\n",
    "import matplotlib.pyplot as plt\n",
    "\n",
    "if torch.cuda.is_available():\n",
    "    torch.backends.cudnn.deterministic = True\n",
    "\n",
    "DEVICE = torch.device(\"cuda\") if torch.cuda.is_available() else torch.device(\"cpu\")\n",
    "print(f'Using {DEVICE} for inference')"
   ]
  },
  {
   "cell_type": "markdown",
   "metadata": {},
   "source": [
    "#### Model Settings #####"
   ]
  },
  {
   "cell_type": "code",
   "execution_count": 49,
   "metadata": {},
   "outputs": [],
   "source": [
    "TRAIN_SPLIT = 0.7\n",
    "TEST_SPLIT = 0.3\n",
    "\n",
    "LEARNING_RATE = 0.001\n",
    "\n",
    "BATCH_SIZE = 1\n",
    "NUM_EPOCHS = 10\n",
    "\n",
    "NUM_CLASSES = 2 # cat or dog"
   ]
  },
  {
   "cell_type": "markdown",
   "metadata": {},
   "source": [
    "##### Sort Dataset Into Folders ####"
   ]
  },
  {
   "cell_type": "code",
   "execution_count": 50,
   "metadata": {},
   "outputs": [],
   "source": [
    "# I will split the training dataset into training and test (test = 30% of training data)\n",
    "\n",
    "base_dir = \"Cat Vs Dog Dataset\"\n",
    "train_dir = os.path.join(base_dir,\"train\")\n",
    "\n",
    "if not os.path.exists(f\"{train_dir}/cat\"):\n",
    "        os.makedirs(f\"{train_dir}/cat\")\n",
    "        \n",
    "if not os.path.exists(f\"{train_dir}/dog\"):\n",
    "        os.makedirs(f\"{train_dir}/dog\")\n",
    "\n",
    "# Sort cats and dog in Train dir into respective folders\n",
    "onlyFilesinTrain = [filename for filename in os.listdir(train_dir) if not os.path.isdir(os.path.join(train_dir,filename))]\n",
    "\n",
    "for filename in onlyFilesinTrain:\n",
    "        \n",
    "        label = filename.split(\".\")[0]\n",
    "        \n",
    "        if(label == \"cat\"):\n",
    "                shutil.move(f\"{train_dir}/{filename}\" , f\"{train_dir}/cat/{filename}\")\n",
    "                \n",
    "        elif(label == \"dog\"):\n",
    "                shutil.move(f\"{train_dir}/{filename}\" , f\"{train_dir}/dog/{filename}\")\n",
    "        \n",
    "        else:\n",
    "                print(\"NO Label\")\n",
    "\n"
   ]
  },
  {
   "cell_type": "markdown",
   "metadata": {},
   "source": [
    "#### Load Data #####"
   ]
  },
  {
   "cell_type": "code",
   "execution_count": 51,
   "metadata": {},
   "outputs": [],
   "source": [
    "data_transform = transforms.Compose([\n",
    "    transforms.Resize((224, 224)),\n",
    "    transforms.ToTensor(),\n",
    "    transforms.Normalize((0.5,0.5,0.5), (0.5,0.5,0.5))\n",
    "])\n",
    "\n",
    "dataset = datasets.ImageFolder(train_dir)\n",
    "\n",
    "DATASET_SIZE = len(dataset)\n",
    "\n",
    "train_data,test_data = random_split(dataset, [ int(TRAIN_SPLIT*DATASET_SIZE) , int(TEST_SPLIT*DATASET_SIZE)])\n",
    "\n",
    "train_loader = DataLoader(dataset=train_data, \n",
    "                          batch_size=BATCH_SIZE, \n",
    "                          shuffle=True)\n",
    "\n",
    "test_loader = DataLoader(dataset=test_data, \n",
    "                         batch_size=BATCH_SIZE, \n",
    "                         shuffle=False)\n",
    "\n",
    "CLASSES = dataset.class_to_idx #dataset.classes  "
   ]
  },
  {
   "cell_type": "markdown",
   "metadata": {},
   "source": [
    "#### Load Model ####"
   ]
  },
  {
   "cell_type": "code",
   "execution_count": 52,
   "metadata": {},
   "outputs": [
    {
     "name": "stdout",
     "output_type": "stream",
     "text": [
      "Linear(in_features=512, out_features=1000, bias=True)\n",
      "\n",
      "Linear(in_features=512, out_features=2, bias=True)\n"
     ]
    }
   ],
   "source": [
    "resnet18 = models.resnet18(weights=models.ResNet18_Weights.DEFAULT)\n",
    "print(resnet18.fc)\n",
    "\n",
    "# we only need 2 classes need to cahnge ouput layer\n",
    "resnet18.fc = nn.Linear(resnet18.fc.in_features,NUM_CLASSES)\n",
    "print()\n",
    "print(resnet18.fc)\n",
    "\n",
    "# Make sure to send our model to GPU if available\n",
    "resnet18 = resnet18.to(DEVICE)"
   ]
  },
  {
   "cell_type": "code",
   "execution_count": null,
   "metadata": {},
   "outputs": [],
   "source": []
  }
 ],
 "metadata": {
  "kernelspec": {
   "display_name": "Python 3.9.13 ('base')",
   "language": "python",
   "name": "python3"
  },
  "language_info": {
   "codemirror_mode": {
    "name": "ipython",
    "version": 3
   },
   "file_extension": ".py",
   "mimetype": "text/x-python",
   "name": "python",
   "nbconvert_exporter": "python",
   "pygments_lexer": "ipython3",
   "version": "3.9.13"
  },
  "orig_nbformat": 4,
  "vscode": {
   "interpreter": {
    "hash": "ad2bdc8ecc057115af97d19610ffacc2b4e99fae6737bb82f5d7fb13d2f2c186"
   }
  }
 },
 "nbformat": 4,
 "nbformat_minor": 2
}
