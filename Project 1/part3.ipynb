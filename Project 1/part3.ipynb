{
 "cells": [
  {
   "cell_type": "code",
   "execution_count": 11,
   "metadata": {},
   "outputs": [],
   "source": [
    "import os\n",
    "\n",
    "import shutil\n",
    "\n",
    "import numpy as np\n",
    "import pandas as pd\n",
    "\n",
    "import torch\n",
    "from torch import nn\n",
    "from torch.utils.data import Dataset, DataLoader, random_split\n",
    "import torch.nn.functional as F\n",
    "\n",
    "import torchvision\n",
    "from torchvision import models, datasets, transforms\n",
    "from torchvision.datasets import ImageFolder\n",
    "\n",
    "from PIL import Image\n",
    "import matplotlib.pyplot as plt"
   ]
  },
  {
   "cell_type": "markdown",
   "metadata": {},
   "source": [
    "##### Sort Dataset Into Folders ####"
   ]
  },
  {
   "cell_type": "code",
   "execution_count": 14,
   "metadata": {},
   "outputs": [
    {
     "ename": "TypeError",
     "evalue": "'module' object is not callable",
     "output_type": "error",
     "traceback": [
      "\u001b[1;31m---------------------------------------------------------------------------\u001b[0m",
      "\u001b[1;31mTypeError\u001b[0m                                 Traceback (most recent call last)",
      "\u001b[1;32mc:\\Users\\dhruv\\OneDrive\\Desktop\\College\\Rutgers\\2022FA(Fall)\\ROBOTICS&COMP VISION\\Robotic-Code-on-Git\\Project 1\\part3.ipynb Cell 3\u001b[0m in \u001b[0;36m<cell line: 17>\u001b[1;34m()\u001b[0m\n\u001b[0;32m     <a href='vscode-notebook-cell:/c%3A/Users/dhruv/OneDrive/Desktop/College/Rutgers/2022FA%28Fall%29/ROBOTICS%26COMP%20VISION/Robotic-Code-on-Git/Project%201/part3.ipynb#W2sZmlsZQ%3D%3D?line=13'>14</a>\u001b[0m \u001b[39mif\u001b[39;00m \u001b[39mnot\u001b[39;00m os\u001b[39m.\u001b[39mpath\u001b[39m.\u001b[39mexists(\u001b[39mf\u001b[39m\u001b[39m\"\u001b[39m\u001b[39m{\u001b[39;00mtest_dir\u001b[39m}\u001b[39;00m\u001b[39m/dog\u001b[39m\u001b[39m\"\u001b[39m):\n\u001b[0;32m     <a href='vscode-notebook-cell:/c%3A/Users/dhruv/OneDrive/Desktop/College/Rutgers/2022FA%28Fall%29/ROBOTICS%26COMP%20VISION/Robotic-Code-on-Git/Project%201/part3.ipynb#W2sZmlsZQ%3D%3D?line=14'>15</a>\u001b[0m         os\u001b[39m.\u001b[39mmakedirs(\u001b[39mf\u001b[39m\u001b[39m\"\u001b[39m\u001b[39m{\u001b[39;00mtest_dir\u001b[39m}\u001b[39;00m\u001b[39m/dog\u001b[39m\u001b[39m\"\u001b[39m)\n\u001b[1;32m---> <a href='vscode-notebook-cell:/c%3A/Users/dhruv/OneDrive/Desktop/College/Rutgers/2022FA%28Fall%29/ROBOTICS%26COMP%20VISION/Robotic-Code-on-Git/Project%201/part3.ipynb#W2sZmlsZQ%3D%3D?line=16'>17</a>\u001b[0m \u001b[39mprint\u001b[39m(os\u001b[39m.\u001b[39;49mpath(train_dir))\n\u001b[0;32m     <a href='vscode-notebook-cell:/c%3A/Users/dhruv/OneDrive/Desktop/College/Rutgers/2022FA%28Fall%29/ROBOTICS%26COMP%20VISION/Robotic-Code-on-Git/Project%201/part3.ipynb#W2sZmlsZQ%3D%3D?line=18'>19</a>\u001b[0m \u001b[39m\"\"\"\"  \u001b[39;00m\n\u001b[0;32m     <a href='vscode-notebook-cell:/c%3A/Users/dhruv/OneDrive/Desktop/College/Rutgers/2022FA%28Fall%29/ROBOTICS%26COMP%20VISION/Robotic-Code-on-Git/Project%201/part3.ipynb#W2sZmlsZQ%3D%3D?line=19'>20</a>\u001b[0m \u001b[39mfor filename in os.path(train_dir):\u001b[39;00m\n\u001b[0;32m     <a href='vscode-notebook-cell:/c%3A/Users/dhruv/OneDrive/Desktop/College/Rutgers/2022FA%28Fall%29/ROBOTICS%26COMP%20VISION/Robotic-Code-on-Git/Project%201/part3.ipynb#W2sZmlsZQ%3D%3D?line=20'>21</a>\u001b[0m \u001b[39m        \u001b[39;00m\n\u001b[1;32m   (...)\u001b[0m\n\u001b[0;32m     <a href='vscode-notebook-cell:/c%3A/Users/dhruv/OneDrive/Desktop/College/Rutgers/2022FA%28Fall%29/ROBOTICS%26COMP%20VISION/Robotic-Code-on-Git/Project%201/part3.ipynb#W2sZmlsZQ%3D%3D?line=32'>33</a>\u001b[0m \u001b[39mprint(os.listdir(train_dir))\u001b[39;00m\n\u001b[0;32m     <a href='vscode-notebook-cell:/c%3A/Users/dhruv/OneDrive/Desktop/College/Rutgers/2022FA%28Fall%29/ROBOTICS%26COMP%20VISION/Robotic-Code-on-Git/Project%201/part3.ipynb#W2sZmlsZQ%3D%3D?line=33'>34</a>\u001b[0m \u001b[39m\"\"\"\u001b[39;00m\n",
      "\u001b[1;31mTypeError\u001b[0m: 'module' object is not callable"
     ]
    }
   ],
   "source": [
    "base_dir = \"Cat Vs Dog Dataset\"\n",
    "train_dir = os.path.join(base_dir,\"train\")\n",
    "test_dir = os.path.join(base_dir,\"test1\")\n",
    "\n",
    "if not os.path.exists(f\"{train_dir}/cat\"):\n",
    "        os.makedirs(f\"{train_dir}/cat\")\n",
    "        \n",
    "if not os.path.exists(f\"{train_dir}/dog\"):\n",
    "        os.makedirs(f\"{train_dir}/dog\")\n",
    "        \n",
    "if not os.path.exists(f\"{test_dir}/cat\"):\n",
    "        os.makedirs(f\"{test_dir}/cat\")\n",
    "        \n",
    "if not os.path.exists(f\"{test_dir}/dog\"):\n",
    "        os.makedirs(f\"{test_dir}/dog\")\n",
    "\n",
    "onlyFiles = [filename for filename in os.listdir(train_dir) if not os.path.isdir(os.path.join(train_dir,filename))\n",
    "\n",
    "for filename in onlyFiles:\n",
    "        \n",
    "        label = filename.split()[0]\n",
    "        \n",
    "        if(label == \"cat\"):\n",
    "                shutil.move(f\"{train_dir}/{filename}\" , f\"{train_dir}/cat/{filename}\")\n",
    "                \n",
    "        elif(label == \"dog\"):\n",
    "                shutil.move(f\"{train_dir}/{filename}\" , f\"{train_dir}/dog/{filename}\")\n",
    "        \n",
    "        else:\n",
    "                print(\"NO Label\")\n",
    "\n",
    "print(os.listdir(train_dir))\n"
   ]
  }
 ],
 "metadata": {
  "kernelspec": {
   "display_name": "Python 3.9.13 ('base')",
   "language": "python",
   "name": "python3"
  },
  "language_info": {
   "codemirror_mode": {
    "name": "ipython",
    "version": 3
   },
   "file_extension": ".py",
   "mimetype": "text/x-python",
   "name": "python",
   "nbconvert_exporter": "python",
   "pygments_lexer": "ipython3",
   "version": "3.9.13"
  },
  "orig_nbformat": 4,
  "vscode": {
   "interpreter": {
    "hash": "ad2bdc8ecc057115af97d19610ffacc2b4e99fae6737bb82f5d7fb13d2f2c186"
   }
  }
 },
 "nbformat": 4,
 "nbformat_minor": 2
}
