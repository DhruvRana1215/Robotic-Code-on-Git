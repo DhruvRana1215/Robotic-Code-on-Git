{
 "cells": [
  {
   "cell_type": "code",
   "execution_count": 1,
   "metadata": {},
   "outputs": [
    {
     "name": "stdout",
     "output_type": "stream",
     "text": [
      "Using cuda for inference\n"
     ]
    }
   ],
   "source": [
    "import time\n",
    "import copy\n",
    "\n",
    "import numpy as np\n",
    "import pandas as pd\n",
    "\n",
    "import tensorflow as tf\n",
    "\n",
    "import torch\n",
    "import torch.nn as nn\n",
    "from torch.utils.data import DataLoader\n",
    "\n",
    "from torchvision import models, datasets, transforms\n",
    "\n",
    "import matplotlib.pyplot as plt\n",
    "from PIL import Image\n",
    "\n",
    "\n",
    "\n",
    "if torch.cuda.is_available():\n",
    "    torch.backends.cudnn.deterministic = True\n",
    "\n",
    "DEVICE = torch.device(\"cuda\") if torch.cuda.is_available() else torch.device(\"cpu\")\n",
    "print(f'Using {DEVICE} for inference')"
   ]
  },
  {
   "cell_type": "markdown",
   "metadata": {},
   "source": [
    "##### Model Settings #######"
   ]
  },
  {
   "cell_type": "code",
   "execution_count": 2,
   "metadata": {},
   "outputs": [],
   "source": [
    "LEARNING_RATE = 0.001\n",
    "\n",
    "BATCH_SIZE = 128\n",
    "NUM_EPOCHS = 10\n",
    "\n",
    "NUM_INPUTS = 1*28*28 # grayscale (1-channel) 28*28 picture\n",
    "NUM_CLASSES = 10 # digits 0 to 9"
   ]
  },
  {
   "cell_type": "markdown",
   "metadata": {},
   "source": [
    "##### Load MNIST Dataset #######"
   ]
  },
  {
   "cell_type": "code",
   "execution_count": 3,
   "metadata": {},
   "outputs": [],
   "source": [
    "train_data = datasets.MNIST(\n",
    "    root=\"dataset\",\n",
    "    train=True,\n",
    "    download=True,\n",
    "    transform= transforms.ToTensor()\n",
    ")\n",
    "\n",
    "test_data = datasets.MNIST(\n",
    "    root=\"dataset\",\n",
    "    train=False,\n",
    "    download=True,\n",
    "    transform= transforms.ToTensor()\n",
    ")\n",
    "\n",
    "train_loader = DataLoader(dataset=train_data, \n",
    "                          batch_size=BATCH_SIZE, \n",
    "                          shuffle=True)\n",
    "\n",
    "test_loader = DataLoader(dataset=test_data, \n",
    "                         batch_size=BATCH_SIZE, \n",
    "                         shuffle=False)\n",
    "\n",
    "CLASSES = train_data.classes"
   ]
  },
  {
   "cell_type": "code",
   "execution_count": 4,
   "metadata": {},
   "outputs": [
    {
     "name": "stdout",
     "output_type": "stream",
     "text": [
      "Conv2d(3, 64, kernel_size=(7, 7), stride=(2, 2), padding=(3, 3), bias=False)\n",
      "Linear(in_features=512, out_features=1000, bias=True)\n",
      "\n",
      "Conv2d(1, 64, kernel_size=(7, 7), stride=(2, 2), padding=(3, 3), bias=False)\n",
      "Linear(in_features=512, out_features=10, bias=True)\n"
     ]
    },
    {
     "name": "stderr",
     "output_type": "stream",
     "text": [
      "c:\\ProgramData\\Anaconda3\\lib\\site-packages\\torchvision\\models\\_utils.py:208: UserWarning: The parameter 'pretrained' is deprecated since 0.13 and may be removed in the future, please use 'weights' instead.\n",
      "  warnings.warn(\n",
      "c:\\ProgramData\\Anaconda3\\lib\\site-packages\\torchvision\\models\\_utils.py:223: UserWarning: Arguments other than a weight enum or `None` for 'weights' are deprecated since 0.13 and may be removed in the future. The current behavior is equivalent to passing `weights=ResNet18_Weights.IMAGENET1K_V1`. You can also use `weights=ResNet18_Weights.DEFAULT` to get the most up-to-date weights.\n",
      "  warnings.warn(msg)\n"
     ]
    }
   ],
   "source": [
    "resnet18 = models.resnet18(pretrained=True)\n",
    "\n",
    "print(resnet18.conv1)\n",
    "print(resnet18.fc)\n",
    "\n",
    "# we only need 10 classes need to cahnge ouput layer\n",
    "# we also need to chnage so it takes 1 cahnnel instead of three channels\n",
    "resnet18.fc = nn.Linear(resnet18.fc.in_features,NUM_CLASSES)\n",
    "resnet18.conv1 = nn.Conv2d(1, 64, kernel_size=(7, 7), stride=(2, 2), padding=(3, 3), bias=False)\n",
    "print()\n",
    "print(resnet18.conv1)\n",
    "print(resnet18.fc)\n",
    "\n",
    "# Make sure to send our model to GPU if available\n",
    "resnet18 = resnet18.to(DEVICE)"
   ]
  },
  {
   "cell_type": "markdown",
   "metadata": {},
   "source": [
    "#### Compare True Label w/ Predicted Label #####"
   ]
  },
  {
   "cell_type": "code",
   "execution_count": 5,
   "metadata": {},
   "outputs": [],
   "source": [
    "def compute_accuracy (model, data_loader, device):\n",
    "    model = model.to(device)\n",
    "    model = model.eval() # put the model to evaultion mode\n",
    "    \n",
    "    num_correct_prediction = 0\n",
    "    num_total_labels = 0\n",
    "    \n",
    "    with torch.no_grad():\n",
    "        \n",
    "        for i, (inputs, labels) in enumerate(data_loader):\n",
    "            inputs = inputs.to(device)\n",
    "            labels = labels.to(device)\n",
    "            \n",
    "            probabilities = resnet18(inputs.to(DEVICE))\n",
    "            predicted_class = torch.argmax(probabilities, dim=1) # Class predicted by model\n",
    "            \n",
    "            num_total_labels += labels.size()[0]\n",
    "            num_correct_prediction += (predicted_class == labels).sum()\n",
    "\n",
    "    return num_correct_prediction/num_total_labels * 100"
   ]
  },
  {
   "cell_type": "markdown",
   "metadata": {},
   "source": [
    "#### Test w/o training ####"
   ]
  },
  {
   "cell_type": "code",
   "execution_count": 6,
   "metadata": {},
   "outputs": [
    {
     "name": "stdout",
     "output_type": "stream",
     "text": [
      "Predicted Num : 4\n",
      "Actual Num : 4\n",
      "\n",
      "Total Accuracy on test data : 13.180 %\n"
     ]
    },
    {
     "data": {
      "image/png": "[encoded data removed]",
      "text/plain": [
       "<Figure size 640x480 with 1 Axes>"
      ]
     },
     "metadata": {},
     "output_type": "display_data"
    }
   ],
   "source": [
    "for batch_index, (inputs, labels) in enumerate(test_loader):\n",
    "\n",
    "    inputs = inputs\n",
    "    labels = labels\n",
    "    break\n",
    "    \n",
    "\n",
    "    \n",
    "img = np.transpose(inputs[4], axes=(1, 2, 0))\n",
    "img = np.squeeze(img.numpy(), axis=2)\n",
    "plt.imshow(img, cmap='Greys')\n",
    "plt.show\n",
    "\n",
    "\n",
    "\n",
    "resnet18 = resnet18.eval()\n",
    "\n",
    "with torch.no_grad(): # Save Performance when evaluting or prediciting\n",
    "    probabilities = resnet18(inputs.to(DEVICE))\n",
    "    predicted_class = torch.argmax(probabilities, dim=1)\n",
    "\n",
    "print(\"Predicted Num : {:d}\".format(predicted_class[4]))\n",
    "print(\"Actual Num : {:d}\".format(labels[4]))\n",
    "print(\"\\nTotal Accuracy on test data : {:.3f} %\".format(compute_accuracy(resnet18,test_loader,DEVICE)))"
   ]
  },
  {
   "cell_type": "markdown",
   "metadata": {},
   "source": [
    "#### Train Model ####"
   ]
  },
  {
   "cell_type": "code",
   "execution_count": 7,
   "metadata": {},
   "outputs": [],
   "source": [
    "def train_model (model, data_loader, learning_rate, num_epochs, device):\n",
    "    \n",
    "    optimizer = torch.optim.SGD(model.parameters(), lr=learning_rate)\n",
    "    \n",
    "    best_weights = copy.deepcopy(model.state_dict())\n",
    "    best_accuracy = 0\n",
    "    \n",
    "    start_time = time.time()\n",
    "    \n",
    "    for epochs in range(num_epochs):\n",
    "        \n",
    "        print(\"EPOCH : {0}/{1}\".format(epochs+1,num_epochs))\n",
    "        print(\"-\"*30)\n",
    "        \n",
    "        # train first\n",
    "        model.train()\n",
    "        for batch_index, (inputs, labels) in enumerate(data_loader):\n",
    "            inputs = inputs.to(device)\n",
    "            labels = labels.to(device)   \n",
    "             \n",
    "            probabilities = resnet18(inputs)\n",
    "            predicted_class = torch.argmax(probabilities, dim=1)\n",
    "            \n",
    "            optimizer.zero_grad()\n",
    "            loss = nn.functional.cross_entropy(probabilities,labels)\n",
    "                \n",
    "            loss.backward()\n",
    "            optimizer.step()\n",
    "            #scheduler.step()\n",
    "            \n",
    "            if (batch_index % 50 == 0) :\n",
    "                print(\"BATCH : {:3d}/{:3d} | LOSS : {:.3f} \".format(batch_index,len(data_loader),loss))\n",
    "            \n",
    "        \n",
    "        # evalute\n",
    "        model.eval()\n",
    "        with torch.set_grad_enabled(False):\n",
    "            accuracy = compute_accuracy(model,data_loader,DEVICE)\n",
    "            print(\"\\nTotal Accuracy On Training Data : {:.3f} %\".format(accuracy))\n",
    "        \n",
    "        # Save best weights\n",
    "        if (accuracy > best_accuracy):\n",
    "            best_accuracy = accuracy\n",
    "            best_weights = copy.deepcopy(model.state_dict())\n",
    "        \n",
    "        print(\"Elapsed Time : {:.0f} min {:.0f} sec\\n\".format((time.time() - start_time)/60 , (time.time() - start_time)%60)) \n",
    "    \n",
    "    print(\"\\nTotal Time : {:.0f} min {:.0f} sec\".format((time.time() - start_time)/60 , (time.time() - start_time)%60))\n",
    "    \n",
    "    \n",
    "    model.load_state_dict(best_weights)\n",
    "    return model"
   ]
  },
  {
   "cell_type": "code",
   "execution_count": 8,
   "metadata": {},
   "outputs": [
    {
     "name": "stdout",
     "output_type": "stream",
     "text": [
      "EPOCH : 1/10\n",
      "------------------------------\n",
      "BATCH :   0/469 | LOSS : 2.657 \n",
      "BATCH :  50/469 | LOSS : 1.941 \n",
      "BATCH : 100/469 | LOSS : 1.517 \n",
      "BATCH : 150/469 | LOSS : 1.221 \n",
      "BATCH : 200/469 | LOSS : 1.039 \n",
      "BATCH : 250/469 | LOSS : 0.921 \n",
      "BATCH : 300/469 | LOSS : 0.570 \n",
      "BATCH : 350/469 | LOSS : 0.590 \n",
      "BATCH : 400/469 | LOSS : 0.471 \n",
      "BATCH : 450/469 | LOSS : 0.544 \n",
      "\n",
      "Total Accuracy On Training Data : 88.393 %\n",
      "Elapsed Time : 0 min 21 sec\n",
      "\n",
      "EPOCH : 2/10\n",
      "------------------------------\n",
      "BATCH :   0/469 | LOSS : 0.496 \n",
      "BATCH :  50/469 | LOSS : 0.370 \n",
      "BATCH : 100/469 | LOSS : 0.302 \n",
      "BATCH : 150/469 | LOSS : 0.273 \n",
      "BATCH : 200/469 | LOSS : 0.320 \n",
      "BATCH : 250/469 | LOSS : 0.312 \n",
      "BATCH : 300/469 | LOSS : 0.241 \n",
      "BATCH : 350/469 | LOSS : 0.283 \n",
      "BATCH : 400/469 | LOSS : 0.230 \n",
      "BATCH : 450/469 | LOSS : 0.273 \n",
      "\n",
      "Total Accuracy On Training Data : 93.930 %\n",
      "Elapsed Time : 1 min 40 sec\n",
      "\n",
      "EPOCH : 3/10\n",
      "------------------------------\n",
      "BATCH :   0/469 | LOSS : 0.182 \n",
      "BATCH :  50/469 | LOSS : 0.301 \n",
      "BATCH : 100/469 | LOSS : 0.250 \n",
      "BATCH : 150/469 | LOSS : 0.193 \n",
      "BATCH : 200/469 | LOSS : 0.283 \n",
      "BATCH : 250/469 | LOSS : 0.144 \n",
      "BATCH : 300/469 | LOSS : 0.128 \n",
      "BATCH : 350/469 | LOSS : 0.168 \n",
      "BATCH : 400/469 | LOSS : 0.124 \n",
      "BATCH : 450/469 | LOSS : 0.316 \n",
      "\n",
      "Total Accuracy On Training Data : 95.660 %\n",
      "Elapsed Time : 1 min 0 sec\n",
      "\n",
      "EPOCH : 4/10\n",
      "------------------------------\n",
      "BATCH :   0/469 | LOSS : 0.203 \n",
      "BATCH :  50/469 | LOSS : 0.154 \n",
      "BATCH : 100/469 | LOSS : 0.119 \n",
      "BATCH : 150/469 | LOSS : 0.118 \n",
      "BATCH : 200/469 | LOSS : 0.170 \n",
      "BATCH : 250/469 | LOSS : 0.150 \n",
      "BATCH : 300/469 | LOSS : 0.212 \n",
      "BATCH : 350/469 | LOSS : 0.071 \n",
      "BATCH : 400/469 | LOSS : 0.262 \n",
      "BATCH : 450/469 | LOSS : 0.185 \n",
      "\n",
      "Total Accuracy On Training Data : 96.643 %\n",
      "Elapsed Time : 1 min 20 sec\n",
      "\n",
      "EPOCH : 5/10\n",
      "------------------------------\n",
      "BATCH :   0/469 | LOSS : 0.216 \n",
      "BATCH :  50/469 | LOSS : 0.121 \n",
      "BATCH : 100/469 | LOSS : 0.058 \n",
      "BATCH : 150/469 | LOSS : 0.201 \n",
      "BATCH : 200/469 | LOSS : 0.162 \n",
      "BATCH : 250/469 | LOSS : 0.080 \n",
      "BATCH : 300/469 | LOSS : 0.076 \n",
      "BATCH : 350/469 | LOSS : 0.255 \n",
      "BATCH : 400/469 | LOSS : 0.172 \n",
      "BATCH : 450/469 | LOSS : 0.060 \n",
      "\n",
      "Total Accuracy On Training Data : 97.258 %\n",
      "Elapsed Time : 2 min 40 sec\n",
      "\n",
      "EPOCH : 6/10\n",
      "------------------------------\n",
      "BATCH :   0/469 | LOSS : 0.184 \n",
      "BATCH :  50/469 | LOSS : 0.164 \n",
      "BATCH : 100/469 | LOSS : 0.207 \n",
      "BATCH : 150/469 | LOSS : 0.119 \n",
      "BATCH : 200/469 | LOSS : 0.134 \n",
      "BATCH : 250/469 | LOSS : 0.078 \n",
      "BATCH : 300/469 | LOSS : 0.111 \n",
      "BATCH : 350/469 | LOSS : 0.052 \n",
      "BATCH : 400/469 | LOSS : 0.215 \n",
      "BATCH : 450/469 | LOSS : 0.076 \n",
      "\n",
      "Total Accuracy On Training Data : 97.747 %\n",
      "Elapsed Time : 2 min 0 sec\n",
      "\n",
      "EPOCH : 7/10\n",
      "------------------------------\n",
      "BATCH :   0/469 | LOSS : 0.092 \n",
      "BATCH :  50/469 | LOSS : 0.059 \n",
      "BATCH : 100/469 | LOSS : 0.104 \n",
      "BATCH : 150/469 | LOSS : 0.100 \n",
      "BATCH : 200/469 | LOSS : 0.116 \n",
      "BATCH : 250/469 | LOSS : 0.043 \n",
      "BATCH : 300/469 | LOSS : 0.119 \n",
      "BATCH : 350/469 | LOSS : 0.080 \n",
      "BATCH : 400/469 | LOSS : 0.070 \n",
      "BATCH : 450/469 | LOSS : 0.159 \n",
      "\n",
      "Total Accuracy On Training Data : 98.067 %\n",
      "Elapsed Time : 2 min 21 sec\n",
      "\n",
      "EPOCH : 8/10\n",
      "------------------------------\n",
      "BATCH :   0/469 | LOSS : 0.082 \n",
      "BATCH :  50/469 | LOSS : 0.065 \n",
      "BATCH : 100/469 | LOSS : 0.071 \n",
      "BATCH : 150/469 | LOSS : 0.110 \n",
      "BATCH : 200/469 | LOSS : 0.104 \n",
      "BATCH : 250/469 | LOSS : 0.075 \n",
      "BATCH : 300/469 | LOSS : 0.096 \n",
      "BATCH : 350/469 | LOSS : 0.065 \n",
      "BATCH : 400/469 | LOSS : 0.099 \n",
      "BATCH : 450/469 | LOSS : 0.076 \n",
      "\n",
      "Total Accuracy On Training Data : 98.307 %\n",
      "Elapsed Time : 3 min 41 sec\n",
      "\n",
      "EPOCH : 9/10\n",
      "------------------------------\n",
      "BATCH :   0/469 | LOSS : 0.110 \n",
      "BATCH :  50/469 | LOSS : 0.050 \n",
      "BATCH : 100/469 | LOSS : 0.078 \n",
      "BATCH : 150/469 | LOSS : 0.104 \n",
      "BATCH : 200/469 | LOSS : 0.072 \n",
      "BATCH : 250/469 | LOSS : 0.069 \n",
      "BATCH : 300/469 | LOSS : 0.063 \n",
      "BATCH : 350/469 | LOSS : 0.071 \n",
      "BATCH : 400/469 | LOSS : 0.028 \n",
      "BATCH : 450/469 | LOSS : 0.027 \n",
      "\n",
      "Total Accuracy On Training Data : 98.553 %\n",
      "Elapsed Time : 3 min 1 sec\n",
      "\n",
      "EPOCH : 10/10\n",
      "------------------------------\n",
      "BATCH :   0/469 | LOSS : 0.084 \n",
      "BATCH :  50/469 | LOSS : 0.087 \n",
      "BATCH : 100/469 | LOSS : 0.075 \n",
      "BATCH : 150/469 | LOSS : 0.029 \n",
      "BATCH : 200/469 | LOSS : 0.099 \n",
      "BATCH : 250/469 | LOSS : 0.024 \n",
      "BATCH : 300/469 | LOSS : 0.076 \n",
      "BATCH : 350/469 | LOSS : 0.127 \n",
      "BATCH : 400/469 | LOSS : 0.130 \n",
      "BATCH : 450/469 | LOSS : 0.076 \n",
      "\n",
      "Total Accuracy On Training Data : 98.723 %\n",
      "Elapsed Time : 3 min 21 sec\n",
      "\n",
      "\n",
      "Total Time : 3 min 21 sec\n"
     ]
    }
   ],
   "source": [
    "resnet18 = train_model(resnet18,train_loader,LEARNING_RATE,NUM_EPOCHS,DEVICE)"
   ]
  },
  {
   "cell_type": "markdown",
   "metadata": {},
   "source": [
    "### Test w/ Training ###"
   ]
  },
  {
   "cell_type": "code",
   "execution_count": 9,
   "metadata": {},
   "outputs": [
    {
     "name": "stdout",
     "output_type": "stream",
     "text": [
      "Predicted Num : 7\n",
      "Actual Num : 7\n",
      "\n",
      "Total Accuracy on test data : 97.380 %\n"
     ]
    },
    {
     "data": {
      "image/png": "[encoded data removed]",
      "text/plain": [
       "<Figure size 640x480 with 1 Axes>"
      ]
     },
     "metadata": {},
     "output_type": "display_data"
    }
   ],
   "source": [
    "%matplotlib inline\n",
    "\n",
    "features = torch.empty(0)\n",
    "true_label = torch.empty(0)\n",
    "\n",
    "for batch_index, (inputs, labels) in enumerate(test_loader):\n",
    "\n",
    "    features = torch.cat((features,inputs))\n",
    "    true_label = torch.cat((true_label,labels))\n",
    "    \n",
    "img = np.transpose(features[0], axes=(1, 2, 0))\n",
    "img = np.squeeze(img.numpy(), axis=2)\n",
    "plt.imshow(img, cmap='Greys')\n",
    "plt.show\n",
    "\n",
    "\n",
    "resnet18 = resnet18.eval()\n",
    "\n",
    "with torch.no_grad():\n",
    "    probabilities = resnet18(features.to(DEVICE))\n",
    "    predicted_class = torch.argmax(probabilities, dim=1)\n",
    "\n",
    "print(\"Predicted Num : {:.0f}\".format(predicted_class[0]))\n",
    "print(\"Actual Num : {:.0f}\".format(true_label[0]))\n",
    "\n",
    "print(\"\\nTotal Accuracy on test data : {:.3f} %\".format(compute_accuracy(resnet18,test_loader,DEVICE)))"
   ]
  },
  {
   "cell_type": "markdown",
   "metadata": {},
   "source": [
    "### Results ###"
   ]
  },
  {
   "cell_type": "code",
   "execution_count": 18,
   "metadata": {},
   "outputs": [
    {
     "name": "stdout",
     "output_type": "stream",
     "text": [
      "\n",
      "Confusion Matrix :-\n",
      "|           |   0 - zero |   1 - one |   2 - two |   3 - three |   4 - four |   5 - five |   6 - six |   7 - seven |   8 - eight |   9 - nine |\n",
      "|:----------|-----------:|----------:|----------:|------------:|-----------:|-----------:|----------:|------------:|------------:|-----------:|\n",
      "| 0 - zero  |        961 |         0 |         4 |           1 |          2 |          3 |         4 |           0 |           5 |          0 |\n",
      "| 1 - one   |          0 |      1125 |         3 |           1 |          0 |          0 |         2 |           1 |           3 |          0 |\n",
      "| 2 - two   |          3 |         0 |      1001 |          13 |          1 |          0 |         2 |           3 |           9 |          0 |\n",
      "| 3 - three |          0 |         0 |         5 |         979 |          0 |          9 |         0 |           8 |           7 |          2 |\n",
      "| 4 - four  |          0 |         2 |         0 |           0 |        957 |          0 |         7 |           1 |           1 |         14 |\n",
      "| 5 - five  |          2 |         0 |         0 |           4 |          2 |        866 |         2 |           3 |           7 |          6 |\n",
      "| 6 - six   |          3 |         4 |         3 |           0 |          3 |          7 |       936 |           0 |           2 |          0 |\n",
      "| 7 - seven |          0 |         1 |        14 |           1 |          3 |          0 |         0 |        1001 |           0 |          8 |\n",
      "| 8 - eight |          5 |         1 |         5 |           5 |          3 |          5 |         1 |           2 |         942 |          5 |\n",
      "| 9 - nine  |          3 |         1 |         2 |           6 |          6 |          8 |         1 |           6 |           6 |        970 |\n",
      "\n",
      "Performance Matrix:-\n",
      "|           |   Precison |   Recall |   F-score |   Accuracy |\n",
      "|:----------|-----------:|---------:|----------:|-----------:|\n",
      "| 0 - zero  |    98.3623 |  98.0612 |   98.2115 |    98.0612 |\n",
      "| 1 - one   |    99.2063 |  99.1189 |   99.1626 |    99.1189 |\n",
      "| 2 - two   |    96.5284 |  96.9961 |   96.7617 |    96.9961 |\n",
      "| 3 - three |    96.9307 |  96.9307 |   96.9307 |    96.9307 |\n",
      "| 4 - four  |    97.9529 |  97.4542 |   97.7029 |    97.4542 |\n",
      "| 5 - five  |    96.4365 |  97.0852 |   96.7598 |    97.0852 |\n",
      "| 6 - six   |    98.0105 |  97.7035 |   97.8568 |    97.7035 |\n",
      "| 7 - seven |    97.6585 |  97.3735 |   97.5158 |    97.3735 |\n",
      "| 8 - eight |    95.9267 |  96.7146 |   96.319  |    96.7146 |\n",
      "| 9 - nine  |    96.5174 |  96.1348 |   96.3257 |    96.1348 |\n",
      "| Average   |    97.353  |  97.3573 |   97.3547 |    97.3573 |\n"
     ]
    }
   ],
   "source": [
    "\n",
    "from sklearn.metrics import confusion_matrix, accuracy_score, precision_score, recall_score, f1_score, precision_recall_fscore_support\n",
    "\n",
    "LABELS = [0,1,2,3,4,5,6,7,8,9]\n",
    "\n",
    "true_label = true_label.to('cpu')\n",
    "predicted_label = predicted_class.to('cpu')\n",
    "\n",
    "cf_matrix = confusion_matrix(true_label,predicted_label)\n",
    "\n",
    "df = pd.DataFrame(cf_matrix, index = CLASSES, columns = CLASSES)\n",
    "\n",
    "num_correct = [cf_matrix[i][i] for i in range(len(cf_matrix[0]))]\n",
    "\n",
    "print(\"\\nConfusion Matrix :-\")\n",
    "print(df.to_markdown())\n",
    "\n",
    "matrix = precision_recall_fscore_support(true_label,predicted_label,labels=LABELS)\n",
    "total_label = matrix[:][len(matrix)-1]\n",
    "accuracy = num_correct / total_label * 100\n",
    "df_matrix = pd.DataFrame(np.array(matrix).T[:,:-1]*100, index = CLASSES, columns = [\"Precison\",\"Recall\",\"F-score\"])\n",
    "df_matrix[\"Accuracy\"] = accuracy\n",
    "df_matrix.loc[\"Average\"] = df_matrix.mean(axis=0) \n",
    "\n",
    "\n",
    "print(\"\\nPerformance Matrix:-\")\n",
    "print(df_matrix.to_markdown())"
   ]
  },
  {
   "cell_type": "code",
   "execution_count": 48,
   "metadata": {},
   "outputs": [
    {
     "name": "stdout",
     "output_type": "stream",
     "text": [
      "\n",
      "Performance Matrix:-\n",
      "|           |   Precison |   Recall |   F-score |   Accuracy |\n",
      "|:----------|-----------:|---------:|----------:|-----------:|\n",
      "| 0 - zero  |    98.3623 |  98.0612 |   98.2115 |    98.0612 |\n",
      "| 1 - one   |    99.2063 |  99.1189 |   99.1626 |    99.1189 |\n",
      "| 2 - two   |    96.5284 |  96.9961 |   96.7617 |    96.9961 |\n",
      "| 3 - three |    96.9307 |  96.9307 |   96.9307 |    96.9307 |\n",
      "| 4 - four  |    97.9529 |  97.4542 |   97.7029 |    97.4542 |\n",
      "| 5 - five  |    96.4365 |  97.0852 |   96.7598 |    97.0852 |\n",
      "| 6 - six   |    98.0105 |  97.7035 |   97.8568 |    97.7035 |\n",
      "| 7 - seven |    97.6585 |  97.3735 |   97.5158 |    97.3735 |\n",
      "| 8 - eight |    95.9267 |  96.7146 |   96.319  |    96.7146 |\n",
      "| 9 - nine  |    96.5174 |  96.1348 |   96.3257 |    96.1348 |\n",
      "| Average   |    97.353  |  97.3573 |   97.3547 |    97.3573 |\n"
     ]
    }
   ],
   "source": [
    "TP = np.array([cf_matrix[i][i] for i in range(len(cf_matrix[0]))])\n",
    "\n",
    "F = np.array([sum(cf_matrix[:,i]) for i in range(len(cf_matrix[0]))])\n",
    "FP = F - TP\n",
    "\n",
    "T = np.array([sum(cf_matrix[i,:]) for i in range(len(cf_matrix[0]))])\n",
    "FN = T - TP\n",
    "\n",
    "TN = np.array([sum(sum(cf_matrix)) for i in range(len(cf_matrix[0]))]) - TP - FP - FN\n",
    "\n",
    "\n",
    "precision = TP / (FP+TP)\n",
    "recall = TP / (FN+TP)\n",
    "f_score = 2 * (precision*recall)/(precision+recall)\n",
    "accuracy = TP / T\n",
    "\n",
    "matrix  = [precision,recall,f_score,accuracy]\n",
    "\n",
    "df_matrix = pd.DataFrame(np.array(matrix).T*100, index = CLASSES, columns = [\"Precison\",\"Recall\",\"F-score\",\"Accuracy\"])\n",
    "df_matrix.loc[\"Average\"] = df_matrix.mean(axis=0) \n",
    "\n",
    "\n",
    "print(\"\\nPerformance Matrix:-\")\n",
    "print(df_matrix.to_markdown())"
   ]
  }
 ],
 "metadata": {
  "kernelspec": {
   "display_name": "Python 3.9.13 ('base')",
   "language": "python",
   "name": "python3"
  },
  "language_info": {
   "codemirror_mode": {
    "name": "ipython",
    "version": 3
   },
   "file_extension": ".py",
   "mimetype": "text/x-python",
   "name": "python",
   "nbconvert_exporter": "python",
   "pygments_lexer": "ipython3",
   "version": "3.9.13"
  },
  "orig_nbformat": 4,
  "vscode": {
   "interpreter": {
    "hash": "ad2bdc8ecc057115af97d19610ffacc2b4e99fae6737bb82f5d7fb13d2f2c186"
   }
  }
 },
 "nbformat": 4,
 "nbformat_minor": 2
}
