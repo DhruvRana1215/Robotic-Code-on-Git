{
 "cells": [
  {
   "cell_type": "markdown",
   "metadata": {},
   "source": [
    "# Dhruv Rana #"
   ]
  },
  {
   "cell_type": "code",
   "execution_count": 2,
   "metadata": {},
   "outputs": [
    {
     "name": "stdout",
     "output_type": "stream",
     "text": [
      "Num GPUs Available:  1\n",
      "1/1 [==============================] - 1s 529ms/step\n",
      "Predicted for data\\golfcart1.jpg : golfcart\n",
      "1/1 [==============================] - 0s 17ms/step\n",
      "Predicted for data\\golfcart2.jpg : golfcart\n",
      "1/1 [==============================] - 0s 18ms/step\n",
      "Predicted for data\\vendingmachine1.jpg : vending_machine\n",
      "1/1 [==============================] - 0s 18ms/step\n",
      "Predicted for data\\vendingmachine2.jpg : vending_machine\n"
     ]
    }
   ],
   "source": [
    "import glob\n",
    "import torch\n",
    "import numpy as np\n",
    "import tensorflow as tf\n",
    "from keras.utils import load_img, img_to_array\n",
    "from keras.applications.resnet import ResNet50\n",
    "from keras.applications.resnet import preprocess_input, decode_predictions\n",
    "\n",
    "print(\"Num GPUs Available: \", len(tf.config.experimental.list_physical_devices('GPU')))\n",
    "\n",
    "model = ResNet50(weights='imagenet')\n",
    "\n",
    "# sorted alphabatically\n",
    "true_label = ['vending_machine' , 'golfcart', 'vending_machine', 'golfcart']\n",
    "true_label = sorted (true_label)\n",
    "\n",
    "predicted_label = []\n",
    "\n",
    "# sorted alphabatically\n",
    "images = glob.glob('data\\\\*.jpg')\n",
    "images = sorted(images)\n",
    "\n",
    "for filename in images :\n",
    "    img = load_img(filename, target_size=(224, 224))\n",
    "    img_arr = img_to_array(img)\n",
    "    img_batch = np.expand_dims(img_arr, axis=0)\n",
    "    img_processed = preprocess_input(img_batch)\n",
    "\n",
    "    prediction = np.array(decode_predictions(model.predict(img_processed),top=1))\n",
    "    \n",
    "    print('Predicted for ' + filename + ' :', prediction[0,0,1])"
   ]
  }
 ],
 "metadata": {
  "kernelspec": {
   "display_name": "Python 3.9.13 ('base')",
   "language": "python",
   "name": "python3"
  },
  "language_info": {
   "codemirror_mode": {
    "name": "ipython",
    "version": 3
   },
   "file_extension": ".py",
   "mimetype": "text/x-python",
   "name": "python",
   "nbconvert_exporter": "python",
   "pygments_lexer": "ipython3",
   "version": "3.9.13"
  },
  "orig_nbformat": 4,
  "vscode": {
   "interpreter": {
    "hash": "ad2bdc8ecc057115af97d19610ffacc2b4e99fae6737bb82f5d7fb13d2f2c186"
   }
  }
 },
 "nbformat": 4,
 "nbformat_minor": 2
}
