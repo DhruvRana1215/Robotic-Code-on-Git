{
 "cells": [
  {
   "cell_type": "markdown",
   "metadata": {},
   "source": [
    "# Dhruv Rana #"
   ]
  },
  {
   "cell_type": "markdown",
   "metadata": {},
   "source": [
    "## PART 1 ##"
   ]
  },
  {
   "cell_type": "code",
   "execution_count": 30,
   "metadata": {},
   "outputs": [
    {
     "name": "stdout",
     "output_type": "stream",
     "text": [
      "Num GPUs Available:  1\n"
     ]
    }
   ],
   "source": [
    "import glob\n",
    "import numpy as np\n",
    "import pandas as pd\n",
    "\n",
    "import tensorflow as tf\n",
    "from keras.utils import load_img, img_to_array\n",
    "from keras.applications.resnet import ResNet50\n",
    "from keras.applications.resnet import preprocess_input, decode_predictions\n",
    "from sklearn.metrics import confusion_matrix, precision_score, recall_score, accuracy_score, f1_score\n",
    "\n",
    "# Using my GPU to accelrate the results\n",
    "\n",
    "print(\"Num GPUs Available: \", len(tf.config.experimental.list_physical_devices('GPU')))"
   ]
  },
  {
   "cell_type": "markdown",
   "metadata": {},
   "source": [
    "#### Classify Images ####"
   ]
  },
  {
   "cell_type": "code",
   "execution_count": 31,
   "metadata": {},
   "outputs": [
    {
     "name": "stdout",
     "output_type": "stream",
     "text": [
      "1/1 [==============================] - 1s 535ms/step\n",
      "Predicted for data\\basketball1.jpg : basketball\n",
      "1/1 [==============================] - 0s 19ms/step\n",
      "Predicted for data\\basketball2.jpg : basketball\n",
      "1/1 [==============================] - 0s 19ms/step\n",
      "Predicted for data\\cannon1.jpg : cannon\n",
      "1/1 [==============================] - 0s 19ms/step\n",
      "Predicted for data\\cannon2.jpg : cannon\n",
      "1/1 [==============================] - 0s 20ms/step\n",
      "Predicted for data\\golfcart1.jpg : golfcart\n",
      "1/1 [==============================] - 0s 19ms/step\n",
      "Predicted for data\\golfcart2.jpg : golfcart\n",
      "1/1 [==============================] - 0s 21ms/step\n",
      "Predicted for data\\otter1.JPG : otter\n",
      "1/1 [==============================] - 0s 19ms/step\n",
      "Predicted for data\\otter2.jpg : otter\n",
      "1/1 [==============================] - 0s 18ms/step\n",
      "Predicted for data\\vendingmachine1.jpg : vending_machine\n",
      "1/1 [==============================] - 0s 18ms/step\n",
      "Predicted for data\\vendingmachine2.jpg : vending_machine\n"
     ]
    }
   ],
   "source": [
    "# sorted alphabatically\n",
    "true_label = ['vending_machine' , 'vending_machine', 'golfcart', 'golfcart' , 'otter', 'otter' , 'basketball' , 'basketball',\n",
    "              'cannon','cannon']\n",
    "true_label = sorted (true_label)\n",
    "\n",
    "label = true_label[::2]\n",
    "\n",
    "predicted_label = []\n",
    "\n",
    "# sorted alphabatically\n",
    "# place all image in data folder\n",
    "images = glob.glob('data\\\\*.jpg')\n",
    "images = sorted(images)\n",
    "\n",
    "model = ResNet50(weights='imagenet')\n",
    "\n",
    "if(len(tf.config.experimental.list_physical_devices('GPU')) !=0 ):\n",
    "    with tf.device('/GPU:0'):\n",
    "\n",
    "        for filename in images :\n",
    "            img = load_img(filename, target_size=(224, 224))\n",
    "            img_arr = img_to_array(img)\n",
    "            img_batch = np.expand_dims(img_arr, axis=0)\n",
    "            img_processed = preprocess_input(img_batch)\n",
    "\n",
    "            prediction = model.predict(img_processed)\n",
    "            prediction = np.array(decode_predictions(prediction,top=3))\n",
    "            \n",
    "            predicted_label.append(prediction[0,0,1])\n",
    "            print('Predicted for ' + filename + ' :', prediction[0,0,1])\n",
    "           \n",
    "            \n",
    "else :\n",
    "\n",
    "    for filename in images :\n",
    "        img = load_img(filename, target_size=(224, 224))\n",
    "        img_arr = img_to_array(img)\n",
    "        img_batch = np.expand_dims(img_arr, axis=0)\n",
    "        img_processed = preprocess_input(img_batch)\n",
    "\n",
    "        prediction = model.predict(img_processed)\n",
    "        prediction = np.array(decode_predictions(prediction,top=1))\n",
    "            \n",
    "        predicted_label.append(prediction[0,0,1])\n",
    "        print('Prediction for ' + filename + ' :', prediction[0,0,1])"
   ]
  },
  {
   "cell_type": "markdown",
   "metadata": {},
   "source": [
    "#### Results ####"
   ]
  },
  {
   "cell_type": "code",
   "execution_count": 32,
   "metadata": {},
   "outputs": [
    {
     "name": "stdout",
     "output_type": "stream",
     "text": [
      "\n",
      "Confusion Matrix :-\n",
      "|                 |   basketball |   cannon |   golfcart |   otter |   vending_machine |\n",
      "|:----------------|-------------:|---------:|-----------:|--------:|------------------:|\n",
      "| basketball      |            2 |        0 |          0 |       0 |                 0 |\n",
      "| cannon          |            0 |        2 |          0 |       0 |                 0 |\n",
      "| golfcart        |            0 |        0 |          2 |       0 |                 0 |\n",
      "| otter           |            0 |        0 |          0 |       2 |                 0 |\n",
      "| vending_machine |            0 |        0 |          0 |       0 |                 2 |\n",
      "\n",
      "accuray : 100.0%\n",
      "precison : 100.0%\n",
      "recall : 100.0%\n",
      "f-score : 100.0%\n"
     ]
    }
   ],
   "source": [
    "cf_matrix = confusion_matrix(true_label,predicted_label)\n",
    "\n",
    "df = pd.DataFrame(cf_matrix, index = label, columns=label)\n",
    "print(\"\\nConfusion Matrix :-\")\n",
    "print(df.to_markdown())\n",
    "\n",
    "accuracy = accuracy_score(true_label,predicted_label)\n",
    "precison = precision_score(true_label,predicted_label,labels=label, average='micro')\n",
    "recall = recall_score(true_label,predicted_label,labels=label, average='micro')\n",
    "f_score = f1_score(true_label,predicted_label,labels=label, average='micro')\n",
    "\n",
    "print (\"\\naccuray : {0}%\".format(accuracy*100))\n",
    "print (\"precison : {0}%\".format(precison*100))\n",
    "print (\"recall : {0}%\".format(recall*100))\n",
    "print (\"f-score : {0}%\".format(f_score*100))"
   ]
  },
  {
   "cell_type": "markdown",
   "metadata": {},
   "source": [
    "## PART 2 ##"
   ]
  },
  {
   "cell_type": "code",
   "execution_count": 33,
   "metadata": {},
   "outputs": [
    {
     "name": "stdout",
     "output_type": "stream",
     "text": [
      "Using cuda for inference\n"
     ]
    }
   ],
   "source": [
    "import time\n",
    "import copy\n",
    "\n",
    "import numpy as np\n",
    "import pandas as pd\n",
    "\n",
    "import tensorflow as tf\n",
    "\n",
    "import torch\n",
    "import torch.nn as nn\n",
    "from torch.utils.data import DataLoader\n",
    "\n",
    "from torchvision import models, datasets, transforms\n",
    "\n",
    "import matplotlib.pyplot as plt\n",
    "from PIL import Image\n",
    "\n",
    "\n",
    "\n",
    "if torch.cuda.is_available():\n",
    "    torch.backends.cudnn.deterministic = True\n",
    "\n",
    "DEVICE = torch.device(\"cuda\") if torch.cuda.is_available() else torch.device(\"cpu\")\n",
    "print(f'Using {DEVICE} for inference')"
   ]
  },
  {
   "cell_type": "markdown",
   "metadata": {},
   "source": [
    "##### Model Settings #######"
   ]
  },
  {
   "cell_type": "code",
   "execution_count": 34,
   "metadata": {},
   "outputs": [],
   "source": [
    "LEARNING_RATE = 0.001\n",
    "\n",
    "BATCH_SIZE = 128\n",
    "NUM_EPOCHS = 10\n",
    "\n",
    "NUM_INPUTS = 1*28*28 # grayscale (1-channel) 28*28 picture\n",
    "NUM_CLASSES = 10 # digits 0 to 9"
   ]
  },
  {
   "cell_type": "markdown",
   "metadata": {},
   "source": [
    "##### Load MNIST Dataset #######"
   ]
  },
  {
   "cell_type": "code",
   "execution_count": 35,
   "metadata": {},
   "outputs": [],
   "source": [
    "train_data = datasets.MNIST(\n",
    "    root=\"dataset\",\n",
    "    train=True,\n",
    "    download=True,\n",
    "    transform= transforms.ToTensor()\n",
    ")\n",
    "\n",
    "test_data = datasets.MNIST(\n",
    "    root=\"dataset\",\n",
    "    train=False,\n",
    "    download=True,\n",
    "    transform= transforms.ToTensor()\n",
    ")\n",
    "\n",
    "train_loader = DataLoader(dataset=train_data, \n",
    "                          batch_size=BATCH_SIZE, \n",
    "                          shuffle=True)\n",
    "\n",
    "test_loader = DataLoader(dataset=test_data, \n",
    "                         batch_size=BATCH_SIZE, \n",
    "                         shuffle=False)\n",
    "\n",
    "CLASSES = train_data.classes"
   ]
  },
  {
   "cell_type": "markdown",
   "metadata": {},
   "source": [
    "#### Change Fully Connected Layer ####"
   ]
  },
  {
   "cell_type": "code",
   "execution_count": 36,
   "metadata": {},
   "outputs": [
    {
     "name": "stdout",
     "output_type": "stream",
     "text": [
      "Conv2d(3, 64, kernel_size=(7, 7), stride=(2, 2), padding=(3, 3), bias=False)\n",
      "Linear(in_features=512, out_features=1000, bias=True)\n",
      "\n",
      "Conv2d(1, 64, kernel_size=(7, 7), stride=(2, 2), padding=(3, 3), bias=False)\n",
      "Linear(in_features=512, out_features=10, bias=True)\n"
     ]
    },
    {
     "name": "stderr",
     "output_type": "stream",
     "text": [
      "c:\\ProgramData\\Anaconda3\\lib\\site-packages\\torchvision\\models\\_utils.py:208: UserWarning: The parameter 'pretrained' is deprecated since 0.13 and may be removed in the future, please use 'weights' instead.\n",
      "  warnings.warn(\n",
      "c:\\ProgramData\\Anaconda3\\lib\\site-packages\\torchvision\\models\\_utils.py:223: UserWarning: Arguments other than a weight enum or `None` for 'weights' are deprecated since 0.13 and may be removed in the future. The current behavior is equivalent to passing `weights=ResNet18_Weights.IMAGENET1K_V1`. You can also use `weights=ResNet18_Weights.DEFAULT` to get the most up-to-date weights.\n",
      "  warnings.warn(msg)\n"
     ]
    }
   ],
   "source": [
    "resnet18 = models.resnet18(pretrained=True)\n",
    "\n",
    "print(resnet18.conv1)\n",
    "print(resnet18.fc)\n",
    "\n",
    "# we only need 10 classes need to cahnge ouput layer\n",
    "# we also need to chnage so it takes 1 cahnnel instead of three channels\n",
    "resnet18.fc = nn.Linear(resnet18.fc.in_features,NUM_CLASSES)\n",
    "resnet18.conv1 = nn.Conv2d(1, 64, kernel_size=(7, 7), stride=(2, 2), padding=(3, 3), bias=False)\n",
    "print()\n",
    "print(resnet18.conv1)\n",
    "print(resnet18.fc)\n",
    "\n",
    "# Make sure to send our model to GPU if available\n",
    "resnet18 = resnet18.to(DEVICE)"
   ]
  },
  {
   "cell_type": "markdown",
   "metadata": {},
   "source": [
    "#### Compare True Label w/ Predicted Label #####"
   ]
  },
  {
   "cell_type": "code",
   "execution_count": 37,
   "metadata": {},
   "outputs": [],
   "source": [
    "def compute_accuracy (model, data_loader, device):\n",
    "    model = model.to(device)\n",
    "    model = model.eval() # put the model to evaultion mode\n",
    "    \n",
    "    num_correct_prediction = 0\n",
    "    num_total_labels = 0\n",
    "    \n",
    "    with torch.no_grad():\n",
    "        \n",
    "        for i, (inputs, labels) in enumerate(data_loader):\n",
    "            inputs = inputs.to(device)\n",
    "            labels = labels.to(device)\n",
    "            \n",
    "            probabilities = resnet18(inputs.to(DEVICE))\n",
    "            predicted_class = torch.argmax(probabilities, dim=1) # Class predicted by model\n",
    "            \n",
    "            num_total_labels += labels.size()[0]\n",
    "            num_correct_prediction += (predicted_class == labels).sum()\n",
    "\n",
    "    return num_correct_prediction/num_total_labels * 100"
   ]
  },
  {
   "cell_type": "markdown",
   "metadata": {},
   "source": [
    "#### Test w/o training ####"
   ]
  },
  {
   "cell_type": "code",
   "execution_count": 38,
   "metadata": {},
   "outputs": [
    {
     "data": {
      "application/vnd.jupyter.widget-view+json": {
       "model_id": "f3d203445c624c68afb8b7c66f168edf",
       "version_major": 2,
       "version_minor": 0
      },
      "image/png": "[encoded data removed]",
      "text/html": [
       "\n",
       "            <div style=\"display: inline-block;\">\n",
       "                <div class=\"jupyter-widgets widget-label\" style=\"text-align: center;\">\n",
       "                    Figure 1\n",
       "                </div>\n",
       "                <img src='data:image/png;base64,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' width=640.0/>\n",
       "            </div>\n",
       "        "
      ],
      "text/plain": [
       "Canvas(toolbar=Toolbar(toolitems=[('Home', 'Reset original view', 'home', 'home'), ('Back', 'Back to previous …"
      ]
     },
     "metadata": {},
     "output_type": "display_data"
    },
    {
     "name": "stdout",
     "output_type": "stream",
     "text": [
      "Predicted Num : 8\n",
      "Actual Num : 4\n",
      "\n",
      "Total Accuracy on test data : 12.890%\n"
     ]
    }
   ],
   "source": [
    "%matlplotlib inline\n",
    "\n",
    "for batch_index, (inputs, labels) in enumerate(test_loader):\n",
    "\n",
    "    inputs = inputs\n",
    "    labels = labels\n",
    "    break\n",
    "    \n",
    "\n",
    "    \n",
    "img = np.transpose(inputs[4], axes=(1, 2, 0))\n",
    "img = np.squeeze(img.numpy(), axis=2)\n",
    "plt.imshow(img, cmap='Greys')\n",
    "plt.show()\n",
    "\n",
    "\n",
    "\n",
    "resnet18 = resnet18.eval()\n",
    "\n",
    "with torch.no_grad(): # Save Performance when evaluting or prediciting\n",
    "    probabilities = resnet18(inputs.to(DEVICE))\n",
    "    predicted_class = torch.argmax(probabilities, dim=1)\n",
    "\n",
    "print(\"Predicted Num : {:d}\".format(predicted_class[4]))\n",
    "print(\"Actual Num : {:d}\".format(labels[4]))\n",
    "print(\"\\nTotal Accuracy on test data : {:.3f}%\".format(compute_accuracy(resnet18,test_loader,DEVICE)))"
   ]
  },
  {
   "cell_type": "markdown",
   "metadata": {},
   "source": [
    "#### Train Model ####"
   ]
  },
  {
   "cell_type": "code",
   "execution_count": 39,
   "metadata": {},
   "outputs": [],
   "source": [
    "def train_model (model, data_loader, learning_rate, num_epochs, device):\n",
    "    \n",
    "    optimizer = torch.optim.SGD(model.parameters(), lr=learning_rate)\n",
    "    \n",
    "    best_weights = copy.deepcopy(model.state_dict())\n",
    "    best_accuracy = 0\n",
    "    \n",
    "    start_time = time.time()\n",
    "    \n",
    "    for epochs in range(num_epochs):\n",
    "        \n",
    "        print(\"EPOCH : {0}/{1}\".format(epochs+1,num_epochs))\n",
    "        print(\"-\"*30)\n",
    "        \n",
    "        # train first\n",
    "        model.train()\n",
    "        for batch_index, (inputs, labels) in enumerate(data_loader):\n",
    "            inputs = inputs.to(device)\n",
    "            labels = labels.to(device)   \n",
    "             \n",
    "            probabilities = resnet18(inputs)\n",
    "            predicted_class = torch.argmax(probabilities, dim=1)\n",
    "            \n",
    "            optimizer.zero_grad()\n",
    "            loss = nn.functional.cross_entropy(probabilities,labels)\n",
    "                \n",
    "            loss.backward()\n",
    "            optimizer.step()\n",
    "            #scheduler.step()\n",
    "            \n",
    "            if (batch_index % 50 == 0) :\n",
    "                print(\"BATCH : {:3d}/{:3d} | LOSS : {:.3f} \".format(batch_index,len(data_loader),loss))\n",
    "            \n",
    "        \n",
    "        # evalute\n",
    "        model.eval()\n",
    "        with torch.set_grad_enabled(False):\n",
    "            accuracy = compute_accuracy(model,data_loader,DEVICE)\n",
    "            print(\"\\nTotal Accuracy On Training Data : {:.3f}%\".format(accuracy))\n",
    "        \n",
    "        # Save best weights\n",
    "        if (accuracy > best_accuracy):\n",
    "            best_accuracy = accuracy\n",
    "            best_weights = copy.deepcopy(model.state_dict())\n",
    "        \n",
    "        print(\"Elapsed Time : {:.0f} min {:.0f} sec\\n\".format((time.time() - start_time)/60 , (time.time() - start_time)%60)) \n",
    "    \n",
    "    print(\"\\nTotal Time : {:.0f} min {:.0f} sec\".format((time.time() - start_time)/60 , (time.time() - start_time)%60))\n",
    "    \n",
    "    \n",
    "    model.load_state_dict(best_weights)\n",
    "    return model"
   ]
  },
  {
   "cell_type": "code",
   "execution_count": 40,
   "metadata": {},
   "outputs": [
    {
     "name": "stdout",
     "output_type": "stream",
     "text": [
      "EPOCH : 1/10\n",
      "------------------------------\n",
      "BATCH :   0/469 | LOSS : 2.713 \n",
      "BATCH :  50/469 | LOSS : 1.912 \n",
      "BATCH : 100/469 | LOSS : 1.529 \n",
      "BATCH : 150/469 | LOSS : 1.156 \n",
      "BATCH : 200/469 | LOSS : 1.069 \n",
      "BATCH : 250/469 | LOSS : 0.844 \n",
      "BATCH : 300/469 | LOSS : 0.614 \n",
      "BATCH : 350/469 | LOSS : 0.633 \n",
      "BATCH : 400/469 | LOSS : 0.681 \n",
      "BATCH : 450/469 | LOSS : 0.611 \n",
      "\n",
      "Total Accuracy On Training Data : 86.847%\n",
      "Elapsed Time : 0 min 20 sec\n",
      "\n",
      "EPOCH : 2/10\n",
      "------------------------------\n",
      "BATCH :   0/469 | LOSS : 0.388 \n",
      "BATCH :  50/469 | LOSS : 0.456 \n",
      "BATCH : 100/469 | LOSS : 0.359 \n",
      "BATCH : 150/469 | LOSS : 0.303 \n",
      "BATCH : 200/469 | LOSS : 0.295 \n",
      "BATCH : 250/469 | LOSS : 0.348 \n",
      "BATCH : 300/469 | LOSS : 0.318 \n",
      "BATCH : 350/469 | LOSS : 0.311 \n",
      "BATCH : 400/469 | LOSS : 0.265 \n",
      "BATCH : 450/469 | LOSS : 0.303 \n"
     ]
    }
   ],
   "source": [
    "resnet18 = train_model(resnet18,train_loader,LEARNING_RATE,NUM_EPOCHS,DEVICE)"
   ]
  },
  {
   "cell_type": "markdown",
   "metadata": {},
   "source": [
    "### Test w/ Training ###"
   ]
  },
  {
   "cell_type": "code",
   "execution_count": null,
   "metadata": {},
   "outputs": [
    {
     "data": {
      "application/vnd.jupyter.widget-view+json": {
       "model_id": "f3d203445c624c68afb8b7c66f168edf",
       "version_major": 2,
       "version_minor": 0
      },
      "image/png": "[encoded data removed]",
      "text/html": [
       "\n",
       "            <div style=\"display: inline-block;\">\n",
       "                <div class=\"jupyter-widgets widget-label\" style=\"text-align: center;\">\n",
       "                    Figure 1\n",
       "                </div>\n",
       "                <img src='data:image/png;base64,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' width=640.0/>\n",
       "            </div>\n",
       "        "
      ],
      "text/plain": [
       "Canvas(toolbar=Toolbar(toolitems=[('Home', 'Reset original view', 'home', 'home'), ('Back', 'Back to previous …"
      ]
     },
     "metadata": {},
     "output_type": "display_data"
    },
    {
     "name": "stdout",
     "output_type": "stream",
     "text": [
      "Predicted Num : 7\n",
      "Actual Num : 7\n",
      "\n",
      "Total Accuracy on test data : 97.650%\n"
     ]
    }
   ],
   "source": [
    "%matlplotlib inline\n",
    "features = torch.empty(0)\n",
    "true_label = torch.empty(0)\n",
    "\n",
    "for batch_index, (inputs, labels) in enumerate(test_loader):\n",
    "\n",
    "    features = torch.cat((features,inputs))\n",
    "    true_label = torch.cat((true_label,labels))\n",
    "    \n",
    "img = np.transpose(features[0], axes=(1, 2, 0))\n",
    "img = np.squeeze(img.numpy(), axis=2)\n",
    "plt.imshow(img, cmap='Greys')\n",
    "plt.show()\n",
    "\n",
    "\n",
    "resnet18 = resnet18.eval()\n",
    "\n",
    "with torch.no_grad():\n",
    "    probabilities = resnet18(features.to(DEVICE))\n",
    "    predicted_class = torch.argmax(probabilities, dim=1)\n",
    "\n",
    "print(\"Predicted Num : {:.0f}\".format(predicted_class[0]))\n",
    "print(\"Actual Num : {:.0f}\".format(true_label[0]))\n",
    "\n",
    "print(\"\\nTotal Accuracy on test data : {:.3f}%\".format(compute_accuracy(resnet18,test_loader,DEVICE)))"
   ]
  },
  {
   "cell_type": "markdown",
   "metadata": {},
   "source": [
    "### Results ###"
   ]
  },
  {
   "cell_type": "code",
   "execution_count": null,
   "metadata": {},
   "outputs": [
    {
     "name": "stdout",
     "output_type": "stream",
     "text": [
      "\n",
      "Confusion Matrix :-\n",
      "|           |   0 - zero |   1 - one |   2 - two |   3 - three |   4 - four |   5 - five |   6 - six |   7 - seven |   8 - eight |   9 - nine |\n",
      "|:----------|-----------:|----------:|----------:|------------:|-----------:|-----------:|----------:|------------:|------------:|-----------:|\n",
      "| 0 - zero  |        971 |         0 |         0 |           0 |          1 |          1 |         2 |           1 |           2 |          2 |\n",
      "| 1 - one   |          3 |      1123 |         3 |           2 |          0 |          0 |         0 |           3 |           1 |          0 |\n",
      "| 2 - two   |          3 |         1 |      1011 |           2 |          0 |          0 |         0 |           8 |           7 |          0 |\n",
      "| 3 - three |          0 |         0 |         6 |         983 |          0 |         13 |         0 |           5 |           2 |          1 |\n",
      "| 4 - four  |          0 |         0 |         1 |           0 |        962 |          0 |         4 |           1 |           1 |         13 |\n",
      "| 5 - five  |          4 |         0 |         0 |          12 |          1 |        867 |         3 |           0 |           1 |          4 |\n",
      "| 6 - six   |          6 |         1 |         1 |           0 |          0 |          0 |       946 |           0 |           3 |          1 |\n",
      "| 7 - seven |          0 |         5 |         8 |           4 |          3 |          1 |         0 |        1000 |           1 |          6 |\n",
      "| 8 - eight |          5 |         0 |         9 |           3 |          7 |          5 |         2 |           2 |         933 |          8 |\n",
      "| 9 - nine  |          3 |         3 |         1 |           8 |          7 |          3 |         0 |           9 |           6 |        969 |\n",
      "\n",
      "accuray : 97.650%\n",
      "precison : 97.650%\n",
      "recall : 97.650%\n",
      "f-score : 97.650%\n"
     ]
    }
   ],
   "source": [
    "from sklearn.metrics import confusion_matrix, accuracy_score, precision_score, recall_score, f1_score\n",
    "\n",
    "LABELS = [0,1,2,3,4,5,6,7,8,9]\n",
    "\n",
    "true_label = true_label.to('cpu')\n",
    "predicted_label = predicted_class.to('cpu')\n",
    "\n",
    "cf_matrix = confusion_matrix(true_label,predicted_label)\n",
    "\n",
    "df = pd.DataFrame(cf_matrix, index = CLASSES, columns = CLASSES)\n",
    "\n",
    "print(\"\\nConfusion Matrix :-\")\n",
    "print(df.to_markdown())\n",
    "\n",
    "accuracy = accuracy_score(true_label,predicted_label)\n",
    "precison = precision_score(true_label,predicted_label,labels=LABELS,average='micro')\n",
    "recall = recall_score(true_label,predicted_label,labels=LABELS,average='micro')\n",
    "f_score = f1_score(true_label,predicted_label,labels=LABELS,average='micro')\n",
    "\n",
    "print (\"\\naccuray : {:0.3f}%\".format(accuracy*100))\n",
    "print (\"precison : {:0.3f}%\".format(precison*100))\n",
    "print (\"recall : {:.3f}%\".format(recall*100))\n",
    "print (\"f-score : {:.3f}%\".format(f_score*100))\n"
   ]
  }
 ],
 "metadata": {
  "kernelspec": {
   "display_name": "Python 3.9.13 ('base')",
   "language": "python",
   "name": "python3"
  },
  "language_info": {
   "codemirror_mode": {
    "name": "ipython",
    "version": 3
   },
   "file_extension": ".py",
   "mimetype": "text/x-python",
   "name": "python",
   "nbconvert_exporter": "python",
   "pygments_lexer": "ipython3",
   "version": "3.9.13"
  },
  "orig_nbformat": 4,
  "vscode": {
   "interpreter": {
    "hash": "ad2bdc8ecc057115af97d19610ffacc2b4e99fae6737bb82f5d7fb13d2f2c186"
   }
  }
 },
 "nbformat": 4,
 "nbformat_minor": 2
}
