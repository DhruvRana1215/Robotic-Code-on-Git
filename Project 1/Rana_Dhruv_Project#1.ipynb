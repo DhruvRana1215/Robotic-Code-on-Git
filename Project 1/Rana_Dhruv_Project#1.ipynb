{
 "cells": [
  {
   "cell_type": "markdown",
   "metadata": {},
   "source": [
    "# Dhruv Rana #"
   ]
  },
  {
   "cell_type": "markdown",
   "metadata": {},
   "source": [
    "#### PART 1 ####"
   ]
  },
  {
   "cell_type": "code",
   "execution_count": 24,
   "metadata": {},
   "outputs": [
    {
     "name": "stdout",
     "output_type": "stream",
     "text": [
      "Num GPUs Available:  1\n",
      "1/1 [==============================] - 1s 527ms/step\n",
      "Predicted for data\\basketball1.jpg : basketball\n",
      "1/1 [==============================] - 0s 17ms/step\n",
      "Predicted for data\\basketball2.jpg : basketball\n",
      "1/1 [==============================] - 0s 19ms/step\n",
      "Predicted for data\\cannon1.jpg : cannon\n",
      "1/1 [==============================] - 0s 18ms/step\n",
      "Predicted for data\\cannon2.jpg : cannon\n",
      "1/1 [==============================] - 0s 17ms/step\n",
      "Predicted for data\\golfcart1.jpg : golfcart\n",
      "1/1 [==============================] - 0s 18ms/step\n",
      "Predicted for data\\golfcart2.jpg : golfcart\n",
      "1/1 [==============================] - 0s 18ms/step\n",
      "Predicted for data\\otter1.JPG : otter\n",
      "1/1 [==============================] - 0s 21ms/step\n",
      "Predicted for data\\otter2.jpg : otter\n",
      "1/1 [==============================] - 0s 18ms/step\n",
      "Predicted for data\\vendingmachine1.jpg : vending_machine\n",
      "1/1 [==============================] - 0s 17ms/step\n",
      "Predicted for data\\vendingmachine2.jpg : vending_machine\n"
     ]
    },
    {
     "data": {
      "text/html": [
       "<div>\n",
       "<style scoped>\n",
       "    .dataframe tbody tr th:only-of-type {\n",
       "        vertical-align: middle;\n",
       "    }\n",
       "\n",
       "    .dataframe tbody tr th {\n",
       "        vertical-align: top;\n",
       "    }\n",
       "\n",
       "    .dataframe thead th {\n",
       "        text-align: right;\n",
       "    }\n",
       "</style>\n",
       "<table border=\"1\" class=\"dataframe\">\n",
       "  <thead>\n",
       "    <tr style=\"text-align: right;\">\n",
       "      <th></th>\n",
       "      <th>basketball</th>\n",
       "      <th>cannon</th>\n",
       "      <th>golfcart</th>\n",
       "      <th>otter</th>\n",
       "      <th>vending_machine</th>\n",
       "    </tr>\n",
       "  </thead>\n",
       "  <tbody>\n",
       "    <tr>\n",
       "      <th>basketball</th>\n",
       "      <td>2</td>\n",
       "      <td>0</td>\n",
       "      <td>0</td>\n",
       "      <td>0</td>\n",
       "      <td>0</td>\n",
       "    </tr>\n",
       "    <tr>\n",
       "      <th>cannon</th>\n",
       "      <td>0</td>\n",
       "      <td>2</td>\n",
       "      <td>0</td>\n",
       "      <td>0</td>\n",
       "      <td>0</td>\n",
       "    </tr>\n",
       "    <tr>\n",
       "      <th>golfcart</th>\n",
       "      <td>0</td>\n",
       "      <td>0</td>\n",
       "      <td>2</td>\n",
       "      <td>0</td>\n",
       "      <td>0</td>\n",
       "    </tr>\n",
       "    <tr>\n",
       "      <th>otter</th>\n",
       "      <td>0</td>\n",
       "      <td>0</td>\n",
       "      <td>0</td>\n",
       "      <td>2</td>\n",
       "      <td>0</td>\n",
       "    </tr>\n",
       "    <tr>\n",
       "      <th>vending_machine</th>\n",
       "      <td>0</td>\n",
       "      <td>0</td>\n",
       "      <td>0</td>\n",
       "      <td>0</td>\n",
       "      <td>2</td>\n",
       "    </tr>\n",
       "  </tbody>\n",
       "</table>\n",
       "</div>"
      ],
      "text/plain": [
       "                 basketball  cannon  golfcart  otter  vending_machine\n",
       "basketball                2       0         0      0                0\n",
       "cannon                    0       2         0      0                0\n",
       "golfcart                  0       0         2      0                0\n",
       "otter                     0       0         0      2                0\n",
       "vending_machine           0       0         0      0                2"
      ]
     },
     "execution_count": 24,
     "metadata": {},
     "output_type": "execute_result"
    }
   ],
   "source": [
    "import glob\n",
    "import numpy as np\n",
    "import pandas as pd\n",
    "import tensorflow as tf\n",
    "from sklearn.metrics import confusion_matrix\n",
    "from keras.utils import load_img, img_to_array\n",
    "from keras.applications.resnet import ResNet50\n",
    "from keras.applications.resnet import preprocess_input, decode_predictions\n",
    "\n",
    "# Using my GPU to accelrate the results\n",
    "\n",
    "print(\"Num GPUs Available: \", len(tf.config.experimental.list_physical_devices('GPU')))\n",
    "\n",
    "# sorted alphabatically\n",
    "true_label = ['vending_machine' , 'vending_machine', 'golfcart', 'golfcart' , 'otter', 'otter' , 'basketball' , 'basketball',\n",
    "              'cannon','cannon']\n",
    "true_label = sorted (true_label)\n",
    "\n",
    "label = true_label[::2]\n",
    "\n",
    "predicted_label = []\n",
    "\n",
    "# sorted alphabatically\n",
    "images = glob.glob('data\\\\*.jpg')\n",
    "images = sorted(images)\n",
    "\n",
    "model = ResNet50(weights='imagenet')\n",
    "\n",
    "if(len(tf.config.experimental.list_physical_devices('GPU')) !=0 ):\n",
    "    with tf.device('/GPU:0'):\n",
    "\n",
    "        for filename in images :\n",
    "            img = load_img(filename, target_size=(224, 224))\n",
    "            img_arr = img_to_array(img)\n",
    "            img_batch = np.expand_dims(img_arr, axis=0)\n",
    "            img_processed = preprocess_input(img_batch)\n",
    "\n",
    "            prediction = model.predict(img_processed)\n",
    "            prediction = np.array(decode_predictions(prediction,top=3))\n",
    "            \n",
    "            predicted_label.append(prediction[0,0,1])\n",
    "            print('Predicted for ' + filename + ' :', prediction[0,0,1])\n",
    "           \n",
    "            \n",
    "else :\n",
    "\n",
    "    for filename in images :\n",
    "        img = load_img(filename, target_size=(224, 224))\n",
    "        img_arr = img_to_array(img)\n",
    "        img_batch = np.expand_dims(img_arr, axis=0)\n",
    "        img_processed = preprocess_input(img_batch)\n",
    "\n",
    "        prediction = model.predict(img_processed)\n",
    "        prediction = np.array(decode_predictions(prediction,top=3))\n",
    "            \n",
    "        predicted_label.append(prediction[0,0,1])\n",
    "        print('Prediction for ' + filename + ' :', prediction[0,0,1])\n",
    "\n",
    "cf_matrix = confusion_matrix(true_label,predicted_label)\n",
    "\n",
    "df = pd.DataFrame(cf_matrix, index = label, columns=label)\n",
    "df"
   ]
  },
  {
   "cell_type": "markdown",
   "metadata": {},
   "source": [
    "#### PART 2 ####"
   ]
  },
  {
   "cell_type": "code",
   "execution_count": null,
   "metadata": {},
   "outputs": [],
   "source": []
  }
 ],
 "metadata": {
  "kernelspec": {
   "display_name": "Python 3.9.13 ('base')",
   "language": "python",
   "name": "python3"
  },
  "language_info": {
   "codemirror_mode": {
    "name": "ipython",
    "version": 3
   },
   "file_extension": ".py",
   "mimetype": "text/x-python",
   "name": "python",
   "nbconvert_exporter": "python",
   "pygments_lexer": "ipython3",
   "version": "3.9.13"
  },
  "orig_nbformat": 4,
  "vscode": {
   "interpreter": {
    "hash": "ad2bdc8ecc057115af97d19610ffacc2b4e99fae6737bb82f5d7fb13d2f2c186"
   }
  }
 },
 "nbformat": 4,
 "nbformat_minor": 2
}
