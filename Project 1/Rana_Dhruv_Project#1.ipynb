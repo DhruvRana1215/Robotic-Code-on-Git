{
 "cells": [
  {
   "cell_type": "markdown",
   "metadata": {},
   "source": [
    "# Dhruv Rana #"
   ]
  },
  {
   "cell_type": "code",
   "execution_count": 23,
   "metadata": {},
   "outputs": [
    {
     "name": "stderr",
     "output_type": "stream",
     "text": [
      "C:\\Users\\dhruv\\AppData\\Roaming\\Python\\Python39\\site-packages\\keras\\engine\\training_v1.py:2356: UserWarning: `Model.state_updates` will be removed in a future version. This property should not be used in TensorFlow 2.0, as `updates` are applied automatically.\n",
      "  updates=self.state_updates,\n"
     ]
    },
    {
     "name": "stdout",
     "output_type": "stream",
     "text": [
      "Predicted: [[('n03445924', 'golfcart', 0.9907712)]]\n",
      "Predicted: [[('n03445924', 'golfcart', 1.0)]]\n",
      "Predicted: [[('n04525305', 'vending_machine', 0.99944645)]]\n",
      "Predicted: [[('n04525305', 'vending_machine', 0.9989009)]]\n"
     ]
    }
   ],
   "source": [
    "import glob\n",
    "import numpy as np\n",
    "import tensorflow as tf\n",
    "from keras.utils import load_img, img_to_array\n",
    "from keras.applications.resnet import ResNet50\n",
    "from keras.applications.resnet import preprocess_input, decode_predictions\n",
    "\n",
    "model = ResNet50(weights='imagenet')\n",
    "\n",
    "true_label = ['vending machine', 'vending machine' , 'golf cart', 'golf cart']\n",
    "\n",
    "# sorted alphabatically\n",
    "images = glob.glob('data\\\\*.jpg')\n",
    "images = sorted(images)\n",
    "\n",
    "for filename in images :\n",
    "    img = load_img(filename, target_size=(224, 224))\n",
    "    img_arr = img_to_array(img)\n",
    "    img_batch = np.expand_dims(img_arr, axis=0)\n",
    "    img_processed = preprocess_input(img_batch)\n",
    "\n",
    "    prediction = decode_predictions(model.predict(img_processed),top=1)\n",
    "    print('Predicted:', prediction)"
   ]
  }
 ],
 "metadata": {
  "kernelspec": {
   "display_name": "Python 3.9.13 ('base')",
   "language": "python",
   "name": "python3"
  },
  "language_info": {
   "codemirror_mode": {
    "name": "ipython",
    "version": 3
   },
   "file_extension": ".py",
   "mimetype": "text/x-python",
   "name": "python",
   "nbconvert_exporter": "python",
   "pygments_lexer": "ipython3",
   "version": "3.9.13"
  },
  "orig_nbformat": 4,
  "vscode": {
   "interpreter": {
    "hash": "ad2bdc8ecc057115af97d19610ffacc2b4e99fae6737bb82f5d7fb13d2f2c186"
   }
  }
 },
 "nbformat": 4,
 "nbformat_minor": 2
}
