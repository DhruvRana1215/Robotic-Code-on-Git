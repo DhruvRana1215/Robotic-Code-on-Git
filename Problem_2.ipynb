{
  "cells": [
    {
      "cell_type": "code",
      "execution_count": 4,
      "metadata": {
        "colab": {},
        "colab_type": "code",
        "id": "kF9L73Ooqves"
      },
      "outputs": [],
      "source": [
        "import numpy as np\n",
        "from numpy.linalg import inv"
      ]
    },
    {
      "cell_type": "code",
      "execution_count": 5,
      "metadata": {
        "colab": {},
        "colab_type": "code",
        "id": "b2AqwxNXs7bW"
      },
      "outputs": [],
      "source": [
        "# X and Y coordinates from problem description\n",
        "x = [-1, 2.5, 6.0, -3.5, 3.0, 8.5]\n",
        "y = [8.5, 3.0, -5.5, 13.0, 0.0, -10.0]"
      ]
    },
    {
      "cell_type": "code",
      "execution_count": 6,
      "metadata": {
        "colab": {},
        "colab_type": "code",
        "id": "EthOUWp5tTpW"
      },
      "outputs": [],
      "source": [
        "# TODO: Form the A matrix and the b vector\n",
        "A = np.concatenate((np.transpose([x]),np.ones((6,1))),axis=1)\n",
        "b = np.transpose([y])"
      ]
    },
    {
      "cell_type": "code",
      "execution_count": 7,
      "metadata": {
        "colab": {},
        "colab_type": "code",
        "id": "OYC3qMTltgVX"
      },
      "outputs": [],
      "source": [
        "# TODO: Find the vector q\n",
        "q = np.matmul(np.matmul(inv(np.matmul(A.transpose(),A)),A.transpose()),b).flatten()"
      ]
    },
    {
      "cell_type": "code",
      "execution_count": 8,
      "metadata": {
        "colab": {},
        "colab_type": "code",
        "id": "NGw-XA15t_kI"
      },
      "outputs": [
        {
          "name": "stdout",
          "output_type": "stream",
          "text": [
            "y = -1.941x + 6.515\n"
          ]
        }
      ],
      "source": [
        "# Display computed q vector\n",
        "print('y = {0:2.3f}x + {1:2.3f}'.format(q[0], q[1]))"
      ]
    }
  ],
  "metadata": {
    "colab": {
      "name": "Problem_2.ipynb",
      "provenance": []
    },
    "kernelspec": {
      "display_name": "Python 3.9.12 ('base')",
      "language": "python",
      "name": "python3"
    },
    "language_info": {
      "codemirror_mode": {
        "name": "ipython",
        "version": 3
      },
      "file_extension": ".py",
      "mimetype": "text/x-python",
      "name": "python",
      "nbconvert_exporter": "python",
      "pygments_lexer": "ipython3",
      "version": "3.9.13"
    },
    "vscode": {
      "interpreter": {
        "hash": "ad2bdc8ecc057115af97d19610ffacc2b4e99fae6737bb82f5d7fb13d2f2c186"
      }
    }
  },
  "nbformat": 4,
  "nbformat_minor": 0
}
