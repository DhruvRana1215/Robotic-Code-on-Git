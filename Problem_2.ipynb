{
  "cells": [
    {
      "cell_type": "code",
      "execution_count": 52,
      "metadata": {
        "colab": {},
        "colab_type": "code",
        "id": "kF9L73Ooqves"
      },
      "outputs": [],
      "source": [
        "import numpy as np\n",
        "from numpy.linalg import inv"
      ]
    },
    {
      "cell_type": "code",
      "execution_count": 53,
      "metadata": {
        "colab": {},
        "colab_type": "code",
        "id": "b2AqwxNXs7bW"
      },
      "outputs": [],
      "source": [
        "# X and Y coordinates from problem description\n",
        "x = [-1, 2.5, 6.0, -3.5, 3.0, 8.5]\n",
        "y = [8.5, 3.0, -5.5, 13.0, 0.0, -10.0]"
      ]
    },
    {
      "cell_type": "code",
      "execution_count": 54,
      "metadata": {
        "colab": {},
        "colab_type": "code",
        "id": "EthOUWp5tTpW"
      },
      "outputs": [],
      "source": [
        "# TODO: Form the A matrix and the b vector\n",
        "A = np.concatenate((np.transpose([x]),np.ones((6,1))),axis=1)\n",
        "b = np.transpose([y])"
      ]
    },
    {
      "cell_type": "code",
      "execution_count": 55,
      "metadata": {
        "colab": {},
        "colab_type": "code",
        "id": "OYC3qMTltgVX"
      },
      "outputs": [
        {
          "name": "stdout",
          "output_type": "stream",
          "text": [
            "[-1.94140457  6.51529513]\n"
          ]
        }
      ],
      "source": [
        "# TODO: Find the vector q\n",
        "q = np.matmul(np.matmul(inv(np.matmul(A.transpose(),A)),A.transpose()),b).flatten()"
      ]
    },
    {
      "cell_type": "code",
      "execution_count": 56,
      "metadata": {
        "colab": {},
        "colab_type": "code",
        "id": "NGw-XA15t_kI"
      },
      "outputs": [
        {
          "name": "stdout",
          "output_type": "stream",
          "text": [
            "y = -1.941x + 6.515\n"
          ]
        }
      ],
      "source": [
        "# Display computed q vector\n",
        "print('y = {0:2.3f}x + {1:2.3f}'.format(q[0], q[1]))"
      ]
    }
  ],
  "metadata": {
    "colab": {
      "name": "Problem_2.ipynb",
      "provenance": []
    },
    "kernelspec": {
      "display_name": "Python 3",
      "name": "python3"
    }
  },
  "nbformat": 4,
  "nbformat_minor": 0
}
