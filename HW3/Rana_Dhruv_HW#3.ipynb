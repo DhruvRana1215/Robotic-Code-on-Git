{
 "cells": [
  {
   "cell_type": "markdown",
   "metadata": {},
   "source": [
    "## Probelm 1 ##"
   ]
  },
  {
   "cell_type": "code",
   "execution_count": null,
   "metadata": {},
   "outputs": [],
   "source": [
    "import numpy as np\n",
    "import cv2 as cv\n",
    "import matplotlib.pyplot as plt\n",
    "import glob\n",
    "\n",
    "# I tired using an iphone but due to high res (12MP) it was taking too long\n",
    "# Thus I decided to use my webcam and forced it to a 0.9MP (1280x720) and it speeded up the process  \n",
    "\n",
    "CHECKERBOARD_DIM = (7,10)\n",
    "\n",
    "\n",
    "# Make corresponding 3D world points (assuming each square is 1 unit away)\n",
    "# (0,0,0) (1,0,0) ... (6,0,0) (0,1,0)...(6,1,0) (0,9,0)..(6,9,0) Only inner points of checker\n",
    "objectPoints_3D = np.zeros((1, CHECKERBOARD_DIM[0]* CHECKERBOARD_DIM[1],3), np.float32)\n",
    "objectPoints_3D[0, :, :2] = np.mgrid[0:CHECKERBOARD_DIM[0],0:CHECKERBOARD_DIM[1]].T.reshape(-1, 2)\n",
    "\n",
    "#temp = list(objectPoints_3D[0,:,0])\n",
    "#objectPoints_3D[0,:,0] = objectPoints_3D[0,:,1]\n",
    "#objectPoints_3D[0,:,1] = temp\n",
    "#objectPoints_3D = objectPoints_3D[:,::-1]\n",
    "\n",
    "# array to store point pairs \n",
    "points_3D = []\n",
    "points_2D = []\n",
    "\n",
    "image = glob.glob('checker*.jpg')\n",
    "# iterate trough all 21 checker images\n",
    "for filename in image:\n",
    "    img = cv.imread(filename)\n",
    " \n",
    "    gray = cv.cvtColor(img,cv.COLOR_BGR2GRAY)\n",
    "\n",
    "    ret, corners = cv.findChessboardCorners(gray, CHECKERBOARD_DIM,None)\n",
    "    \n",
    "    points_3D.append(objectPoints_3D)\n",
    "    points_2D.append(corners)\n",
    "\n",
    "    #cv.drawChessboardCorners(img, CHECKERBOARD_DIM,corners, ret)\n",
    "    #cv.imshow('img', img)\n",
    "    #cv.waitKey(0)\n",
    "    #cv.destroyAllWindows()\n",
    "\n",
    "# Once we have all point pairs I use the built in function of OpenCV to find intrinsic and extrinsic matrix for each Image\n",
    "ret, matrix, distortion, r_vecs, t_vecs = cv.calibrateCamera(points_3D, points_2D, gray.shape[::-1], None, None)\n",
    "\n",
    "# Displaying Intrinsic Matrix (focal length and scale)\n",
    "print(\"Camera Intrinsic matrix:\")\n",
    "print(matrix)\n",
    "\n",
    "r_mat = []\n",
    "# Displaying unique extrinsic matrix for each images (rotation matix and translation vector)\n",
    "# OpenCV returns a rotation vector and must be converted to rotation matrix\n",
    "for i in range(len(r_vecs)):\n",
    "    r_mat_i = np.zeros((3,3))\n",
    "    cv.Rodrigues(r_vecs[i],r_mat_i)\n",
    "    r_mat.append(r_mat_i)\n",
    "    print(\"\\nExtrensic Matrix for Image {0} :-\".format(i+1))\n",
    "    print(\"\\n Rotation Matrix:\")\n",
    "    print(r_mat[i])\n",
    "    print(\"\\n Translation Vectors:\")\n",
    "    #t_vecs[i] = tuple(list(t_vecs[i]).insert(3,1))\n",
    "    print(t_vecs[i])\n",
    "    print(\"-------------------------------------------------------------------\")\n",
    "    \n",
    "# OPenCV or python has no built-in function to show extrinsinc param in one plot. \n",
    "# Thus I used Matlab to make the graph using Camera Calibration tool\n",
    "# The results for focal length and intrinsic matrix match with certain margin of error.\n",
    "# however Matlab has origin of corners in top left and OpenCv in top right\n",
    "# Causing some extrinsinc param to differ. I will just dispaly the plot according to matlab.\n",
    "\n",
    "pattern = cv.imread(\"patternCentric.png\")\n",
    "plt.imshow(pattern)\n",
    "plt.show()\n",
    "\n",
    "camera = cv.imread(\"cameraCentric.png\")\n",
    "plt.imshow(camera)\n",
    "plt.show()"
   ]
  },
  {
   "cell_type": "markdown",
   "metadata": {},
   "source": [
    "## Problem 2 ##"
   ]
  },
  {
   "cell_type": "code",
   "execution_count": null,
   "metadata": {},
   "outputs": [],
   "source": []
  }
 ],
 "metadata": {
  "kernelspec": {
   "display_name": "Python 3.10.7 64-bit",
   "language": "python",
   "name": "python3"
  },
  "language_info": {
   "name": "python",
   "version": "3.10.7"
  },
  "orig_nbformat": 4,
  "vscode": {
   "interpreter": {
    "hash": "369f2c481f4da34e4445cda3fffd2e751bd1c4d706f27375911949ba6bb62e1c"
   }
  }
 },
 "nbformat": 4,
 "nbformat_minor": 2
}
