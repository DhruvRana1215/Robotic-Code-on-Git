{
 "cells": [
  {
   "cell_type": "code",
   "execution_count": 39,
   "metadata": {},
   "outputs": [],
   "source": [
    "import numpy as np\n",
    "import cv2 as cv\n",
    "\n",
    "img1 = cv.imread(\"checker1.jpg\")\n",
    "# The images were captured at 12MP and took 5 min on average\n",
    "# Thus i decided to rezie them, which would loose accuracy \n",
    "# but my computer was having hard time processing without resizing\n",
    "img1 = cv.resize(img1, (960, 540))      \n",
    "gray1 = cv.cvtColor(img1,cv.COLOR_BGR2GRAY)\n",
    "\n",
    "criteria = (cv.TERM_CRITERIA_EPS + cv.TERM_CRITERIA_MAX_ITER, 30, 0.001)\n",
    "\n",
    "ret, corners = cv.findChessboardCorners(gray1, (7,10), cv.CALIB_CB_ADAPTIVE_THRESH + cv.CALIB_CB_FAST_CHECK + cv.CALIB_CB_NORMALIZE_IMAGE + cv.CALIB_CB_FILTER_QUADS)\n",
    "if ret == True:\n",
    "    corners2 = cv.cornerSubPix(gray1,corners, (11,11), (-1,-1),criteria)\n",
    "     # Draw and display the corners\n",
    "    cv.drawChessboardCorners(img1, (7,10), corners2, ret)\n",
    "    cv.imshow('img', img1)\n",
    "    cv.waitKey(0)\n",
    "    cv.destroyAllWindows()\n",
    "else:\n",
    "    print(\"Not Found\")\n"
   ]
  }
 ],
 "metadata": {
  "kernelspec": {
   "display_name": "Python 3.10.7 64-bit",
   "language": "python",
   "name": "python3"
  },
  "language_info": {
   "codemirror_mode": {
    "name": "ipython",
    "version": 3
   },
   "file_extension": ".py",
   "mimetype": "text/x-python",
   "name": "python",
   "nbconvert_exporter": "python",
   "pygments_lexer": "ipython3",
   "version": "3.10.7"
  },
  "orig_nbformat": 4,
  "vscode": {
   "interpreter": {
    "hash": "369f2c481f4da34e4445cda3fffd2e751bd1c4d706f27375911949ba6bb62e1c"
   }
  }
 },
 "nbformat": 4,
 "nbformat_minor": 2
}
