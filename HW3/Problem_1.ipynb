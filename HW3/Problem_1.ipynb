{
 "cells": [
  {
   "cell_type": "code",
   "execution_count": 35,
   "metadata": {},
   "outputs": [
    {
     "ename": "error",
     "evalue": "OpenCV(4.6.0) D:\\a\\opencv-python\\opencv-python\\opencv\\modules\\imgproc\\src\\color.cpp:182: error: (-215:Assertion failed) !_src.empty() in function 'cv::cvtColor'\n",
     "output_type": "error",
     "traceback": [
      "\u001b[1;31m---------------------------------------------------------------------------\u001b[0m",
      "\u001b[1;31merror\u001b[0m                                     Traceback (most recent call last)",
      "\u001b[1;32mc:\\Users\\dhruv\\OneDrive\\Desktop\\College\\Rutgers\\2022FA(Fall)\\ROBOTICS&COMP VISION\\Robotic-Code-on-Git\\HW3\\Problem_1.ipynb Cell 1\u001b[0m in \u001b[0;36m<cell line: 8>\u001b[1;34m()\u001b[0m\n\u001b[0;32m      <a href='vscode-notebook-cell:/c%3A/Users/dhruv/OneDrive/Desktop/College/Rutgers/2022FA%28Fall%29/ROBOTICS%26COMP%20VISION/Robotic-Code-on-Git/HW3/Problem_1.ipynb#W4sZmlsZQ%3D%3D?line=5'>6</a>\u001b[0m img1 \u001b[39m=\u001b[39m cv\u001b[39m.\u001b[39mimread(\u001b[39m\"\u001b[39m\u001b[39mchecker9.jpg\u001b[39m\u001b[39m\"\u001b[39m)\n\u001b[0;32m      <a href='vscode-notebook-cell:/c%3A/Users/dhruv/OneDrive/Desktop/College/Rutgers/2022FA%28Fall%29/ROBOTICS%26COMP%20VISION/Robotic-Code-on-Git/HW3/Problem_1.ipynb#W4sZmlsZQ%3D%3D?line=6'>7</a>\u001b[0m \u001b[39m#img1 = cv.resize(img1, (960, 540))      \u001b[39;00m\n\u001b[1;32m----> <a href='vscode-notebook-cell:/c%3A/Users/dhruv/OneDrive/Desktop/College/Rutgers/2022FA%28Fall%29/ROBOTICS%26COMP%20VISION/Robotic-Code-on-Git/HW3/Problem_1.ipynb#W4sZmlsZQ%3D%3D?line=7'>8</a>\u001b[0m gray1 \u001b[39m=\u001b[39m cv\u001b[39m.\u001b[39;49mcvtColor(img1,cv\u001b[39m.\u001b[39;49mCOLOR_BGR2GRAY)\n\u001b[0;32m     <a href='vscode-notebook-cell:/c%3A/Users/dhruv/OneDrive/Desktop/College/Rutgers/2022FA%28Fall%29/ROBOTICS%26COMP%20VISION/Robotic-Code-on-Git/HW3/Problem_1.ipynb#W4sZmlsZQ%3D%3D?line=9'>10</a>\u001b[0m criteria \u001b[39m=\u001b[39m (cv\u001b[39m.\u001b[39mTERM_CRITERIA_EPS \u001b[39m+\u001b[39m cv\u001b[39m.\u001b[39mTERM_CRITERIA_MAX_ITER, \u001b[39m30\u001b[39m, \u001b[39m0.001\u001b[39m)\n\u001b[0;32m     <a href='vscode-notebook-cell:/c%3A/Users/dhruv/OneDrive/Desktop/College/Rutgers/2022FA%28Fall%29/ROBOTICS%26COMP%20VISION/Robotic-Code-on-Git/HW3/Problem_1.ipynb#W4sZmlsZQ%3D%3D?line=11'>12</a>\u001b[0m ret, corners \u001b[39m=\u001b[39m cv\u001b[39m.\u001b[39mfindChessboardCorners(gray1, (\u001b[39m7\u001b[39m,\u001b[39m10\u001b[39m), cv\u001b[39m.\u001b[39mCALIB_CB_ADAPTIVE_THRESH \u001b[39m+\u001b[39m cv\u001b[39m.\u001b[39mCALIB_CB_FAST_CHECK \u001b[39m+\u001b[39m cv\u001b[39m.\u001b[39mCALIB_CB_NORMALIZE_IMAGE \u001b[39m+\u001b[39m cv\u001b[39m.\u001b[39mCALIB_USE_INTRINSIC_GUESS)\n",
      "\u001b[1;31merror\u001b[0m: OpenCV(4.6.0) D:\\a\\opencv-python\\opencv-python\\opencv\\modules\\imgproc\\src\\color.cpp:182: error: (-215:Assertion failed) !_src.empty() in function 'cv::cvtColor'\n"
     ]
    }
   ],
   "source": [
    "import numpy as np\n",
    "import cv2 as cv\n",
    "from PIL import Image\n",
    "import matplotlib.pyplot as plt\n",
    "\n",
    "img1 = cv.imread(\"checker9.jpg\")\n",
    "#img1 = cv.resize(img1, (960, 540))      \n",
    "gray1 = cv.cvtColor(img1,cv.COLOR_BGR2GRAY)\n",
    "\n",
    "criteria = (cv.TERM_CRITERIA_EPS + cv.TERM_CRITERIA_MAX_ITER, 30, 0.001)\n",
    "\n",
    "ret, corners = cv.findChessboardCorners(gray1, (7,10), cv.CALIB_CB_ADAPTIVE_THRESH + cv.CALIB_CB_FAST_CHECK + cv.CALIB_CB_NORMALIZE_IMAGE + cv.CALIB_USE_INTRINSIC_GUESS)\n",
    "\n",
    "if ret == True:\n",
    "    corners2 = cv.cornerSubPix(gray1,corners, (11,11), (-1,-1),criteria)\n",
    "     # Draw and display the corners\n",
    "    cv.drawChessboardCorners(img1, (7,10), corners2, ret)\n",
    "    cv.imshow('img', img1)\n",
    "    cv.waitKey(0)\n",
    "    cv.destroyAllWindows()\n",
    "else:\n",
    "    print(\"Not Found\")\n"
   ]
  }
 ],
 "metadata": {
  "kernelspec": {
   "display_name": "Python 3.9.13 ('base')",
   "language": "python",
   "name": "python3"
  },
  "language_info": {
   "codemirror_mode": {
    "name": "ipython",
    "version": 3
   },
   "file_extension": ".py",
   "mimetype": "text/x-python",
   "name": "python",
   "nbconvert_exporter": "python",
   "pygments_lexer": "ipython3",
   "version": "3.9.13"
  },
  "orig_nbformat": 4,
  "vscode": {
   "interpreter": {
    "hash": "ad2bdc8ecc057115af97d19610ffacc2b4e99fae6737bb82f5d7fb13d2f2c186"
   }
  }
 },
 "nbformat": 4,
 "nbformat_minor": 2
}
