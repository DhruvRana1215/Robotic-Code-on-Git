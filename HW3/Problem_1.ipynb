{
 "cells": [
  {
   "cell_type": "code",
   "execution_count": 3,
   "metadata": {},
   "outputs": [
    {
     "name": "stdout",
     "output_type": "stream",
     "text": [
      "Not Found\n"
     ]
    }
   ],
   "source": [
    "import numpy as np\n",
    "import cv2 as cv\n",
    "from PIL import Image\n",
    "import matplotlib.pyplot as plt\n",
    "\n",
    "img1 = cv.imread(\"checker9\n",
    "                 .jpg\")\n",
    "img1 = cv.resize(img1, (960, 540))      \n",
    "gray1 = cv.cvtColor(img1,cv.COLOR_BGR2GRAY)\n",
    "\n",
    "criteria = (cv.TERM_CRITERIA_EPS + cv.TERM_CRITERIA_MAX_ITER, 30, 0.001)\n",
    "\n",
    "ret, corners = cv.findChessboardCorners(gray1, (7,10), cv.CALIB_CB_ADAPTIVE_THRESH + cv.CALIB_CB_FAST_CHECK + cv.CALIB_CB_NORMALIZE_IMAGE + cv.CALIB_USE_INTRINSIC_GUESS)\n",
    "\n",
    "if ret == True:\n",
    "    corners2 = cv.cornerSubPix(gray1,corners, (11,11), (-1,-1),criteria)\n",
    "     # Draw and display the corners\n",
    "    cv.drawChessboardCorners(img1, (7,10), corners2, ret)\n",
    "    cv.imshow('img', img1)\n",
    "    cv.waitKey(0)\n",
    "    cv.destroyAllWindows()\n",
    "else:\n",
    "    print(\"Not Found\")\n"
   ]
  }
 ],
 "metadata": {
  "kernelspec": {
   "display_name": "Python 3.9.13 ('base')",
   "language": "python",
   "name": "python3"
  },
  "language_info": {
   "codemirror_mode": {
    "name": "ipython",
    "version": 3
   },
   "file_extension": ".py",
   "mimetype": "text/x-python",
   "name": "python",
   "nbconvert_exporter": "python",
   "pygments_lexer": "ipython3",
   "version": "3.9.13"
  },
  "orig_nbformat": 4,
  "vscode": {
   "interpreter": {
    "hash": "ad2bdc8ecc057115af97d19610ffacc2b4e99fae6737bb82f5d7fb13d2f2c186"
   }
  }
 },
 "nbformat": 4,
 "nbformat_minor": 2
}
