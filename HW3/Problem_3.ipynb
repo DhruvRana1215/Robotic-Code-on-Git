{
 "cells": [
  {
   "cell_type": "code",
   "execution_count": 34,
   "metadata": {},
   "outputs": [],
   "source": [
    "import numpy as np\n",
    "import cv2 as cv\n",
    "import matplotlib.pyplot as plt\n",
    "import glob\n",
    "\n",
    "# I tired using an iphone but due to high res (12MP) it was taking too long\n",
    "# Thus I decided to use my webcam and forced it to a 0.9MP (1280x720) and it speeded up the process  \n",
    "\n",
    "CHECKERBOARD_DIM = (7,10)\n",
    "\n",
    "\n",
    "# Make corresponding 3D world points (assuming each square is 1 unit away)\n",
    "# (0,0,0) (1,0,0) ... (6,0,0) (0,1,0)...(6,1,0) (0,9,0)..(6,9,0) Only inner points of checker\n",
    "objectPoints_3D = np.zeros((1, CHECKERBOARD_DIM[0]* CHECKERBOARD_DIM[1],3), np.float32)\n",
    "objectPoints_3D[0, :, :2] = np.mgrid[0:CHECKERBOARD_DIM[0],0:CHECKERBOARD_DIM[1]].T.reshape(-1, 2)\n",
    "\n",
    "temp = objectPoints_3D[:,:,0].copy()\n",
    "#objectPoints_3D[:,:,0] = objectPoints_3D[:,:,1][:,::-1]\n",
    "#objectPoints_3D[:,:,1] = temp\n",
    "\n"
   ]
  }
 ],
 "metadata": {
  "kernelspec": {
   "display_name": "Python 3.10.7 64-bit",
   "language": "python",
   "name": "python3"
  },
  "language_info": {
   "codemirror_mode": {
    "name": "ipython",
    "version": 3
   },
   "file_extension": ".py",
   "mimetype": "text/x-python",
   "name": "python",
   "nbconvert_exporter": "python",
   "pygments_lexer": "ipython3",
   "version": "3.10.7"
  },
  "orig_nbformat": 4,
  "vscode": {
   "interpreter": {
    "hash": "369f2c481f4da34e4445cda3fffd2e751bd1c4d706f27375911949ba6bb62e1c"
   }
  }
 },
 "nbformat": 4,
 "nbformat_minor": 2
}
